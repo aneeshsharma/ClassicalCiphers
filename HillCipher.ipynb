{
 "cells": [
  {
   "cell_type": "markdown",
   "metadata": {},
   "source": [
    "# Hill Cipher"
   ]
  },
  {
   "cell_type": "markdown",
   "metadata": {},
   "source": [
    "Hill cipher is a cipher technique to encrypt plain text using key as a matrix.\n",
    "Assume the key matrix is K and we need to encrypt plain text P, then cipher text C would be -\n",
    "C = P x K\n",
    "We must make sure that dimensions of P and K are compatible for multiplication and inverse of K should exist.\n",
    "\n",
    "We would take the key K's dimension as 4x4. So, dimension of C and P must be n x 4."
   ]
  },
  {
   "cell_type": "markdown",
   "metadata": {},
   "source": [
    "## Implementation"
   ]
  },
  {
   "cell_type": "markdown",
   "metadata": {},
   "source": [
    "Firstly we define an encoding function that will be used to take plaintext and convert it to a 26 character encoding. (By converting all letters to upper case and discarding all remaining characters). We also add padding character Z to the end of the string to make the length a multiple of 4 (if needed)\n",
    "\n",
    "Also, let M = 4 be the dimension of the square key matrix."
   ]
  },
  {
   "cell_type": "code",
   "execution_count": 152,
   "metadata": {},
   "outputs": [],
   "source": [
    "M = 4"
   ]
  },
  {
   "cell_type": "code",
   "execution_count": 153,
   "metadata": {},
   "outputs": [],
   "source": [
    "def encode(string):\n",
    "    result = ''\n",
    "    for letter in string:\n",
    "        if letter.isalpha():\n",
    "            result += letter.upper()\n",
    "    padding_length = (M - len(result)) % M\n",
    "    return result + 'Z' * padding_length\n",
    "\n",
    "def decode(string):\n",
    "    return string.rstrip('Z')"
   ]
  },
  {
   "cell_type": "markdown",
   "metadata": {},
   "source": [
    "Lets declare a plain text that we would need to encrypt."
   ]
  },
  {
   "cell_type": "code",
   "execution_count": 154,
   "metadata": {},
   "outputs": [],
   "source": [
    "P = 'This is another plain text.'"
   ]
  },
  {
   "cell_type": "markdown",
   "metadata": {},
   "source": [
    "Encoding this string, we get -"
   ]
  },
  {
   "cell_type": "code",
   "execution_count": 155,
   "metadata": {},
   "outputs": [
    {
     "name": "stdout",
     "output_type": "stream",
     "text": [
      "THISISANOTHERPLAINTEXTZZ\n"
     ]
    }
   ],
   "source": [
    "T = encode(P)\n",
    "print(T)"
   ]
  },
  {
   "cell_type": "markdown",
   "metadata": {},
   "source": [
    "Since we will be only having 26 characters, we declare Zp as closed ring of 26 integers."
   ]
  },
  {
   "cell_type": "code",
   "execution_count": 156,
   "metadata": {},
   "outputs": [
    {
     "name": "stdout",
     "output_type": "stream",
     "text": [
      "Ring of integers modulo 26\n"
     ]
    }
   ],
   "source": [
    "Zp = Integers(26)\n",
    "print(Zp)"
   ]
  },
  {
   "cell_type": "markdown",
   "metadata": {},
   "source": [
    "We now declare a key matrix for the encryption."
   ]
  },
  {
   "cell_type": "code",
   "execution_count": 163,
   "metadata": {},
   "outputs": [
    {
     "name": "stdout",
     "output_type": "stream",
     "text": [
      "[22 21  3 10]\n",
      "[ 6 21  2  4]\n",
      "[18 11 25  5]\n",
      "[ 7 20 22 21]\n",
      "WVDKGVCESLZFHUWV\n"
     ]
    }
   ],
   "source": [
    "elements = [[randint(0, 25) for _ in range(M)] for __ in range(M)]\n",
    "key_m = matrix(Zp, M, M, elements)\n",
    "while True:\n",
    "    elements = [[randint(0, 25) for _ in range(M)] for __ in range(M)]\n",
    "    key_m = matrix(Zp, M, M, elements)\n",
    "    try:\n",
    "        key_m.inverse()\n",
    "        break\n",
    "    except Exception as e:\n",
    "        continue\n",
    "\n",
    "# function to convert matrix to text\n",
    "def matrix_to_text(mat):\n",
    "    text = ''\n",
    "    for row in mat:\n",
    "        for e in row:\n",
    "            text += chr(int(e) + ord('A'))\n",
    "    return text\n",
    "\n",
    "# function to convert text to matrix with M\n",
    "def text_to_matrix(string):\n",
    "    text_elements = []\n",
    "    for i in range(0, len(string), M):\n",
    "        text_elements.append([ord(x) - ord('A') for x in list(string[i:i+M])])\n",
    "    return matrix(Zp, len(string) / M, M, text_elements)\n",
    "    \n",
    "print(key_m)\n",
    "key = matrix_to_text(key_m)\n",
    "print(key)"
   ]
  },
  {
   "cell_type": "markdown",
   "metadata": {},
   "source": [
    "Using the definition of hill cipher, we can encrypt each character of text using -\n",
    "\n",
    "C = P x K\n",
    "\n",
    "We must also add padding characters 'Z' at the end of the plain text to make the length a multiple of M(=4) and then convert the text into a matrix."
   ]
  },
  {
   "cell_type": "code",
   "execution_count": 164,
   "metadata": {},
   "outputs": [],
   "source": [
    "def hillcipher(text, cipher_key):\n",
    "    cipher = ''\n",
    "    \n",
    "    key_mat = text_to_matrix(cipher_key)\n",
    "    \n",
    "    text_matrix = text_to_matrix(text)\n",
    "    cipher_matrix = text_matrix * key_mat\n",
    "    \n",
    "    cipher = matrix_to_text(cipher_matrix)\n",
    "    \n",
    "    return cipher\n",
    "    \n",
    "\n",
    "def hilldecipher(cipher_text, cipher_key):\n",
    "    text = ''\n",
    "    \n",
    "    cipher_matrix = text_to_matrix(cipher_text)\n",
    "    key_mat = text_to_matrix(cipher_key)\n",
    "    \n",
    "    text_matrix = cipher_matrix * key_mat.inverse()\n",
    "    \n",
    "    text = matrix_to_text(text_matrix)\n",
    "    return text"
   ]
  },
  {
   "cell_type": "markdown",
   "metadata": {},
   "source": [
    "Now we test the cipher and decipher algorithms by encrypting and decrypting the text P"
   ]
  },
  {
   "cell_type": "code",
   "execution_count": 165,
   "metadata": {},
   "outputs": [
    {
     "name": "stdout",
     "output_type": "stream",
     "text": [
      "Given text - \"This is another plain text.\"\n",
      "Encoded - THISISANOTHERPLAINTEXTZZ\n",
      "Key -\n",
      "WVDKGVCESLZFHUWV\n",
      "Cipher text - CGRMLAIJESFXMNSZACPZXTIU\n",
      "Decipher text - THISISANOTHERPLAINTEXTZZ\n",
      "Stripped text - THISISANOTHERPLAINTEXT\n"
     ]
    }
   ],
   "source": [
    "T = encode(P)\n",
    "C = hillcipher(T, key)\n",
    "D = hilldecipher(C, key)\n",
    "D_stripped = decode(D)\n",
    "print(f'Given text - \"{P}\"')\n",
    "print(f'Encoded - {T}')\n",
    "print(f'Key -\\n{key}')\n",
    "print(f'Cipher text - {C}')\n",
    "print(f'Decipher text - {D}')\n",
    "print(f'Stripped text - {D_stripped}')"
   ]
  },
  {
   "cell_type": "markdown",
   "metadata": {},
   "source": [
    "## Test Against Builtin Cipher"
   ]
  },
  {
   "cell_type": "markdown",
   "metadata": {},
   "source": [
    "Now, we can test the result against the built in Hill Cipher in sagemath."
   ]
  },
  {
   "cell_type": "code",
   "execution_count": 167,
   "metadata": {},
   "outputs": [
    {
     "name": "stdout",
     "output_type": "stream",
     "text": [
      "Text - This is another plain text.\n",
      "Encoded - THISISANOTHERPLAINTEXTZZ\n",
      "Key -\bWVDKGVCESLZFHUWV\n",
      "Cipher text - CGRMLAIJESFXMNSZACPZXTIU\n",
      "Decipher text - THISISANOTHERPLAINTEXTZZ\n",
      "Stripped text - THISISANOTHERPLAINTEXT\n"
     ]
    }
   ],
   "source": [
    "A = HillCryptosystem(AlphabeticStrings(), 4)\n",
    "E = A.encoding(encode(P))\n",
    "print(f'Text - {P}')\n",
    "print(f'Encoded - {E}')\n",
    "print(f'Key -\\b{key}')\n",
    "C_test = A.enciphering(text_to_matrix(key), E)\n",
    "D_test = A.deciphering(text_to_matrix(key), C_test)\n",
    "\n",
    "# convert to python string\n",
    "C_test = str(C_test)\n",
    "D_test = str(D_test)\n",
    "D_test_stripped = decode(D_test)\n",
    "\n",
    "print(f'Cipher text - {C_test}')\n",
    "print(f'Decipher text - {D_test}')\n",
    "print(f'Stripped text - {D_test_stripped}')"
   ]
  },
  {
   "cell_type": "markdown",
   "metadata": {},
   "source": [
    "Comparing the built in cipher result with our implementation -"
   ]
  },
  {
   "cell_type": "code",
   "execution_count": 168,
   "metadata": {},
   "outputs": [
    {
     "name": "stdout",
     "output_type": "stream",
     "text": [
      "Results \t Implementation \t Built-in\n",
      "\n",
      "Cipher Text \t CGRMLAIJESFXMNSZACPZXTIU \t CGRMLAIJESFXMNSZACPZXTIU\n",
      "Decipher Text \t THISISANOTHERPLAINTEXTZZ \t THISISANOTHERPLAINTEXTZZ\n",
      "\n",
      "Implementation is CORRECT\n"
     ]
    }
   ],
   "source": [
    "print('Results \\t Implementation \\t Built-in\\n')\n",
    "print(f'Cipher Text \\t {C} \\t {C_test}')\n",
    "print(f'Decipher Text \\t {D} \\t {D_test}\\n')\n",
    "if C_test == C and D_test == D:\n",
    "    print('Implementation is CORRECT')\n",
    "else:\n",
    "    print('Implementatiokn is INCORRECT')"
   ]
  },
  {
   "cell_type": "markdown",
   "metadata": {},
   "source": [
    "## Cryptoanalysis"
   ]
  },
  {
   "cell_type": "markdown",
   "metadata": {},
   "source": [
    "Known plain text attack can be done on hill cipher. Simple matrix arithematic can be used to obtain the key if plain text and cipher text pair are known along with key size.\n",
    "\n",
    "We know that -\n",
    "C = P x K\n",
    "\n",
    "Therefore,\n",
    "K = (P^-1) * C\n",
    "\n",
    "Also, the plain text matrix should be invertible. So, we take an invertible 4x4 matrix and convert it to plain text."
   ]
  },
  {
   "cell_type": "code",
   "execution_count": 175,
   "metadata": {},
   "outputs": [
    {
     "name": "stdout",
     "output_type": "stream",
     "text": [
      "Taking plain text as - UVTEOEREVLPWYHCR\n"
     ]
    }
   ],
   "source": [
    "P_elems = [[randint(0, 25) for _ in range(M)] for __ in range(M)]\n",
    "P_mat = matrix(Zp, M, M, P_elems)\n",
    "while True:\n",
    "    P_elems = [[randint(0, 25) for _ in range(M)] for __ in range(M)]\n",
    "    P_mat = matrix(Zp, M, M, P_elems)\n",
    "    try:\n",
    "        P_mat.inverse()\n",
    "        break\n",
    "    except Exception as e:\n",
    "        continue\n",
    "P_attack = matrix_to_text(P_mat)\n",
    "print('Taking plain text as -', P_attack)"
   ]
  },
  {
   "cell_type": "markdown",
   "metadata": {},
   "source": [
    "We can now get the cipher text using the cipher function. In real world scenario, when using known plain text attack, we only have access to the encryption mechanism and not the key itself.\n",
    "\n",
    "Here, we assume that the function `hillcipher` is the mechanism we have access to but not the key itself."
   ]
  },
  {
   "cell_type": "code",
   "execution_count": 177,
   "metadata": {},
   "outputs": [
    {
     "name": "stdout",
     "output_type": "stream",
     "text": [
      "Cipher text received - AGPVQVRNQDILXZQL\n"
     ]
    }
   ],
   "source": [
    "C_attack = hillcipher(P_attack, key)\n",
    "print('Cipher text received -', C_attack)"
   ]
  },
  {
   "cell_type": "markdown",
   "metadata": {},
   "source": [
    "Now, we can convert the cipher text into cipher matrix and then calculate the key."
   ]
  },
  {
   "cell_type": "code",
   "execution_count": 181,
   "metadata": {},
   "outputs": [
    {
     "name": "stdout",
     "output_type": "stream",
     "text": [
      "Key calculated -  WVDKGVCESLZFHUWV\n"
     ]
    }
   ],
   "source": [
    "C_mat = text_to_matrix(C_attack)\n",
    "# calculate the key\n",
    "K_predict = P_mat.inverse() * C_mat\n",
    "K_predict_text = matrix_to_text(K_predict)\n",
    "print('Key calculated - ', K_predict_text)"
   ]
  },
  {
   "cell_type": "markdown",
   "metadata": {},
   "source": [
    "Now, compare the predicted key with the key we had to verify."
   ]
  },
  {
   "cell_type": "code",
   "execution_count": 182,
   "metadata": {},
   "outputs": [
    {
     "name": "stdout",
     "output_type": "stream",
     "text": [
      "Key cracked\n"
     ]
    }
   ],
   "source": [
    "if K_predict_text == key:\n",
    "    print('Key cracked')\n",
    "else:\n",
    "    print(\"Key wasn't cracked\")"
   ]
  }
 ],
 "metadata": {
  "kernelspec": {
   "display_name": "SageMath 9.1",
   "language": "sage",
   "name": "sagemath"
  },
  "language_info": {
   "codemirror_mode": {
    "name": "ipython",
    "version": 3
   },
   "file_extension": ".py",
   "mimetype": "text/x-python",
   "name": "python",
   "nbconvert_exporter": "python",
   "pygments_lexer": "ipython3",
   "version": "3.8.5"
  }
 },
 "nbformat": 4,
 "nbformat_minor": 4
}
