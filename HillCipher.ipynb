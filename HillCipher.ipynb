{
 "cells": [
  {
   "cell_type": "markdown",
   "metadata": {},
   "source": [
    "# Hill Cipher"
   ]
  },
  {
   "cell_type": "markdown",
   "metadata": {},
   "source": [
    "Hill cipher is a cipher technique to encrypt plain text using key as a matrix.\n",
    "Assume the key matrix is K and we need to encrypt plain text P, then cipher text C would be -\n",
    "C = P x K\n",
    "We must make sure that dimensions of P and K are compatible for multiplication and inverse of K should exist.\n",
    "\n",
    "We would take the key K's dimension as 4x4. So, dimension of C and P must be n x 4."
   ]
  },
  {
   "cell_type": "markdown",
   "metadata": {},
   "source": [
    "## Implementation"
   ]
  },
  {
   "cell_type": "markdown",
   "metadata": {},
   "source": [
    "Firstly we define an encoding function that will be used to take plaintext and convert it to a 26 character encoding. (By converting all letters to upper case and discarding all remaining characters). We also add padding character Z to the end of the string to make the length a multiple of 4 (if needed)\n",
    "\n",
    "Also, let M = 4 be the dimension of the square key matrix."
   ]
  },
  {
   "cell_type": "code",
   "execution_count": 122,
   "metadata": {},
   "outputs": [],
   "source": [
    "M = 4"
   ]
  },
  {
   "cell_type": "code",
   "execution_count": 123,
   "metadata": {},
   "outputs": [],
   "source": [
    "def encode(string):\n",
    "    result = ''\n",
    "    for letter in string:\n",
    "        if letter.isalpha():\n",
    "            result += letter.upper()\n",
    "    padding_length = (M - len(result)) % M\n",
    "    return result + 'Z' * padding_length\n",
    "\n",
    "def decode(string):\n",
    "    return string.rstrip('Z')"
   ]
  },
  {
   "cell_type": "markdown",
   "metadata": {},
   "source": [
    "Lets declare a plain text that we would need to encrypt."
   ]
  },
  {
   "cell_type": "code",
   "execution_count": 124,
   "metadata": {},
   "outputs": [],
   "source": [
    "P = 'This is another plain text.'"
   ]
  },
  {
   "cell_type": "markdown",
   "metadata": {},
   "source": [
    "Encoding this string, we get -"
   ]
  },
  {
   "cell_type": "code",
   "execution_count": 125,
   "metadata": {},
   "outputs": [
    {
     "name": "stdout",
     "output_type": "stream",
     "text": [
      "THISISANOTHERPLAINTEXTZZ\n"
     ]
    }
   ],
   "source": [
    "T = encode(P)\n",
    "print(T)"
   ]
  },
  {
   "cell_type": "markdown",
   "metadata": {},
   "source": [
    "Since we will be only having 26 characters, we declare Zp as closed ring of 26 integers."
   ]
  },
  {
   "cell_type": "code",
   "execution_count": 126,
   "metadata": {},
   "outputs": [
    {
     "name": "stdout",
     "output_type": "stream",
     "text": [
      "Ring of integers modulo 26\n"
     ]
    }
   ],
   "source": [
    "Zp = Integers(26)\n",
    "print(Zp)"
   ]
  },
  {
   "cell_type": "markdown",
   "metadata": {},
   "source": [
    "We now declare a key matrix for the encryption."
   ]
  },
  {
   "cell_type": "code",
   "execution_count": 127,
   "metadata": {},
   "outputs": [
    {
     "name": "stdout",
     "output_type": "stream",
     "text": [
      "[ 9  8  7 13]\n",
      "[25  1 10 22]\n",
      "[ 1 12 18  7]\n",
      "[23  5  0  9]\n"
     ]
    }
   ],
   "source": [
    "elements = [[randint(0, 25) for _ in range(M)] for __ in range(M)]\n",
    "key = matrix(Zp, M, M, elements)\n",
    "while True:\n",
    "    elements = [[randint(0, 25) for _ in range(M)] for __ in range(M)]\n",
    "    key = matrix(Zp, M, M, elements)\n",
    "    try:\n",
    "        key.inverse()\n",
    "        break\n",
    "    except Exception as e:\n",
    "        continue\n",
    "print(key)"
   ]
  },
  {
   "cell_type": "markdown",
   "metadata": {},
   "source": [
    "Using the definition of hill cipher, we can encrypt each character of text using -\n",
    "\n",
    "C = P x K\n",
    "\n",
    "We must also add padding characters 'Z' at the end of the plain text to make the length a multiple of M(=4) and then convert the text into a matrix."
   ]
  },
  {
   "cell_type": "code",
   "execution_count": 128,
   "metadata": {},
   "outputs": [],
   "source": [
    "def hillcipher(text, cipher_key):\n",
    "    cipher = ''\n",
    "    text_elements = []\n",
    "    for i in range(0, len(text), M):\n",
    "        text_elements.append([ord(x) - ord('A') for x in list(text[i:i+M])])\n",
    "    \n",
    "    text_matrix = matrix(Zp, len(text) / M, M, text_elements)\n",
    "    cipher_matrix = text_matrix * cipher_key\n",
    "    \n",
    "    for row in cipher_matrix:\n",
    "        for e in row:\n",
    "            cipher += chr(int(Zp(e)) + ord('A'))\n",
    "    \n",
    "    return cipher\n",
    "    \n",
    "\n",
    "def hilldecipher(cipher_text, cipher_key):\n",
    "    text = ''\n",
    "    \n",
    "    cipher_elements = []\n",
    "    \n",
    "    for i in range(0, len(cipher_text), M):\n",
    "        cipher_elements.append([ord(x) - ord('A') for x in list(cipher_text[i:i+M])])\n",
    "    \n",
    "    cipher_matrix = matrix(Zp, len(cipher_text)/M, M, cipher_elements)\n",
    "    \n",
    "    text_matrix = cipher_matrix * cipher_key.inverse()\n",
    "    \n",
    "    for row in text_matrix:\n",
    "        for e in row:\n",
    "            text += chr(int(Zp(e)) + ord('A'))\n",
    "    # remove any trailing Z's\n",
    "    # they are padding characters\n",
    "    return text"
   ]
  },
  {
   "cell_type": "markdown",
   "metadata": {},
   "source": [
    "Now we test the cipher and decipher algorithms by encrypting and decrypting the text P"
   ]
  },
  {
   "cell_type": "code",
   "execution_count": 135,
   "metadata": {},
   "outputs": [
    {
     "name": "stdout",
     "output_type": "stream",
     "text": [
      "Given text - \"This is another plain text.\"\n",
      "Encoded - THISISANOTHERPLAINTEXTZZ\n",
      "Key -\n",
      "[ 9  8  7 13]\n",
      "[25  1 10 22]\n",
      "[ 1 12 18  7]\n",
      "[23  5  0  9]\n",
      "Cipher text - OHJVPRCTYBYJTXZEONINIEVZ\n",
      "Decipher text - THISISANOTHERPLAINTEXTZZ\n",
      "Stripped text - THISISANOTHERPLAINTEXT\n"
     ]
    }
   ],
   "source": [
    "T = encode(P)\n",
    "C = hillcipher(T, key)\n",
    "D = hilldecipher(C, key)\n",
    "D_stripped = decode(D)\n",
    "print(f'Given text - \"{P}\"')\n",
    "print(f'Encoded - {T}')\n",
    "print(f'Key -\\n{key}')\n",
    "print(f'Cipher text - {C}')\n",
    "print(f'Decipher text - {D}')\n",
    "print(f'Stripped text - {D_stripped}')"
   ]
  },
  {
   "cell_type": "markdown",
   "metadata": {},
   "source": [
    "## Test Against Builtin Cipher"
   ]
  },
  {
   "cell_type": "markdown",
   "metadata": {},
   "source": [
    "Now, we can test the result against the built in Hill Cipher in sagemath."
   ]
  },
  {
   "cell_type": "code",
   "execution_count": 142,
   "metadata": {},
   "outputs": [
    {
     "name": "stdout",
     "output_type": "stream",
     "text": [
      "Text - This is another plain text.\n",
      "Encoded - THISISANOTHERPLAINTEXTZZ\n",
      "Key -\b[ 9  8  7 13]\n",
      "[25  1 10 22]\n",
      "[ 1 12 18  7]\n",
      "[23  5  0  9]\n",
      "Cipher text - OHJVPRCTYBYJTXZEONINIEVZ\n",
      "Decipher text - THISISANOTHERPLAINTEXTZZ\n",
      "Stripped text - THISISANOTHERPLAINTEXT\n"
     ]
    }
   ],
   "source": [
    "A = HillCryptosystem(AlphabeticStrings(), 4)\n",
    "E = A.encoding(encode(P))\n",
    "print(f'Text - {P}')\n",
    "print(f'Encoded - {E}')\n",
    "print(f'Key -\\b{key}')\n",
    "C_test = A.enciphering(key, E)\n",
    "D_test = A.deciphering(key, C_test)\n",
    "\n",
    "# convert to python string\n",
    "C_test = str(C_test)\n",
    "D_test = str(D_test)\n",
    "D_test_stripped = decode(D_test)\n",
    "\n",
    "print(f'Cipher text - {C_test}')\n",
    "print(f'Decipher text - {D_test}')\n",
    "print(f'Stripped text - {D_test_stripped}')"
   ]
  },
  {
   "cell_type": "markdown",
   "metadata": {},
   "source": [
    "Comparing the built in cipher result with our implementation -"
   ]
  },
  {
   "cell_type": "code",
   "execution_count": 143,
   "metadata": {},
   "outputs": [
    {
     "name": "stdout",
     "output_type": "stream",
     "text": [
      "Results \t Implementation \t Built-in\n",
      "\n",
      "Cipher Text \t OHJVPRCTYBYJTXZEONINIEVZ \t OHJVPRCTYBYJTXZEONINIEVZ\n",
      "Decipher Text \t THISISANOTHERPLAINTEXTZZ \t THISISANOTHERPLAINTEXTZZ\n",
      "\n",
      "Implementation is CORRECT\n"
     ]
    }
   ],
   "source": [
    "print('Results \\t Implementation \\t Built-in\\n')\n",
    "print(f'Cipher Text \\t {C} \\t {C_test}')\n",
    "print(f'Decipher Text \\t {D} \\t {D_test}\\n')\n",
    "if C_test == C and D_test == D:\n",
    "    print('Implementation is CORRECT')\n",
    "else:\n",
    "    print('Implementatiokn is INCORRECT')"
   ]
  },
  {
   "cell_type": "markdown",
   "metadata": {},
   "source": [
    "## Cryptoanalysis"
   ]
  }
 ],
 "metadata": {
  "kernelspec": {
   "display_name": "SageMath 9.1",
   "language": "sage",
   "name": "sagemath"
  },
  "language_info": {
   "codemirror_mode": {
    "name": "ipython",
    "version": 3
   },
   "file_extension": ".py",
   "mimetype": "text/x-python",
   "name": "python",
   "nbconvert_exporter": "python",
   "pygments_lexer": "ipython3",
   "version": "3.8.5"
  }
 },
 "nbformat": 4,
 "nbformat_minor": 4
}
