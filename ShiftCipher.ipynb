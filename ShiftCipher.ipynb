{
 "cells": [
  {
   "cell_type": "markdown",
   "metadata": {},
   "source": [
    "# Shift Cipher"
   ]
  },
  {
   "cell_type": "markdown",
   "metadata": {},
   "source": [
    "Shift cipher is an encryption technique, where all characters of given text are shifted by a certain amount determined by a key, which is an integer value.\n",
    "\n",
    "Assume a given text P needs to be encrypted using a key k, the cipher text C can be calculated as -\n",
    "C = P + k"
   ]
  },
  {
   "cell_type": "markdown",
   "metadata": {},
   "source": [
    "## Implementation"
   ]
  },
  {
   "cell_type": "markdown",
   "metadata": {},
   "source": [
    "Firstly we define an encoding function that will be used to take plaintext and convert it to a 26 character encoding. (By converting all letters to upper case and discarding all remaining characters)."
   ]
  },
  {
   "cell_type": "code",
   "execution_count": 60,
   "metadata": {},
   "outputs": [],
   "source": [
    "def encode(string):\n",
    "    result = ''\n",
    "    for letter in string:\n",
    "        if letter.isalpha():\n",
    "            result += letter.upper()\n",
    "    return result"
   ]
  },
  {
   "cell_type": "markdown",
   "metadata": {},
   "source": [
    "Lets declare a plain text that we would need to encrypt."
   ]
  },
  {
   "cell_type": "code",
   "execution_count": 61,
   "metadata": {},
   "outputs": [],
   "source": [
    "P = 'Enemy can attack tonight. Stay alert!'"
   ]
  },
  {
   "cell_type": "markdown",
   "metadata": {},
   "source": [
    "Encoding this string, we get -"
   ]
  },
  {
   "cell_type": "code",
   "execution_count": 62,
   "metadata": {},
   "outputs": [
    {
     "name": "stdout",
     "output_type": "stream",
     "text": [
      "ENEMYCANATTACKTONIGHTSTAYALERT\n"
     ]
    }
   ],
   "source": [
    "T = encode(P)\n",
    "print(T)"
   ]
  },
  {
   "cell_type": "markdown",
   "metadata": {},
   "source": [
    "Since we will be only having 26 characters, we declare Zp as closed ring of 26 integers."
   ]
  },
  {
   "cell_type": "code",
   "execution_count": 63,
   "metadata": {},
   "outputs": [
    {
     "name": "stdout",
     "output_type": "stream",
     "text": [
      "Ring of integers modulo 26\n"
     ]
    }
   ],
   "source": [
    "Zp = Integers(26)\n",
    "print(Zp)"
   ]
  },
  {
   "cell_type": "markdown",
   "metadata": {},
   "source": [
    "We now declare a key matrix for the encryption by choosing a key at random from the key domain."
   ]
  },
  {
   "cell_type": "code",
   "execution_count": 64,
   "metadata": {},
   "outputs": [],
   "source": [
    "from random import choice\n",
    "k_domain = [i for i in range(26)] # integers from 0 to 25 (included)\n",
    "key = choice(k_domain)"
   ]
  },
  {
   "cell_type": "code",
   "execution_count": 65,
   "metadata": {},
   "outputs": [
    {
     "name": "stdout",
     "output_type": "stream",
     "text": [
      "Key -  9\n"
     ]
    }
   ],
   "source": [
    "print('Key - ', key)"
   ]
  },
  {
   "cell_type": "code",
   "execution_count": 66,
   "metadata": {},
   "outputs": [],
   "source": [
    "def shiftcipher(text, cipher_key):\n",
    "    cipher = ''\n",
    "    \n",
    "    for e in text:\n",
    "        text_value = ord(e) - ord('A')\n",
    "        cipher_value = (text_value + cipher_key) % 26\n",
    "        cipher += chr(int(cipher_value + ord('A')))\n",
    "    return cipher\n",
    "    \n",
    "\n",
    "def shiftdecipher(cipher_text, cipher_key):\n",
    "    text = ''\n",
    "    for e in cipher_text:\n",
    "        cipher_value = ord(e) - ord('A')\n",
    "        text_value = (cipher_value - cipher_key) % 26\n",
    "        text += chr(int(text_value + ord('A')))\n",
    "    return text"
   ]
  },
  {
   "cell_type": "markdown",
   "metadata": {},
   "source": [
    "Now we test the cipher and decipher algorithms by encrypting and decrypting the text P"
   ]
  },
  {
   "cell_type": "code",
   "execution_count": 67,
   "metadata": {},
   "outputs": [
    {
     "name": "stdout",
     "output_type": "stream",
     "text": [
      "Given text - \"Enemy can attack tonight. Stay alert!\"\n",
      "Encoded - ENEMYCANATTACKTONIGHTSTAYALERT\n",
      "Key - 9\n",
      "Cipher text - NWNVHLJWJCCJLTCXWRPQCBCJHJUNAC\n",
      "Decipher text - ENEMYCANATTACKTONIGHTSTAYALERT\n"
     ]
    }
   ],
   "source": [
    "T = encode(P)\n",
    "C = shiftcipher(T, key)\n",
    "D = shiftdecipher(C, key)\n",
    "print(f'Given text - \"{P}\"')\n",
    "print(f'Encoded - {T}')\n",
    "print(f'Key - {key}')\n",
    "print(f'Cipher text - {C}')\n",
    "print(f'Decipher text - {D}')"
   ]
  },
  {
   "cell_type": "markdown",
   "metadata": {},
   "source": [
    "## Test Against Builtin Cipher"
   ]
  },
  {
   "cell_type": "markdown",
   "metadata": {},
   "source": [
    "Now, we can test the result against the built in Hill Cipher in sagemath."
   ]
  },
  {
   "cell_type": "code",
   "execution_count": 68,
   "metadata": {},
   "outputs": [
    {
     "name": "stdout",
     "output_type": "stream",
     "text": [
      "Text - Enemy can attack tonight. Stay alert!\n",
      "Encoded - ENEMYCANATTACKTONIGHTSTAYALERT\n",
      "Key -\b9\n",
      "Cipher text - NWNVHLJWJCCJLTCXWRPQCBCJHJUNAC\n",
      "Decipher text - ENEMYCANATTACKTONIGHTSTAYALERT\n"
     ]
    }
   ],
   "source": [
    "A = ShiftCryptosystem(AlphabeticStrings())\n",
    "E = A.encoding(encode(P))\n",
    "print(f'Text - {P}')\n",
    "print(f'Encoded - {E}')\n",
    "print(f'Key -\\b{key}')\n",
    "C_test = A.enciphering(key, E)\n",
    "D_test = A.deciphering(key, C_test)\n",
    "\n",
    "# convert to python string\n",
    "C_test = str(C_test)\n",
    "D_test = str(D_test)\n",
    "\n",
    "print(f'Cipher text - {C_test}')\n",
    "print(f'Decipher text - {D_test}')"
   ]
  },
  {
   "cell_type": "markdown",
   "metadata": {},
   "source": [
    "Comparing the built in cipher result with our implementation -"
   ]
  },
  {
   "cell_type": "code",
   "execution_count": 69,
   "metadata": {},
   "outputs": [
    {
     "name": "stdout",
     "output_type": "stream",
     "text": [
      "Results \t Implementation \t Built-in\n",
      "\n",
      "Cipher Text \t NWNVHLJWJCCJLTCXWRPQCBCJHJUNAC \t NWNVHLJWJCCJLTCXWRPQCBCJHJUNAC\n",
      "Decipher Text \t ENEMYCANATTACKTONIGHTSTAYALERT \t ENEMYCANATTACKTONIGHTSTAYALERT\n",
      "\n",
      "Implementation is CORRECT\n"
     ]
    }
   ],
   "source": [
    "print('Results \\t Implementation \\t Built-in\\n')\n",
    "print(f'Cipher Text \\t {C} \\t {C_test}')\n",
    "print(f'Decipher Text \\t {D} \\t {D_test}\\n')\n",
    "if C_test == C and D_test == D:\n",
    "    print('Implementation is CORRECT')\n",
    "else:\n",
    "    print('Implementatiokn is INCORRECT')"
   ]
  },
  {
   "cell_type": "markdown",
   "metadata": {},
   "source": [
    "## Cryptoanalysis"
   ]
  },
  {
   "cell_type": "markdown",
   "metadata": {},
   "source": [
    "### Brute Force"
   ]
  },
  {
   "cell_type": "markdown",
   "metadata": {},
   "source": [
    "Since the key domain for shift cipher, a brute force attack is very easy to carry out, making this cipher very weak."
   ]
  },
  {
   "cell_type": "code",
   "execution_count": 70,
   "metadata": {},
   "outputs": [
    {
     "name": "stdout",
     "output_type": "stream",
     "text": [
      "Total keys - 26\n"
     ]
    }
   ],
   "source": [
    "print('Total keys -', len(k_domain))"
   ]
  },
  {
   "cell_type": "markdown",
   "metadata": {},
   "source": [
    "We must now get a list of english words that can be used to detect existence of english words in our bruteforced decipher text.\n",
    "\n",
    "A good list of 3000 most used english words is here -\n",
    "https://github.com/aneeshsharma/EnglishWords/raw/main/common3000.txt\n",
    "\n",
    "We download the list of words and convert it to a list and then convert all words into upper case."
   ]
  },
  {
   "cell_type": "code",
   "execution_count": 71,
   "metadata": {},
   "outputs": [],
   "source": [
    "import requests\n",
    "url = 'https://github.com/aneeshsharma/EnglishWords/raw/main/common3000.txt'\n",
    "\n",
    "words_file = requests.get(url, allow_redirects=True)\n",
    "words_file_obj = open('words.txt', 'wb')\n",
    "words_file_obj.write(words_file.content)\n",
    "words_file_obj.close()"
   ]
  },
  {
   "cell_type": "code",
   "execution_count": 72,
   "metadata": {},
   "outputs": [],
   "source": [
    "words = open('words.txt').read().split()\n",
    "words = [word.upper() for word in words]"
   ]
  },
  {
   "cell_type": "code",
   "execution_count": 73,
   "metadata": {},
   "outputs": [
    {
     "name": "stdout",
     "output_type": "stream",
     "text": [
      "Number of words in dictionary - 3000\n"
     ]
    }
   ],
   "source": [
    "print(f'Number of words in dictionary - {len(words)}')"
   ]
  },
  {
   "cell_type": "markdown",
   "metadata": {},
   "source": [
    "A function can be defined to find all substrings in a string that are among the 3000 most common english words. This can give us a measure of the likelihood of the string being an english sentance."
   ]
  },
  {
   "cell_type": "code",
   "execution_count": 74,
   "metadata": {},
   "outputs": [],
   "source": [
    "# function to find english words in a string according to word list\n",
    "def find_words(string):\n",
    "    l = len(string)\n",
    "    found = []\n",
    "    for i in range(l):\n",
    "        for j in range(i, l):\n",
    "            word = string[i:j+1]\n",
    "            if len(word) <= 1:\n",
    "                continue\n",
    "            if word in words:\n",
    "                found.append(string[i:j+1])\n",
    "    return found"
   ]
  },
  {
   "cell_type": "markdown",
   "metadata": {},
   "source": [
    "Now, we must try to decipher the encrypted text using the list of keys we have and try to compare and count any english words found in the text. More the words detected, more likely is it that the key is correct."
   ]
  },
  {
   "cell_type": "code",
   "execution_count": 75,
   "metadata": {},
   "outputs": [
    {
     "name": "stdout",
     "output_type": "stream",
     "text": [
      "Key \t\t Likelihood\n",
      "2 \t\t 4\n",
      "9 \t\t 10\n",
      "20 \t\t 4\n"
     ]
    }
   ],
   "source": [
    "keys = {}\n",
    "max_words = 0\n",
    "for candidate in k_domain:\n",
    "    candidate_text = shiftdecipher(C, candidate)\n",
    "    found = find_words(candidate_text)\n",
    "    if len(found) > 3:\n",
    "        if len(found) > max_words:\n",
    "            max_words = len(found)\n",
    "        keys[candidate] = len(found)\n",
    "\n",
    "print('Key \\t\\t Likelihood')\n",
    "for likely_key in keys:\n",
    "    print(f'{likely_key} \\t\\t {keys[likely_key]}')"
   ]
  },
  {
   "cell_type": "markdown",
   "metadata": {},
   "source": [
    "Now that we have a list of keys and their likelihood of being correct, we can display the keys and the possible plain text that are the most likely to be correct."
   ]
  },
  {
   "cell_type": "code",
   "execution_count": 76,
   "metadata": {},
   "outputs": [
    {
     "name": "stdout",
     "output_type": "stream",
     "text": [
      "Most likely strings -\n",
      "ENEMYCANATTACKTONIGHTSTAYALERT\n"
     ]
    }
   ],
   "source": [
    "text_list = [[] for _ in range(max_words + 1)]\n",
    "for likely_key in keys:\n",
    "    count = keys[likely_key]\n",
    "    text_list[count].append(shiftdecipher(C, likely_key))\n",
    "\n",
    "print('Most likely strings -')\n",
    "for text in text_list[max_words]:\n",
    "    print(f'{text}')"
   ]
  },
  {
   "cell_type": "markdown",
   "metadata": {},
   "source": [
    "### Statistical Mono"
   ]
  },
  {
   "cell_type": "code",
   "execution_count": null,
   "metadata": {},
   "outputs": [],
   "source": []
  }
 ],
 "metadata": {
  "kernelspec": {
   "display_name": "SageMath 9.1",
   "language": "sage",
   "name": "sagemath"
  },
  "language_info": {
   "codemirror_mode": {
    "name": "ipython",
    "version": 3
   },
   "file_extension": ".py",
   "mimetype": "text/x-python",
   "name": "python",
   "nbconvert_exporter": "python",
   "pygments_lexer": "ipython3",
   "version": "3.8.5"
  }
 },
 "nbformat": 4,
 "nbformat_minor": 4
}
