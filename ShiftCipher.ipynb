{
 "cells": [
  {
   "cell_type": "markdown",
   "metadata": {},
   "source": [
    "# Shift Cipher"
   ]
  },
  {
   "cell_type": "markdown",
   "metadata": {},
   "source": [
    "Shift cipher is an encryption technique, where all characters of given text are shifted by a certain amount determined by a key, which is an integer value.\n",
    "\n",
    "Assume a given text P needs to be encrypted using a key k, the cipher text C can be calculated as -\n",
    "C = P + k"
   ]
  },
  {
   "cell_type": "markdown",
   "metadata": {},
   "source": [
    "## Implementation"
   ]
  },
  {
   "cell_type": "markdown",
   "metadata": {},
   "source": [
    "Firstly we define an encoding function that will be used to take plaintext and convert it to a 26 character encoding. (By converting all letters to upper case and discarding all remaining characters)."
   ]
  },
  {
   "cell_type": "code",
   "execution_count": 1,
   "metadata": {},
   "outputs": [],
   "source": [
    "def encode(string):\n",
    "    result = ''\n",
    "    for letter in string:\n",
    "        if letter.isalpha():\n",
    "            result += letter.upper()\n",
    "    return result"
   ]
  },
  {
   "cell_type": "markdown",
   "metadata": {},
   "source": [
    "Lets declare a plain text that we would need to encrypt."
   ]
  },
  {
   "cell_type": "code",
   "execution_count": 4,
   "metadata": {},
   "outputs": [],
   "source": [
    "P = 'This is a plain text.'"
   ]
  },
  {
   "cell_type": "markdown",
   "metadata": {},
   "source": [
    "Encoding this string, we get -"
   ]
  },
  {
   "cell_type": "code",
   "execution_count": 5,
   "metadata": {},
   "outputs": [
    {
     "name": "stdout",
     "output_type": "stream",
     "text": [
      "THISISAPLAINTEXT\n"
     ]
    }
   ],
   "source": [
    "T = encode(P)\n",
    "print(T)"
   ]
  },
  {
   "cell_type": "markdown",
   "metadata": {},
   "source": [
    "Since we will be only having 26 characters, we declare Zp as closed ring of 26 integers."
   ]
  },
  {
   "cell_type": "code",
   "execution_count": 6,
   "metadata": {},
   "outputs": [
    {
     "name": "stdout",
     "output_type": "stream",
     "text": [
      "Ring of integers modulo 26\n"
     ]
    }
   ],
   "source": [
    "Zp = Integers(26)\n",
    "print(Zp)"
   ]
  },
  {
   "cell_type": "markdown",
   "metadata": {},
   "source": [
    "We now declare a key matrix for the encryption by choosing a key at random from the key domain."
   ]
  },
  {
   "cell_type": "code",
   "execution_count": 13,
   "metadata": {},
   "outputs": [],
   "source": [
    "from random import choice\n",
    "k_domain = [i for i in range(26)] # integers from 0 to 25 (included)\n",
    "key = choice(k_domain)"
   ]
  },
  {
   "cell_type": "code",
   "execution_count": 14,
   "metadata": {},
   "outputs": [
    {
     "name": "stdout",
     "output_type": "stream",
     "text": [
      "Key -  13\n"
     ]
    }
   ],
   "source": [
    "print('Key - ', key)"
   ]
  },
  {
   "cell_type": "code",
   "execution_count": 22,
   "metadata": {},
   "outputs": [],
   "source": [
    "def shiftcipher(text, cipher_key):\n",
    "    cipher = ''\n",
    "    \n",
    "    for e in text:\n",
    "        text_value = ord(e) - ord('A')\n",
    "        cipher_value = (text_value + cipher_key) % 26\n",
    "        cipher += chr(int(cipher_value + ord('A')))\n",
    "    return cipher\n",
    "    \n",
    "\n",
    "def shiftdecipher(cipher_text, cipher_key):\n",
    "    text = ''\n",
    "    for e in cipher_text:\n",
    "        cipher_value = ord(e) - ord('A')\n",
    "        text_value = (cipher_value - cipher_key) % 26\n",
    "        text += chr(int(text_value + ord('A')))\n",
    "    return text"
   ]
  },
  {
   "cell_type": "markdown",
   "metadata": {},
   "source": [
    "Now we test the cipher and decipher algorithms by encrypting and decrypting the text P"
   ]
  },
  {
   "cell_type": "code",
   "execution_count": 23,
   "metadata": {},
   "outputs": [
    {
     "name": "stdout",
     "output_type": "stream",
     "text": [
      "Given text - \"This is a plain text.\"\n",
      "Encoded - THISISAPLAINTEXT\n",
      "Key - 13\n",
      "Cipher text - GUVFVFNCYNVAGRKG\n",
      "Decipher text - THISISAPLAINTEXT\n"
     ]
    }
   ],
   "source": [
    "T = encode(P)\n",
    "C = shiftcipher(T, key)\n",
    "D = shiftdecipher(C, key)\n",
    "print(f'Given text - \"{P}\"')\n",
    "print(f'Encoded - {T}')\n",
    "print(f'Key - {key}')\n",
    "print(f'Cipher text - {C}')\n",
    "print(f'Decipher text - {D}')"
   ]
  },
  {
   "cell_type": "markdown",
   "metadata": {},
   "source": [
    "## Test Against Builtin Cipher"
   ]
  },
  {
   "cell_type": "markdown",
   "metadata": {},
   "source": [
    "Now, we can test the result against the built in Hill Cipher in sagemath."
   ]
  },
  {
   "cell_type": "code",
   "execution_count": 26,
   "metadata": {},
   "outputs": [
    {
     "name": "stdout",
     "output_type": "stream",
     "text": [
      "Text - This is a plain text.\n",
      "Encoded - THISISAPLAINTEXT\n",
      "Key -\b13\n",
      "Cipher text - GUVFVFNCYNVAGRKG\n",
      "Decipher text - THISISAPLAINTEXT\n"
     ]
    }
   ],
   "source": [
    "A = ShiftCryptosystem(AlphabeticStrings())\n",
    "E = A.encoding(encode(P))\n",
    "print(f'Text - {P}')\n",
    "print(f'Encoded - {E}')\n",
    "print(f'Key -\\b{key}')\n",
    "C_test = A.enciphering(key, E)\n",
    "D_test = A.deciphering(key, C_test)\n",
    "\n",
    "# convert to python string\n",
    "C_test = str(C_test)\n",
    "D_test = str(D_test)\n",
    "\n",
    "print(f'Cipher text - {C_test}')\n",
    "print(f'Decipher text - {D_test}')"
   ]
  },
  {
   "cell_type": "markdown",
   "metadata": {},
   "source": [
    "Comparing the built in cipher result with our implementation -"
   ]
  },
  {
   "cell_type": "code",
   "execution_count": 27,
   "metadata": {},
   "outputs": [
    {
     "name": "stdout",
     "output_type": "stream",
     "text": [
      "Results \t Implementation \t Built-in\n",
      "\n",
      "Cipher Text \t GUVFVFNCYNVAGRKG \t GUVFVFNCYNVAGRKG\n",
      "Decipher Text \t THISISAPLAINTEXT \t THISISAPLAINTEXT\n",
      "\n",
      "Implementation is CORRECT\n"
     ]
    }
   ],
   "source": [
    "print('Results \\t Implementation \\t Built-in\\n')\n",
    "print(f'Cipher Text \\t {C} \\t {C_test}')\n",
    "print(f'Decipher Text \\t {D} \\t {D_test}\\n')\n",
    "if C_test == C and D_test == D:\n",
    "    print('Implementation is CORRECT')\n",
    "else:\n",
    "    print('Implementatiokn is INCORRECT')"
   ]
  },
  {
   "cell_type": "markdown",
   "metadata": {},
   "source": [
    "## Cryptoanalysis"
   ]
  }
 ],
 "metadata": {
  "kernelspec": {
   "display_name": "SageMath 9.1",
   "language": "sage",
   "name": "sagemath"
  },
  "language_info": {
   "codemirror_mode": {
    "name": "ipython",
    "version": 3
   },
   "file_extension": ".py",
   "mimetype": "text/x-python",
   "name": "python",
   "nbconvert_exporter": "python",
   "pygments_lexer": "ipython3",
   "version": "3.8.5"
  }
 },
 "nbformat": 4,
 "nbformat_minor": 4
}
