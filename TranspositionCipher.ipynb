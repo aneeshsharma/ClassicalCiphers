{
 "cells": [
  {
   "cell_type": "markdown",
   "metadata": {},
   "source": [
    "# Transposition Cipher"
   ]
  },
  {
   "cell_type": "markdown",
   "metadata": {},
   "source": [
    "Transposition cipher is a cipher technique where we shuffle the characters position of plain text in blocks. For example, if we choose a key length of 5, and decide the key as -\n",
    "\n",
    "(3, 4, 1, 5, 2)\n",
    "\n",
    "Then, on each block of 5 in the plain text, 1st character goes to position 3, 2nd to 4 and so on."
   ]
  },
  {
   "cell_type": "markdown",
   "metadata": {},
   "source": [
    "## Implementation"
   ]
  },
  {
   "cell_type": "markdown",
   "metadata": {},
   "source": [
    "Firstly we define an encoding function that will be used to take plaintext and convert it to a 26 character encoding. (By converting all letters to upper case and discarding all remaining characters). We will also add padding character Z to make the length a multiple of M.\n",
    "\n",
    "We also define M = 5 which will be the key length."
   ]
  },
  {
   "cell_type": "code",
   "execution_count": 64,
   "metadata": {},
   "outputs": [],
   "source": [
    "# key length\n",
    "M = 5"
   ]
  },
  {
   "cell_type": "code",
   "execution_count": 65,
   "metadata": {},
   "outputs": [],
   "source": [
    "def encode(string):\n",
    "    result = ''\n",
    "    for letter in string:\n",
    "        if letter.isalpha():\n",
    "            result += letter.upper()\n",
    "    padding_length = (M - len(result)) % M\n",
    "    return result + padding_length * 'Z'\n",
    "\n",
    "# remove padding characters\n",
    "def decode(string):\n",
    "    return string.rstrip('Z')"
   ]
  },
  {
   "cell_type": "markdown",
   "metadata": {},
   "source": [
    "Lets declare a plain text that we would need to encrypt."
   ]
  },
  {
   "cell_type": "code",
   "execution_count": 66,
   "metadata": {},
   "outputs": [],
   "source": [
    "P = 'Enemy might attack tonight. Stay alert!'"
   ]
  },
  {
   "cell_type": "markdown",
   "metadata": {},
   "source": [
    "Encoding this string, we get -"
   ]
  },
  {
   "cell_type": "code",
   "execution_count": 67,
   "metadata": {},
   "outputs": [
    {
     "name": "stdout",
     "output_type": "stream",
     "text": [
      "ENEMYMIGHTATTACKTONIGHTSTAYALERTZZZ\n"
     ]
    }
   ],
   "source": [
    "T = encode(P)\n",
    "print(T)"
   ]
  },
  {
   "cell_type": "markdown",
   "metadata": {},
   "source": [
    "Since we will be only having 26 characters, we declare Zp as closed ring of 26 integers."
   ]
  },
  {
   "cell_type": "code",
   "execution_count": 68,
   "metadata": {},
   "outputs": [
    {
     "name": "stdout",
     "output_type": "stream",
     "text": [
      "Ring of integers modulo 26\n"
     ]
    }
   ],
   "source": [
    "Zp = Integers(26)\n",
    "print(Zp)"
   ]
  },
  {
   "cell_type": "markdown",
   "metadata": {},
   "source": [
    "We now declare a key which is a permutation of numbers from 1 to M represented as sequence of characters."
   ]
  },
  {
   "cell_type": "code",
   "execution_count": 69,
   "metadata": {},
   "outputs": [],
   "source": [
    "characters = [chr(i + ord('A')) for i in range(M)]\n",
    "key = ''\n",
    "while len(characters) > 0:\n",
    "    i = randint(0, len(characters) - 1)\n",
    "    key += characters[i]\n",
    "    del characters[i]"
   ]
  },
  {
   "cell_type": "code",
   "execution_count": 70,
   "metadata": {},
   "outputs": [
    {
     "name": "stdout",
     "output_type": "stream",
     "text": [
      "Key - BCDAE\n"
     ]
    }
   ],
   "source": [
    "print('Key -', key)"
   ]
  },
  {
   "cell_type": "code",
   "execution_count": 82,
   "metadata": {},
   "outputs": [],
   "source": [
    "def transpositioncipher(text, cipher_key):\n",
    "    cipher = ''\n",
    "    for i in range(0, len(text), M):\n",
    "        # iterate over each block\n",
    "        block = text[i:i+M]\n",
    "        new_block = ['A' for _ in range(M)]\n",
    "        for j in range(M):\n",
    "            k = ord(cipher_key[j]) - ord('A')\n",
    "            new_block[j] = block[k]\n",
    "        for c in new_block:\n",
    "            cipher += c\n",
    "    return cipher\n",
    "    \n",
    "\n",
    "def transpositiondecipher(cipher_text, cipher_key):\n",
    "    text = ''\n",
    "    for i in range(0, len(cipher_text), M):\n",
    "        # iterate over each block\n",
    "        block = cipher_text[i:i+M]\n",
    "        new_block = ['A' for _ in range(M)]\n",
    "        for j in range(M):\n",
    "            k = ord(cipher_key[j]) - ord('A')\n",
    "            new_block[k] = block[j]\n",
    "        for c in new_block:\n",
    "            text += c\n",
    "    return text\n",
    "    "
   ]
  },
  {
   "cell_type": "markdown",
   "metadata": {},
   "source": [
    "Now we test the cipher and decipher algorithms by encrypting and decrypting the text P"
   ]
  },
  {
   "cell_type": "code",
   "execution_count": 83,
   "metadata": {},
   "outputs": [
    {
     "name": "stdout",
     "output_type": "stream",
     "text": [
      "Given text - \"Enemy might attack tonight. Stay alert!\"\n",
      "Encoded - ENEMYMIGHTATTACKTONIGHTSTAYALERTZZZ\n",
      "Key - BCDAE\n",
      "Cipher text - NEMEYIGHMTTTAACTONKIHTSGTYALAETZZRZ\n",
      "Decipher text - ENEMYMIGHTATTACKTONIGHTSTAYALERTZZZ\n",
      "Stripped text - ENEMYMIGHTATTACKTONIGHTSTAYALERT\n"
     ]
    }
   ],
   "source": [
    "T = encode(P)\n",
    "C = transpositioncipher(T, key)\n",
    "D = transpositiondecipher(C, key)\n",
    "D_stripped = decode(D)\n",
    "print(f'Given text - \"{P}\"')\n",
    "print(f'Encoded - {T}')\n",
    "print(f'Key - {key}')\n",
    "print(f'Cipher text - {C}')\n",
    "print(f'Decipher text - {D}')\n",
    "print(f'Stripped text - {D_stripped}')"
   ]
  },
  {
   "cell_type": "markdown",
   "metadata": {},
   "source": [
    "## Test Against Builtin Cipher"
   ]
  },
  {
   "cell_type": "markdown",
   "metadata": {},
   "source": [
    "Now, we can test the result against the built in Hill Cipher in sagemath."
   ]
  },
  {
   "cell_type": "code",
   "execution_count": 91,
   "metadata": {},
   "outputs": [
    {
     "name": "stdout",
     "output_type": "stream",
     "text": [
      "Text - Enemy might attack tonight. Stay alert!\n",
      "Encoded - ENEMYMIGHTATTACKTONIGHTSTAYALERTZZZ\n",
      "Key -\bBCDAE\n",
      "[4, 1, 2, 3, 5]\n",
      "Cipher text - NEMEYIGHMTTTAACTONKIHTSGTYALAETZZRZ\n",
      "Decipher text - ENEMYMIGHTATTACKTONIGHTSTAYALERTZZZ\n",
      "Stripped text - ENEMYMIGHTATTACKTONIGHTSTAYALERT\n"
     ]
    }
   ],
   "source": [
    "A = TranspositionCryptosystem(AlphabeticStrings(), M)\n",
    "E = A.encoding(encode(P))\n",
    "# sagemath cryptosystem expects key as an array\n",
    "K = [ord(c) - ord('A') + 1 for c in key]\n",
    "print(f'Text - {P}')\n",
    "print(f'Encoded - {E}')\n",
    "print(f'Key -\\b{key}')\n",
    "C_test = A.enciphering(K, E)\n",
    "\n",
    "# calculate the inverse key for K\n",
    "Ki = [1] * len(K)\n",
    "for i in range(len(K)):\n",
    "    Ki[K[i] - 1] = i + 1\n",
    "print(Ki)\n",
    "\n",
    "# encipher with inverse key is same as decipher with key\n",
    "D_test = A.enciphering(Ki, C_test)\n",
    "# convert to python string\n",
    "C_test = str(C_test)\n",
    "D_test = str(D_test)\n",
    "D_test_stripped = decode(D_test)\n",
    "print(f'Cipher text - {C_test}')\n",
    "print(f'Decipher text - {D_test}')\n",
    "print(f'Stripped text - {D_test_stripped}')"
   ]
  },
  {
   "cell_type": "markdown",
   "metadata": {},
   "source": [
    "Comparing the built in cipher result with our implementation -"
   ]
  },
  {
   "cell_type": "code",
   "execution_count": 92,
   "metadata": {},
   "outputs": [
    {
     "name": "stdout",
     "output_type": "stream",
     "text": [
      "Results \t Implementation \t Built-in\n",
      "--------------------------------------------------------------------------------\n",
      "Cipher Text \t NEMEYIGHMTTTAACTONKIHTSGTYALAETZZRZ \t NEMEYIGHMTTTAACTONKIHTSGTYALAETZZRZ\n",
      "Decipher Text \t ENEMYMIGHTATTACKTONIGHTSTAYALERTZZZ \t ENEMYMIGHTATTACKTONIGHTSTAYALERTZZZ\n",
      "\n",
      "Implementation is CORRECT\n"
     ]
    }
   ],
   "source": [
    "print('Results \\t Implementation \\t Built-in')\n",
    "print('-' * 80)\n",
    "print(f'Cipher Text \\t {C} \\t {C_test}')\n",
    "print(f'Decipher Text \\t {D} \\t {D_test}\\n')\n",
    "if C_test == C and D_test == D:\n",
    "    print('Implementation is CORRECT')\n",
    "else:\n",
    "    print('Implementatiokn is INCORRECT')"
   ]
  },
  {
   "cell_type": "markdown",
   "metadata": {},
   "source": [
    "## Cryptoanalysis"
   ]
  },
  {
   "cell_type": "markdown",
   "metadata": {},
   "source": [
    "### Brute Force"
   ]
  },
  {
   "cell_type": "markdown",
   "metadata": {},
   "source": [
    "Since the key domain for shift cipher, a brute force attack is very easy to carry out, making this cipher very weak."
   ]
  },
  {
   "cell_type": "code",
   "execution_count": 11,
   "metadata": {},
   "outputs": [
    {
     "name": "stdout",
     "output_type": "stream",
     "text": [
      "Total keys - 26\n"
     ]
    }
   ],
   "source": [
    "print('Total keys -', len(k_domain))"
   ]
  },
  {
   "cell_type": "markdown",
   "metadata": {},
   "source": [
    "We must now get a list of english words that can be used to detect existence of english words in our bruteforced decipher text.\n",
    "\n",
    "A good list of 3000 most used english words is here -\n",
    "https://github.com/aneeshsharma/EnglishWords/raw/main/common3000.txt\n",
    "\n",
    "We download the list of words and convert it to a list and then convert all words into upper case."
   ]
  },
  {
   "cell_type": "code",
   "execution_count": 12,
   "metadata": {},
   "outputs": [],
   "source": [
    "import requests\n",
    "url = 'https://github.com/aneeshsharma/EnglishWords/raw/main/common3000.txt'\n",
    "\n",
    "words_file = requests.get(url, allow_redirects=True)\n",
    "words_file_obj = open('words.txt', 'wb')\n",
    "words_file_obj.write(words_file.content)\n",
    "words_file_obj.close()"
   ]
  },
  {
   "cell_type": "code",
   "execution_count": 13,
   "metadata": {},
   "outputs": [],
   "source": [
    "words = open('words.txt').read().split()\n",
    "words = [word.upper() for word in words]"
   ]
  },
  {
   "cell_type": "code",
   "execution_count": 14,
   "metadata": {},
   "outputs": [
    {
     "name": "stdout",
     "output_type": "stream",
     "text": [
      "Number of words in dictionary - 3000\n"
     ]
    }
   ],
   "source": [
    "print(f'Number of words in dictionary - {len(words)}')"
   ]
  },
  {
   "cell_type": "markdown",
   "metadata": {},
   "source": [
    "A function can be defined to find all substrings in a string that are among the 3000 most common english words. This can give us a measure of the likelihood of the string being an english sentance."
   ]
  },
  {
   "cell_type": "code",
   "execution_count": 15,
   "metadata": {},
   "outputs": [],
   "source": [
    "# function to find english words in a string according to word list\n",
    "def find_words(string):\n",
    "    l = len(string)\n",
    "    found = []\n",
    "    for i in range(l):\n",
    "        for j in range(i, l):\n",
    "            word = string[i:j+1]\n",
    "            if len(word) <= 1:\n",
    "                continue\n",
    "            if word in words:\n",
    "                found.append(string[i:j+1])\n",
    "    return found"
   ]
  },
  {
   "cell_type": "markdown",
   "metadata": {},
   "source": [
    "Now, we must try to decipher the encrypted text using the list of keys we have and try to compare and count any english words found in the text. More the words detected, more likely is it that the key is correct."
   ]
  },
  {
   "cell_type": "code",
   "execution_count": 16,
   "metadata": {},
   "outputs": [
    {
     "name": "stdout",
     "output_type": "stream",
     "text": [
      "Key \t\t Likelihood\n",
      "9 \t\t 4\n",
      "17 \t\t 4\n",
      "24 \t\t 10\n"
     ]
    }
   ],
   "source": [
    "keys = {}\n",
    "max_words = 0\n",
    "for candidate in k_domain:\n",
    "    candidate_text = shiftdecipher(C, candidate)\n",
    "    found = find_words(candidate_text)\n",
    "    if len(found) > 3:\n",
    "        if len(found) > max_words:\n",
    "            max_words = len(found)\n",
    "        keys[candidate] = len(found)\n",
    "\n",
    "print('Key \\t\\t Likelihood')\n",
    "for likely_key in keys:\n",
    "    print(f'{likely_key} \\t\\t {keys[likely_key]}')"
   ]
  },
  {
   "cell_type": "markdown",
   "metadata": {},
   "source": [
    "Now that we have a list of keys and their likelihood of being correct, we can display the keys and the possible plain text that are the most likely to be correct."
   ]
  },
  {
   "cell_type": "code",
   "execution_count": 17,
   "metadata": {},
   "outputs": [
    {
     "name": "stdout",
     "output_type": "stream",
     "text": [
      "Most likely strings -\n",
      "ENEMYCANATTACKTONIGHTSTAYALERT\n"
     ]
    }
   ],
   "source": [
    "text_list = [[] for _ in range(max_words + 1)]\n",
    "for likely_key in keys:\n",
    "    count = keys[likely_key]\n",
    "    text_list[count].append(shiftdecipher(C, likely_key))\n",
    "\n",
    "print('Most likely strings -')\n",
    "for text in text_list[max_words]:\n",
    "    print(f'{text}')"
   ]
  },
  {
   "cell_type": "markdown",
   "metadata": {},
   "source": [
    "### Statistical Mono"
   ]
  },
  {
   "cell_type": "markdown",
   "metadata": {},
   "source": [
    "We get the frequency of all alphabets in English language. The file at - https://github.com/aneeshsharma/EnglishWords/blob/main/character_frequency.json is a json file with frequency of all letters in English language."
   ]
  },
  {
   "cell_type": "code",
   "execution_count": 18,
   "metadata": {},
   "outputs": [],
   "source": [
    "import requests\n",
    "url = 'https://github.com/aneeshsharma/EnglishWords/raw/main/character_frequency.json'\n",
    "\n",
    "characters_list = requests.get(url, allow_redirects=True)\n",
    "characters_file_obj = open('characters.json', 'wb')\n",
    "characters_file_obj.write(characters_list.content)\n",
    "characters_file_obj.close()"
   ]
  },
  {
   "cell_type": "code",
   "execution_count": 19,
   "metadata": {},
   "outputs": [],
   "source": [
    "def dict_to_sorted_tuple(d):\n",
    "    d = [(key, d[key]) for key in d]\n",
    "    return sorted(d, key=lambda item: -item[1])"
   ]
  },
  {
   "cell_type": "code",
   "execution_count": 20,
   "metadata": {},
   "outputs": [],
   "source": [
    "import json\n",
    "frequencies_file = json.loads(open('characters.json', 'r').read())\n",
    "frequencies = dict_to_sorted_tuple(frequencies_file)"
   ]
  },
  {
   "cell_type": "code",
   "execution_count": 21,
   "metadata": {},
   "outputs": [
    {
     "data": {
      "text/plain": [
       "[('E', 12.6),\n",
       " ('T', 9.37),\n",
       " ('A', 8.34),\n",
       " ('O', 7.7),\n",
       " ('N', 6.8),\n",
       " ('I', 6.71),\n",
       " ('H', 6.11),\n",
       " ('S', 6.11),\n",
       " ('R', 5.68),\n",
       " ('L', 4.24),\n",
       " ('D', 4.14),\n",
       " ('U', 2.85),\n",
       " ('C', 2.73),\n",
       " ('M', 2.53),\n",
       " ('W', 2.34),\n",
       " ('Y', 2.04),\n",
       " ('F', 2.03),\n",
       " ('G', 1.92),\n",
       " ('P', 1.66),\n",
       " ('B', 1.54),\n",
       " ('V', 1.06),\n",
       " ('K', 0.87),\n",
       " ('J', 0.23),\n",
       " ('X', 0.2),\n",
       " ('Q', 0.09),\n",
       " ('Z', 0.06)]"
      ]
     },
     "execution_count": 21,
     "metadata": {},
     "output_type": "execute_result"
    }
   ],
   "source": [
    "frequencies"
   ]
  },
  {
   "cell_type": "markdown",
   "metadata": {},
   "source": [
    "Now, we try to map the most frequent character in the cipher text to most frequent english letter and check, if not we try with the next most frequent enlglish letter and so on."
   ]
  },
  {
   "cell_type": "code",
   "execution_count": 22,
   "metadata": {},
   "outputs": [],
   "source": [
    "def frequency(string):\n",
    "    f = {}\n",
    "    for x in string:\n",
    "        if x in f:\n",
    "            f[x] += 1\n",
    "        else:\n",
    "            f[x] = 1\n",
    "    return f"
   ]
  },
  {
   "cell_type": "code",
   "execution_count": 23,
   "metadata": {},
   "outputs": [],
   "source": [
    "C_freq = dict_to_sorted_tuple(frequency(C))"
   ]
  },
  {
   "cell_type": "code",
   "execution_count": 24,
   "metadata": {},
   "outputs": [
    {
     "name": "stdout",
     "output_type": "stream",
     "text": [
      "Key \t\t Likelihood\n",
      "24 \t\t 10\n",
      "17 \t\t 4\n",
      "9 \t\t 4\n"
     ]
    }
   ],
   "source": [
    "statistic_keys = {}\n",
    "max_words = 0\n",
    "for freq in frequencies:\n",
    "    letter = freq[0]\n",
    "    candidate = (ord(C_freq[0][0]) - ord(letter)) % 26\n",
    "    candidate_text = shiftdecipher(C, candidate)\n",
    "    found = find_words(candidate_text)\n",
    "    if len(found) > 3:\n",
    "        if len(found) > max_words:\n",
    "            max_words = len(found)\n",
    "        statistic_keys[candidate] = len(found)\n",
    "\n",
    "print('Key \\t\\t Likelihood')\n",
    "for likely_key in statistic_keys:\n",
    "    print(f'{likely_key} \\t\\t {keys[likely_key]}')"
   ]
  },
  {
   "cell_type": "code",
   "execution_count": 25,
   "metadata": {},
   "outputs": [
    {
     "name": "stdout",
     "output_type": "stream",
     "text": [
      "Most likely strings -\n",
      "ENEMYCANATTACKTONIGHTSTAYALERT\n"
     ]
    }
   ],
   "source": [
    "text_list = [[] for _ in range(max_words + 1)]\n",
    "for likely_key in statistic_keys:\n",
    "    count = keys[likely_key]\n",
    "    text_list[count].append(shiftdecipher(C, likely_key))\n",
    "\n",
    "print('Most likely strings -')\n",
    "for text in text_list[max_words]:\n",
    "    print(f'{text}')"
   ]
  },
  {
   "cell_type": "code",
   "execution_count": null,
   "metadata": {},
   "outputs": [],
   "source": []
  }
 ],
 "metadata": {
  "kernelspec": {
   "display_name": "SageMath 9.1",
   "language": "sage",
   "name": "sagemath"
  },
  "language_info": {
   "codemirror_mode": {
    "name": "ipython",
    "version": 3
   },
   "file_extension": ".py",
   "mimetype": "text/x-python",
   "name": "python",
   "nbconvert_exporter": "python",
   "pygments_lexer": "ipython3",
   "version": "3.8.5"
  }
 },
 "nbformat": 4,
 "nbformat_minor": 4
}
