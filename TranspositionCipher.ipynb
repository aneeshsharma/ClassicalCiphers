{
 "cells": [
  {
   "cell_type": "markdown",
   "metadata": {},
   "source": [
    "# Transposition Cipher"
   ]
  },
  {
   "cell_type": "markdown",
   "metadata": {},
   "source": [
    "Transposition cipher is a cipher technique where we shuffle the characters position of plain text in blocks. For example, if we choose a key length of 5, and decide the key as -\n",
    "\n",
    "(3, 4, 1, 5, 2)\n",
    "\n",
    "Then, on each block of 5 in the plain text, 1st character goes to position 3, 2nd to 4 and so on."
   ]
  },
  {
   "cell_type": "markdown",
   "metadata": {},
   "source": [
    "## Implementation"
   ]
  },
  {
   "cell_type": "markdown",
   "metadata": {},
   "source": [
    "Firstly we define an encoding function that will be used to take plaintext and convert it to a 26 character encoding. (By converting all letters to upper case and discarding all remaining characters). We will also add padding character Z to make the length a multiple of M.\n",
    "\n",
    "We also define M = 5 which will be the key length."
   ]
  },
  {
   "cell_type": "code",
   "execution_count": 154,
   "metadata": {},
   "outputs": [],
   "source": [
    "# key length\n",
    "M = 5"
   ]
  },
  {
   "cell_type": "code",
   "execution_count": 155,
   "metadata": {},
   "outputs": [],
   "source": [
    "def encode(string):\n",
    "    result = ''\n",
    "    for letter in string:\n",
    "        if letter.isalpha():\n",
    "            result += letter.upper()\n",
    "    padding_length = (M - len(result)) % M\n",
    "    return result + padding_length * 'Z'\n",
    "\n",
    "# remove padding characters\n",
    "def decode(string):\n",
    "    return string.rstrip('Z')"
   ]
  },
  {
   "cell_type": "markdown",
   "metadata": {},
   "source": [
    "Lets declare a plain text that we would need to encrypt."
   ]
  },
  {
   "cell_type": "code",
   "execution_count": 156,
   "metadata": {},
   "outputs": [],
   "source": [
    "P = 'Enemy might attack tonight. Stay alert!'"
   ]
  },
  {
   "cell_type": "markdown",
   "metadata": {},
   "source": [
    "Encoding this string, we get -"
   ]
  },
  {
   "cell_type": "code",
   "execution_count": 157,
   "metadata": {},
   "outputs": [
    {
     "name": "stdout",
     "output_type": "stream",
     "text": [
      "ENEMYMIGHTATTACKTONIGHTSTAYALERTZZZ\n"
     ]
    }
   ],
   "source": [
    "T = encode(P)\n",
    "print(T)"
   ]
  },
  {
   "cell_type": "markdown",
   "metadata": {},
   "source": [
    "Since we will be only having 26 characters, we declare Zp as closed ring of 26 integers."
   ]
  },
  {
   "cell_type": "code",
   "execution_count": 158,
   "metadata": {},
   "outputs": [
    {
     "name": "stdout",
     "output_type": "stream",
     "text": [
      "Ring of integers modulo 26\n"
     ]
    }
   ],
   "source": [
    "Zp = Integers(26)\n",
    "print(Zp)"
   ]
  },
  {
   "cell_type": "markdown",
   "metadata": {},
   "source": [
    "We now declare a key which is a permutation of numbers from 1 to M represented as sequence of characters."
   ]
  },
  {
   "cell_type": "code",
   "execution_count": 159,
   "metadata": {},
   "outputs": [],
   "source": [
    "characters = [chr(i + ord('A')) for i in range(M)]\n",
    "key = ''\n",
    "while len(characters) > 0:\n",
    "    i = randint(0, len(characters) - 1)\n",
    "    key += characters[i]\n",
    "    del characters[i]"
   ]
  },
  {
   "cell_type": "code",
   "execution_count": 160,
   "metadata": {},
   "outputs": [
    {
     "name": "stdout",
     "output_type": "stream",
     "text": [
      "Key - CEDBA\n"
     ]
    }
   ],
   "source": [
    "print('Key -', key)"
   ]
  },
  {
   "cell_type": "code",
   "execution_count": 161,
   "metadata": {},
   "outputs": [],
   "source": [
    "def transpositioncipher(text, cipher_key):\n",
    "    cipher = ''\n",
    "    for i in range(0, len(text), M):\n",
    "        # iterate over each block\n",
    "        block = text[i:i+M]\n",
    "        new_block = ['A' for _ in range(M)]\n",
    "        for j in range(M):\n",
    "            k = ord(cipher_key[j]) - ord('A')\n",
    "            new_block[j] = block[k]\n",
    "        for c in new_block:\n",
    "            cipher += c\n",
    "    return cipher\n",
    "    \n",
    "\n",
    "def transpositiondecipher(cipher_text, cipher_key):\n",
    "    text = ''\n",
    "    for i in range(0, len(cipher_text), M):\n",
    "        # iterate over each block\n",
    "        block = cipher_text[i:i+M]\n",
    "        new_block = ['A' for _ in range(M)]\n",
    "        for j in range(M):\n",
    "            k = ord(cipher_key[j]) - ord('A')\n",
    "            new_block[k] = block[j]\n",
    "        for c in new_block:\n",
    "            text += c\n",
    "    return text\n",
    "    "
   ]
  },
  {
   "cell_type": "markdown",
   "metadata": {},
   "source": [
    "Now we test the cipher and decipher algorithms by encrypting and decrypting the text P"
   ]
  },
  {
   "cell_type": "code",
   "execution_count": 162,
   "metadata": {},
   "outputs": [
    {
     "name": "stdout",
     "output_type": "stream",
     "text": [
      "Given text - \"Enemy might attack tonight. Stay alert!\"\n",
      "Encoded - ENEMYMIGHTATTACKTONIGHTSTAYALERTZZZ\n",
      "Key - CEDBA\n",
      "Cipher text - EYMNEGTHIMTCATAOINTKTTSHGAELYAZZZTR\n",
      "Decipher text - ENEMYMIGHTATTACKTONIGHTSTAYALERTZZZ\n",
      "Stripped text - ENEMYMIGHTATTACKTONIGHTSTAYALERT\n"
     ]
    }
   ],
   "source": [
    "T = encode(P)\n",
    "C = transpositioncipher(T, key)\n",
    "D = transpositiondecipher(C, key)\n",
    "D_stripped = decode(D)\n",
    "print(f'Given text - \"{P}\"')\n",
    "print(f'Encoded - {T}')\n",
    "print(f'Key - {key}')\n",
    "print(f'Cipher text - {C}')\n",
    "print(f'Decipher text - {D}')\n",
    "print(f'Stripped text - {D_stripped}')"
   ]
  },
  {
   "cell_type": "markdown",
   "metadata": {},
   "source": [
    "## Test Against Builtin Cipher"
   ]
  },
  {
   "cell_type": "markdown",
   "metadata": {},
   "source": [
    "Now, we can test the result against the built in Hill Cipher in sagemath."
   ]
  },
  {
   "cell_type": "code",
   "execution_count": 163,
   "metadata": {},
   "outputs": [
    {
     "name": "stdout",
     "output_type": "stream",
     "text": [
      "Text - Enemy might attack tonight. Stay alert!\n",
      "Encoded - ENEMYMIGHTATTACKTONIGHTSTAYALERTZZZ\n",
      "Key -\bCEDBA\n",
      "[5, 4, 1, 3, 2]\n",
      "Cipher text - EYMNEGTHIMTCATAOINTKTTSHGAELYAZZZTR\n",
      "Decipher text - ENEMYMIGHTATTACKTONIGHTSTAYALERTZZZ\n",
      "Stripped text - ENEMYMIGHTATTACKTONIGHTSTAYALERT\n"
     ]
    }
   ],
   "source": [
    "A = TranspositionCryptosystem(AlphabeticStrings(), M)\n",
    "E = A.encoding(encode(P))\n",
    "# sagemath cryptosystem expects key as an array\n",
    "K = [ord(c) - ord('A') + 1 for c in key]\n",
    "print(f'Text - {P}')\n",
    "print(f'Encoded - {E}')\n",
    "print(f'Key -\\b{key}')\n",
    "C_test = A.enciphering(K, E)\n",
    "\n",
    "# calculate the inverse key for K\n",
    "Ki = [1] * len(K)\n",
    "for i in range(len(K)):\n",
    "    Ki[K[i] - 1] = i + 1\n",
    "print(Ki)\n",
    "\n",
    "# encipher with inverse key is same as decipher with key\n",
    "D_test = A.enciphering(Ki, C_test)\n",
    "# convert to python string\n",
    "C_test = str(C_test)\n",
    "D_test = str(D_test)\n",
    "D_test_stripped = decode(D_test)\n",
    "print(f'Cipher text - {C_test}')\n",
    "print(f'Decipher text - {D_test}')\n",
    "print(f'Stripped text - {D_test_stripped}')"
   ]
  },
  {
   "cell_type": "markdown",
   "metadata": {},
   "source": [
    "Comparing the built in cipher result with our implementation -"
   ]
  },
  {
   "cell_type": "code",
   "execution_count": 164,
   "metadata": {},
   "outputs": [
    {
     "name": "stdout",
     "output_type": "stream",
     "text": [
      "Results \t Implementation \t Built-in\n",
      "--------------------------------------------------------------------------------\n",
      "Cipher Text \t EYMNEGTHIMTCATAOINTKTTSHGAELYAZZZTR \t EYMNEGTHIMTCATAOINTKTTSHGAELYAZZZTR\n",
      "Decipher Text \t ENEMYMIGHTATTACKTONIGHTSTAYALERTZZZ \t ENEMYMIGHTATTACKTONIGHTSTAYALERTZZZ\n",
      "\n",
      "Implementation is CORRECT\n"
     ]
    }
   ],
   "source": [
    "print('Results \\t Implementation \\t Built-in')\n",
    "print('-' * 80)\n",
    "print(f'Cipher Text \\t {C} \\t {C_test}')\n",
    "print(f'Decipher Text \\t {D} \\t {D_test}\\n')\n",
    "if C_test == C and D_test == D:\n",
    "    print('Implementation is CORRECT')\n",
    "else:\n",
    "    print('Implementatiokn is INCORRECT')"
   ]
  },
  {
   "cell_type": "markdown",
   "metadata": {},
   "source": [
    "## Cryptoanalysis"
   ]
  },
  {
   "cell_type": "markdown",
   "metadata": {},
   "source": [
    "### Brute Force"
   ]
  },
  {
   "cell_type": "markdown",
   "metadata": {},
   "source": [
    "A brute force attack can be executed on transposition cipher as the key domain is not very big. We can generate all possible keys by generating all possible permutations of numbers from 1 to M."
   ]
  },
  {
   "cell_type": "code",
   "execution_count": 165,
   "metadata": {},
   "outputs": [],
   "source": [
    "from itertools import permutations\n",
    "char_set = [chr(i + ord('A')) for i in range(M)]\n",
    "key_list = permutations(char_set)"
   ]
  },
  {
   "cell_type": "markdown",
   "metadata": {},
   "source": [
    "We must now get a list of english words that can be used to detect existence of english words in our bruteforced decipher text.\n",
    "\n",
    "A good list of 3000 most used english words is here -\n",
    "https://github.com/aneeshsharma/EnglishWords/raw/main/common3000.txt\n",
    "\n",
    "We download the list of words and convert it to a list"
   ]
  },
  {
   "cell_type": "code",
   "execution_count": 166,
   "metadata": {},
   "outputs": [],
   "source": [
    "import requests\n",
    "url = 'https://github.com/aneeshsharma/EnglishWords/raw/main/common3000.txt'\n",
    "\n",
    "words_file = requests.get(url, allow_redirects=True)\n",
    "words_file_obj = open('words.txt', 'wb')\n",
    "words_file_obj.write(words_file.content)\n",
    "words_file_obj.close()"
   ]
  },
  {
   "cell_type": "code",
   "execution_count": 167,
   "metadata": {},
   "outputs": [],
   "source": [
    "words = open('words.txt').read().split()\n",
    "words = [word.upper() for word in words]"
   ]
  },
  {
   "cell_type": "code",
   "execution_count": 168,
   "metadata": {},
   "outputs": [
    {
     "name": "stdout",
     "output_type": "stream",
     "text": [
      "Number of words in dictionary - 3000\n"
     ]
    }
   ],
   "source": [
    "print(f'Number of words in dictionary - {len(words)}')"
   ]
  },
  {
   "cell_type": "markdown",
   "metadata": {},
   "source": [
    "A function can be defined to find all substrings in a string that are among the 3000 most common english words. This can give us a measure of the likelihood of the string being an english sentance."
   ]
  },
  {
   "cell_type": "code",
   "execution_count": 169,
   "metadata": {},
   "outputs": [],
   "source": [
    "# function to find english words in a string according to word list\n",
    "def find_words(string):\n",
    "    l = len(string)\n",
    "    found = []\n",
    "    for i in range(l):\n",
    "        for j in range(i, l):\n",
    "            word = string[i:j+1]\n",
    "            if len(word) <= 1:\n",
    "                continue\n",
    "            if word in words:\n",
    "                found.append(string[i:j+1])\n",
    "    return found"
   ]
  },
  {
   "cell_type": "markdown",
   "metadata": {},
   "source": [
    "Now, we must try to decipher the encrypted text using the list of keys we have and try to compare and count any english words found in the text. More the words detected, more likely is it that the key is correct."
   ]
  },
  {
   "cell_type": "code",
   "execution_count": 170,
   "metadata": {
    "scrolled": true
   },
   "outputs": [
    {
     "name": "stdout",
     "output_type": "stream",
     "text": [
      "Key \t\t Likelihood\n",
      "ABCDE \t\t 5\n",
      "ABCED \t\t 6\n",
      "ABDCE \t\t 2\n",
      "ABDEC \t\t 6\n",
      "ABEDC \t\t 3\n",
      "ACBDE \t\t 4\n",
      "ACBED \t\t 6\n",
      "ACDBE \t\t 4\n",
      "ACDEB \t\t 8\n",
      "ACEBD \t\t 2\n",
      "ACEDB \t\t 3\n",
      "ADBCE \t\t 5\n",
      "ADBEC \t\t 6\n",
      "ADCBE \t\t 2\n",
      "ADCEB \t\t 6\n",
      "ADEBC \t\t 2\n",
      "ADECB \t\t 4\n",
      "AEBCD \t\t 6\n",
      "AEBDC \t\t 7\n",
      "AECBD \t\t 2\n",
      "AECDB \t\t 6\n",
      "AEDBC \t\t 4\n",
      "AEDCB \t\t 4\n",
      "BACDE \t\t 5\n",
      "BACED \t\t 5\n",
      "BADEC \t\t 5\n",
      "BAEDC \t\t 3\n",
      "BCADE \t\t 4\n",
      "BCAED \t\t 6\n",
      "BCDAE \t\t 5\n",
      "BCDEA \t\t 5\n",
      "BCEAD \t\t 3\n",
      "BCEDA \t\t 3\n",
      "BDACE \t\t 7\n",
      "BDAEC \t\t 7\n",
      "BDCAE \t\t 8\n",
      "BDCEA \t\t 5\n",
      "BDEAC \t\t 5\n",
      "BDECA \t\t 5\n",
      "BEACD \t\t 5\n",
      "BEADC \t\t 6\n",
      "BECAD \t\t 4\n",
      "BECDA \t\t 6\n",
      "BEDAC \t\t 5\n",
      "BEDCA \t\t 3\n",
      "CABDE \t\t 8\n",
      "CABED \t\t 8\n",
      "CADBE \t\t 4\n",
      "CADEB \t\t 7\n",
      "CAEBD \t\t 3\n",
      "CAEDB \t\t 3\n",
      "CBADE \t\t 2\n",
      "CBAED \t\t 4\n",
      "CBDAE \t\t 5\n",
      "CBDEA \t\t 5\n",
      "CBEAD \t\t 3\n",
      "CBEDA \t\t 2\n",
      "CDABE \t\t 5\n",
      "CDAEB \t\t 4\n",
      "CDBAE \t\t 8\n",
      "CDBEA \t\t 4\n",
      "CDEAB \t\t 4\n",
      "CDEBA \t\t 6\n",
      "CEABD \t\t 4\n",
      "CEADB \t\t 3\n",
      "CEBAD \t\t 5\n",
      "CEBDA \t\t 7\n",
      "CEDAB \t\t 5\n",
      "CEDBA \t\t 10\n",
      "DABCE \t\t 7\n",
      "DABEC \t\t 5\n",
      "DACBE \t\t 6\n",
      "DACEB \t\t 7\n",
      "DAEBC \t\t 3\n",
      "DAECB \t\t 5\n",
      "DBACE \t\t 5\n",
      "DBAEC \t\t 3\n",
      "DBCAE \t\t 9\n",
      "DBCEA \t\t 7\n",
      "DBEAC \t\t 5\n",
      "DBECA \t\t 4\n",
      "DCABE \t\t 5\n",
      "DCAEB \t\t 3\n",
      "DCBAE \t\t 5\n",
      "DCBEA \t\t 2\n",
      "DCEAB \t\t 4\n",
      "DCEBA \t\t 5\n",
      "DEABC \t\t 4\n",
      "DEACB \t\t 4\n",
      "DEBAC \t\t 2\n",
      "DEBCA \t\t 3\n",
      "DECAB \t\t 3\n",
      "DECBA \t\t 4\n",
      "EABCD \t\t 6\n",
      "EABDC \t\t 6\n",
      "EACBD \t\t 4\n",
      "EACDB \t\t 5\n",
      "EADBC \t\t 5\n",
      "EADCB \t\t 7\n",
      "EBACD \t\t 4\n",
      "EBADC \t\t 4\n",
      "EBCAD \t\t 6\n",
      "EBCDA \t\t 6\n",
      "EBDAC \t\t 6\n",
      "EBDCA \t\t 5\n",
      "ECABD \t\t 6\n",
      "ECADB \t\t 4\n",
      "ECBAD \t\t 5\n",
      "ECBDA \t\t 5\n",
      "ECDAB \t\t 7\n",
      "ECDBA \t\t 9\n",
      "EDABC \t\t 5\n",
      "EDACB \t\t 4\n",
      "EDBAC \t\t 6\n",
      "EDBCA \t\t 6\n",
      "EDCAB \t\t 5\n",
      "EDCBA \t\t 5\n"
     ]
    }
   ],
   "source": [
    "keys = {}\n",
    "max_words = 0\n",
    "for candidate in key_list:\n",
    "    candidate = ''.join(candidate)\n",
    "    candidate_text = decode(transpositiondecipher(C, candidate))\n",
    "    found = find_words(candidate_text)\n",
    "    if len(found) > 1:\n",
    "        if len(found) > max_words:\n",
    "            max_words = len(found)\n",
    "        keys[candidate] = len(found)\n",
    "\n",
    "print('Key \\t\\t Likelihood')\n",
    "for likely_key in keys:\n",
    "    print(f'{likely_key} \\t\\t {keys[likely_key]}')"
   ]
  },
  {
   "cell_type": "markdown",
   "metadata": {},
   "source": [
    "Now that we have a list of keys and their likelihood of being correct, we can display the keys and the possible plain text that are the most likely to be correct."
   ]
  },
  {
   "cell_type": "code",
   "execution_count": 173,
   "metadata": {},
   "outputs": [
    {
     "name": "stdout",
     "output_type": "stream",
     "text": [
      "Most likely strings -\n",
      "ENEMYMIGHTATTACKTONIGHTSTAYALERT\n"
     ]
    }
   ],
   "source": [
    "text_list = [[] for _ in range(max_words + 1)]\n",
    "for likely_key in keys:\n",
    "    count = keys[likely_key]\n",
    "    text_list[count].append(decode(transpositiondecipher(C, likely_key)))\n",
    "\n",
    "print('Most likely strings -')\n",
    "for text in text_list[max_words]:\n",
    "    print(f'{text}')"
   ]
  },
  {
   "cell_type": "markdown",
   "metadata": {},
   "source": [
    "Hence, we get a string/list of strings that are most likely to be the correct plain text."
   ]
  }
 ],
 "metadata": {
  "kernelspec": {
   "display_name": "SageMath 9.1",
   "language": "sage",
   "name": "sagemath"
  },
  "language_info": {
   "codemirror_mode": {
    "name": "ipython",
    "version": 3
   },
   "file_extension": ".py",
   "mimetype": "text/x-python",
   "name": "python",
   "nbconvert_exporter": "python",
   "pygments_lexer": "ipython3",
   "version": "3.8.5"
  }
 },
 "nbformat": 4,
 "nbformat_minor": 4
}
