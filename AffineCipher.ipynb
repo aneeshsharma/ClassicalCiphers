{
 "cells": [
  {
   "cell_type": "markdown",
   "metadata": {},
   "source": [
    "# Affine Cipher"
   ]
  },
  {
   "cell_type": "markdown",
   "metadata": {},
   "source": [
    "Affine cipher is a cipher technique to encrypt plain text using a 2 part key.\n",
    "Assume we have the key pair (k1, k2) we can encrypt a plain text say P, we calculate the cipher text C as -\n",
    "\n",
    "C = (P x k1 + k2) mod 26 (assuming we are limited to 26 character alphabet)"
   ]
  },
  {
   "cell_type": "markdown",
   "metadata": {},
   "source": [
    "## Implementation"
   ]
  },
  {
   "cell_type": "markdown",
   "metadata": {},
   "source": [
    "Firstly we define an encoding function that will be used to take plaintext and convert it to a 26 character encoding. (By converting all letters to upper case and discarding all remaining characters)"
   ]
  },
  {
   "cell_type": "code",
   "execution_count": 27,
   "metadata": {},
   "outputs": [],
   "source": [
    "def encode(string):\n",
    "    result = ''\n",
    "    for letter in string:\n",
    "        if letter.isalpha():\n",
    "            result += letter.upper()\n",
    "    return result"
   ]
  },
  {
   "cell_type": "markdown",
   "metadata": {},
   "source": [
    "Lets declare a plain text that we would need to encrypt."
   ]
  },
  {
   "cell_type": "code",
   "execution_count": 28,
   "metadata": {},
   "outputs": [],
   "source": [
    "P = 'This secret message needs to be encrypted'"
   ]
  },
  {
   "cell_type": "markdown",
   "metadata": {},
   "source": [
    "Encoding this string, we get -"
   ]
  },
  {
   "cell_type": "code",
   "execution_count": 29,
   "metadata": {},
   "outputs": [
    {
     "name": "stdout",
     "output_type": "stream",
     "text": [
      "THISSECRETMESSAGENEEDSTOBEENCRYPTED\n"
     ]
    }
   ],
   "source": [
    "T = encode(P)\n",
    "print(T)"
   ]
  },
  {
   "cell_type": "markdown",
   "metadata": {},
   "source": [
    "Since we will be only having 26 characters, we declare Zp as closed ring of 26 integers."
   ]
  },
  {
   "cell_type": "code",
   "execution_count": 30,
   "metadata": {},
   "outputs": [
    {
     "name": "stdout",
     "output_type": "stream",
     "text": [
      "Ring of integers modulo 26\n"
     ]
    }
   ],
   "source": [
    "Zp = Integers(26)\n",
    "print(Zp)"
   ]
  },
  {
   "cell_type": "markdown",
   "metadata": {},
   "source": [
    "We now declare a key pair (k1, k2) that we would be using to encrypt the plain text."
   ]
  },
  {
   "cell_type": "code",
   "execution_count": 31,
   "metadata": {},
   "outputs": [
    {
     "name": "stdout",
     "output_type": "stream",
     "text": [
      "Key - (11, 9)\n"
     ]
    }
   ],
   "source": [
    "from random import choice\n",
    "k1_domain = [int(x) for x in range(26) if gcd(x, 26) == 1]\n",
    "k2_domain = [int(x) for x in range(26)]\n",
    "key = k1, k2 = (Zp(choice(k1_domain)), Zp(choice(k2_domain)))\n",
    "print('Key -', key)"
   ]
  },
  {
   "cell_type": "markdown",
   "metadata": {},
   "source": [
    "Using the definition of affine cypher, we can encrypt each character of text using -\n",
    "\n",
    "C = (P x k1 + k2) mod 26"
   ]
  },
  {
   "cell_type": "code",
   "execution_count": 32,
   "metadata": {},
   "outputs": [],
   "source": [
    "def affinecipher(text, cipher_key):\n",
    "    cipher = ''\n",
    "    k1, k2 = cipher_key\n",
    "    for letter in text:\n",
    "        text_value = (ord(letter) - ord('A')) % 26 # convert letter to its numerical value\n",
    "        \n",
    "        cipher_value = (text_value * k1 + k2) % 26 # convert to cipher value\n",
    "        \n",
    "        cipher += chr(int(cipher_value) + ord('A')) # conver cipher value to character\n",
    "        \n",
    "    return cipher\n",
    "\n",
    "def inv(x, m):\n",
    "    x = x % m\n",
    "    for i in range(m):\n",
    "        if (x * i) % m == 1:\n",
    "            return i\n",
    "    return 1\n",
    "\n",
    "def affinedecipher(cipher_text, cipher_key):\n",
    "    text = ''\n",
    "    k1, k2 = cipher_key\n",
    "    for letter in cipher_text:\n",
    "        cipher_value = (ord(letter) - ord('A')) % 26 # convert letter to its numerical value\n",
    "        \n",
    "        text_value = ((cipher_value - k2) * inv(k1, 26)) % 26 # convert to cipher value\n",
    "        \n",
    "        text += chr(int(text_value) + ord('A')) # conver cipher value to character\n",
    "        \n",
    "    return text"
   ]
  },
  {
   "cell_type": "code",
   "execution_count": 33,
   "metadata": {},
   "outputs": [
    {
     "name": "stdout",
     "output_type": "stream",
     "text": [
      "Given text - \"This secret message needs to be encrypted\"\n",
      "Encoded - THISSECRETMESSAGENEEDSTOBEENCRYPTED\n",
      "Key - (11, 9)\n",
      "Cipher text - KITZZBFOBKLBZZJXBWBBQZKHUBBWFONSKBQ\n",
      "Decipher text - THISSECRETMESSAGENEEDSTOBEENCRYPTED\n"
     ]
    }
   ],
   "source": [
    "T = encode(P)\n",
    "C = affinecipher(T, key)\n",
    "D = affinedecipher(C, key)\n",
    "print(f'Given text - \"{P}\"')\n",
    "print(f'Encoded - {T}')\n",
    "print(f'Key - {key}')\n",
    "print(f'Cipher text - {C}')\n",
    "print(f'Decipher text - {D}')"
   ]
  },
  {
   "cell_type": "markdown",
   "metadata": {},
   "source": [
    "## Test Against Builtin Cipher"
   ]
  },
  {
   "cell_type": "markdown",
   "metadata": {},
   "source": [
    "Now, we can test the result against the built in Affine Cipher in sagemath."
   ]
  },
  {
   "cell_type": "code",
   "execution_count": 34,
   "metadata": {},
   "outputs": [
    {
     "name": "stdout",
     "output_type": "stream",
     "text": [
      "Text - This secret message needs to be encrypted\n",
      "Encoded - THISSECRETMESSAGENEEDSTOBEENCRYPTED\n",
      "Key - (11, 9)\n",
      "Cipher text - KITZZBFOBKLBZZJXBWBBQZKHUBBWFONSKBQ\n",
      "Decipher text - THISSECRETMESSAGENEEDSTOBEENCRYPTED\n"
     ]
    }
   ],
   "source": [
    "A = AffineCryptosystem(AlphabeticStrings())\n",
    "E = A.encoding(P)\n",
    "print(f'Text - {P}')\n",
    "print(f'Encoded - {E}')\n",
    "print(f'Key - ({k1}, {k2})')\n",
    "C_test = A.enciphering(int(k1), int(k2), E)\n",
    "D_test = A.deciphering(int(k1), int(k2), C_test)\n",
    "\n",
    "# convert to python string\n",
    "C_test = str(C_test)\n",
    "D_test = str(D_test)\n",
    "print(f'Cipher text - {C_test}')\n",
    "print(f'Decipher text - {D_test}')"
   ]
  },
  {
   "cell_type": "markdown",
   "metadata": {},
   "source": [
    "Comparing the built in cipher result with our implementation -"
   ]
  },
  {
   "cell_type": "code",
   "execution_count": 35,
   "metadata": {},
   "outputs": [
    {
     "name": "stdout",
     "output_type": "stream",
     "text": [
      "Results \t Implementation \t Built-in\n",
      "\n",
      "Cipher Text \t KITZZBFOBKLBZZJXBWBBQZKHUBBWFONSKBQ \t KITZZBFOBKLBZZJXBWBBQZKHUBBWFONSKBQ\n",
      "Decipher Text \t THISSECRETMESSAGENEEDSTOBEENCRYPTED \t THISSECRETMESSAGENEEDSTOBEENCRYPTED\n",
      "\n",
      "Implementation is CORRECT\n"
     ]
    }
   ],
   "source": [
    "print('Results \\t Implementation \\t Built-in\\n')\n",
    "print(f'Cipher Text \\t {C} \\t {C_test}')\n",
    "print(f'Decipher Text \\t {D} \\t {D_test}\\n')\n",
    "if C_test == C and D_test == D:\n",
    "    print('Implementation is CORRECT')\n",
    "else:\n",
    "    print('Implementatiokn is INCORRECT')"
   ]
  },
  {
   "cell_type": "markdown",
   "metadata": {},
   "source": [
    "## Cryptoanalysis"
   ]
  },
  {
   "cell_type": "markdown",
   "metadata": {},
   "source": [
    "### Brute Force Attack"
   ]
  },
  {
   "cell_type": "markdown",
   "metadata": {},
   "source": [
    "Since we know the key domain for the given cipher algorithm, we can run a brute force attack on the cryptosystem using a list of keys possible within the domain."
   ]
  },
  {
   "cell_type": "code",
   "execution_count": 36,
   "metadata": {},
   "outputs": [
    {
     "name": "stdout",
     "output_type": "stream",
     "text": [
      "Total keys - 312\n"
     ]
    }
   ],
   "source": [
    "key_list = []\n",
    "for i in k1_domain:\n",
    "    for j in k2_domain:\n",
    "        t = (i, j)\n",
    "        key_list.append((i, j))\n",
    "print(f'Total keys - {len(key_list)}')"
   ]
  },
  {
   "cell_type": "markdown",
   "metadata": {},
   "source": [
    "We must now get a list of english words that can be used to detect existence of english words in our bruteforced decipher text.\n",
    "\n",
    "A good list of 3000 most used english words is here -\n",
    "https://github.com/aneeshsharma/EnglishWords/raw/main/common3000.txt\n",
    "\n",
    "We download the list of words and convert it to a list"
   ]
  },
  {
   "cell_type": "code",
   "execution_count": 37,
   "metadata": {},
   "outputs": [],
   "source": [
    "import requests\n",
    "url = 'https://github.com/aneeshsharma/EnglishWords/raw/main/common3000.txt'\n",
    "\n",
    "words_file = requests.get(url, allow_redirects=True)\n",
    "words_file_obj = open('words.txt', 'wb')\n",
    "words_file_obj.write(words_file.content)\n",
    "words_file_obj.close()"
   ]
  },
  {
   "cell_type": "code",
   "execution_count": 38,
   "metadata": {},
   "outputs": [],
   "source": [
    "words = open('words.txt').read().split()\n",
    "words = [word.upper() for word in words]"
   ]
  },
  {
   "cell_type": "code",
   "execution_count": 39,
   "metadata": {},
   "outputs": [
    {
     "name": "stdout",
     "output_type": "stream",
     "text": [
      "Number of words in dictionary - 3000\n"
     ]
    }
   ],
   "source": [
    "print(f'Number of words in dictionary - {len(words)}')"
   ]
  },
  {
   "cell_type": "code",
   "execution_count": 40,
   "metadata": {},
   "outputs": [],
   "source": [
    "# function to find english words in a string according to word list\n",
    "def find_words(string):\n",
    "    l = len(string)\n",
    "    found = []\n",
    "    for i in range(l):\n",
    "        for j in range(i, l):\n",
    "            word = string[i:j+1]\n",
    "            if len(word) <= 1:\n",
    "                continue\n",
    "            if word in words:\n",
    "                found.append(string[i:j+1])\n",
    "    return found"
   ]
  },
  {
   "cell_type": "markdown",
   "metadata": {},
   "source": [
    "Now, we must try to decipher the encrypted text using the list of keys we have and try to compare and count any english words found in the text. More the words detected, more likely is it that the key is correct."
   ]
  },
  {
   "cell_type": "code",
   "execution_count": 41,
   "metadata": {},
   "outputs": [
    {
     "name": "stdout",
     "output_type": "stream",
     "text": [
      "Key \t\t Likelihood\n",
      "(1, 3) \t\t 4\n",
      "(1, 7) \t\t 4\n",
      "(3, 7) \t\t 5\n",
      "(3, 15) \t\t 5\n",
      "(3, 17) \t\t 4\n",
      "(3, 22) \t\t 4\n",
      "(5, 1) \t\t 4\n",
      "(5, 5) \t\t 6\n",
      "(5, 9) \t\t 6\n",
      "(5, 22) \t\t 4\n",
      "(7, 1) \t\t 6\n",
      "(7, 6) \t\t 4\n",
      "(7, 7) \t\t 9\n",
      "(7, 23) \t\t 4\n",
      "(7, 25) \t\t 4\n",
      "(9, 1) \t\t 4\n",
      "(9, 5) \t\t 8\n",
      "(9, 9) \t\t 4\n",
      "(9, 14) \t\t 5\n",
      "(11, 9) \t\t 13\n",
      "(11, 24) \t\t 5\n",
      "(15, 0) \t\t 5\n",
      "(15, 12) \t\t 5\n",
      "(15, 14) \t\t 5\n",
      "(15, 23) \t\t 4\n",
      "(15, 25) \t\t 5\n",
      "(17, 1) \t\t 5\n",
      "(17, 14) \t\t 7\n",
      "(17, 21) \t\t 6\n",
      "(17, 23) \t\t 4\n",
      "(19, 3) \t\t 4\n",
      "(19, 5) \t\t 4\n",
      "(19, 8) \t\t 6\n",
      "(19, 14) \t\t 5\n",
      "(19, 15) \t\t 4\n",
      "(19, 19) \t\t 4\n",
      "(19, 22) \t\t 4\n",
      "(21, 5) \t\t 5\n",
      "(21, 10) \t\t 6\n",
      "(21, 14) \t\t 5\n",
      "(21, 24) \t\t 5\n",
      "(23, 0) \t\t 7\n",
      "(23, 1) \t\t 5\n",
      "(23, 9) \t\t 5\n",
      "(23, 17) \t\t 6\n",
      "(25, 5) \t\t 4\n",
      "(25, 9) \t\t 6\n",
      "(25, 15) \t\t 5\n",
      "(25, 19) \t\t 4\n"
     ]
    }
   ],
   "source": [
    "keys = {}\n",
    "max_words = 0\n",
    "for candidate in key_list:\n",
    "    candidate_text = affinedecipher(C, candidate)\n",
    "    found = find_words(candidate_text)\n",
    "    if len(found) > 3:\n",
    "        if len(found) > max_words:\n",
    "            max_words = len(found)\n",
    "        keys[candidate] = len(found)\n",
    "\n",
    "print('Key \\t\\t Likelihood')\n",
    "for likely_key in keys:\n",
    "    print(f'{likely_key} \\t\\t {keys[likely_key]}')"
   ]
  },
  {
   "cell_type": "markdown",
   "metadata": {},
   "source": [
    "Now that we have a list of keys and their likelihood of being correct, we can display the keys and the possible plain text that are the most likely to be correct."
   ]
  },
  {
   "cell_type": "code",
   "execution_count": 42,
   "metadata": {},
   "outputs": [
    {
     "name": "stdout",
     "output_type": "stream",
     "text": [
      "Most likely strings -\n",
      "THISSECRETMESSAGENEEDSTOBEENCRYPTED\n"
     ]
    }
   ],
   "source": [
    "text_list = [[] for _ in range(max_words + 1)]\n",
    "for likely_key in keys:\n",
    "    count = keys[likely_key]\n",
    "    text_list[count].append(affinedecipher(C, likely_key))\n",
    "\n",
    "print('Most likely strings -')\n",
    "for text in text_list[max_words]:\n",
    "    print(f'{text}')"
   ]
  },
  {
   "cell_type": "markdown",
   "metadata": {},
   "source": [
    "### Know Plain Text Attack"
   ]
  },
  {
   "cell_type": "markdown",
   "metadata": {},
   "source": [
    "A more effective method to crack the cryptosystem may be to encrypt a known plain text using the cryptosystem and then analyze the cipher text received. This is much faster than brute force but requires better access to the cryptosystem.\n",
    "\n",
    "Since the key is a 2 part key, we would need at least 2 pairs of characters in know plain text and cipher text to solve for k1 and k2.\n",
    "\n",
    "Also, since in the cryptosystem, A = 0, for A,\n",
    "\n",
    "C = 0 * k1 + k2 = k2\n",
    "\n",
    "Once we have k2, we can solve for k1 with another character say B = 1,\n",
    "\n",
    "C = 1 * k1 + k2 => k1 = C - k2"
   ]
  },
  {
   "cell_type": "code",
   "execution_count": 43,
   "metadata": {},
   "outputs": [
    {
     "name": "stdout",
     "output_type": "stream",
     "text": [
      "Known text\tCipher Text\n",
      "AB\t\tJU\n"
     ]
    }
   ],
   "source": [
    "known_text = 'AB'\n",
    "attack_cipher = affinecipher(known_text, key)\n",
    "print('Known text\\tCipher Text')\n",
    "print(f'{known_text}\\t\\t{attack_cipher}')"
   ]
  },
  {
   "cell_type": "code",
   "execution_count": 44,
   "metadata": {},
   "outputs": [
    {
     "name": "stdout",
     "output_type": "stream",
     "text": [
      "Cracked key - (11, 9)\n"
     ]
    }
   ],
   "source": [
    "k2_cracked = (ord(attack_cipher[0]) - ord('A')) % 26 # since 1st character is A\n",
    "k1_cracked = (((ord(attack_cipher[1]) - ord('A')) % 26) - k2_cracked) % 26\n",
    "key_cracked = k1_cracked, k2_cracked\n",
    "print('Cracked key -', key_cracked)"
   ]
  },
  {
   "cell_type": "markdown",
   "metadata": {},
   "source": [
    "Now, we decrypt the cipher text to obtain the original plain text."
   ]
  },
  {
   "cell_type": "code",
   "execution_count": 45,
   "metadata": {},
   "outputs": [
    {
     "name": "stdout",
     "output_type": "stream",
     "text": [
      "Cracked text - THISSECRETMESSAGENEEDSTOBEENCRYPTED\n"
     ]
    }
   ],
   "source": [
    "text_cracked = affinedecipher(C, key_cracked)\n",
    "print('Cracked text -', text_cracked)"
   ]
  },
  {
   "cell_type": "markdown",
   "metadata": {},
   "source": [
    "Now, we compare the text with the original plain text to check if the attack was successful."
   ]
  },
  {
   "cell_type": "code",
   "execution_count": 46,
   "metadata": {},
   "outputs": [
    {
     "name": "stdout",
     "output_type": "stream",
     "text": [
      "Encryption has been broken\n"
     ]
    }
   ],
   "source": [
    "if encode(P) == text_cracked:\n",
    "    print('Encryption has been broken')\n",
    "else:\n",
    "    print('Encryption couldn\\'t be broken')"
   ]
  },
  {
   "cell_type": "markdown",
   "metadata": {},
   "source": [
    "Hence, the known plain text attack was successful on affine cipher."
   ]
  }
 ],
 "metadata": {
  "kernelspec": {
   "display_name": "SageMath 9.1",
   "language": "sage",
   "name": "sagemath"
  },
  "language_info": {
   "codemirror_mode": {
    "name": "ipython",
    "version": 3
   },
   "file_extension": ".py",
   "mimetype": "text/x-python",
   "name": "python",
   "nbconvert_exporter": "python",
   "pygments_lexer": "ipython3",
   "version": "3.8.5"
  }
 },
 "nbformat": 4,
 "nbformat_minor": 4
}
