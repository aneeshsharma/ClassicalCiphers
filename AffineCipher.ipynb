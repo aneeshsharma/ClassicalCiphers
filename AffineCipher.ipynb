{
 "cells": [
  {
   "cell_type": "markdown",
   "metadata": {},
   "source": [
    "# Affine Cipher"
   ]
  },
  {
   "cell_type": "markdown",
   "metadata": {},
   "source": [
    "Affine cipher is a cipher technique to encrypt plain text using a 2 part key.\n",
    "Assume we have the key pair (k1, k2) we can encrypt a plain text say P, we calculate the cipher text C as -\n",
    "\n",
    "C = (P x k1 + k2) mod 26 (assuming we are limited to 26 character alphabet)"
   ]
  },
  {
   "cell_type": "markdown",
   "metadata": {},
   "source": [
    "## Implementation"
   ]
  },
  {
   "cell_type": "markdown",
   "metadata": {},
   "source": [
    "Firstly we define an encoding function that will be used to take plaintext and convert it to a 26 character encoding. (By converting all letters to upper case and discarding all remaining characters)"
   ]
  },
  {
   "cell_type": "code",
   "execution_count": 64,
   "metadata": {},
   "outputs": [],
   "source": [
    "def encode(string):\n",
    "    result = ''\n",
    "    for letter in string:\n",
    "        if letter.isalpha():\n",
    "            result += letter.upper()\n",
    "    return result"
   ]
  },
  {
   "cell_type": "markdown",
   "metadata": {},
   "source": [
    "Lets declare a plain text that we would need to encrypt."
   ]
  },
  {
   "cell_type": "code",
   "execution_count": 65,
   "metadata": {},
   "outputs": [],
   "source": [
    "P = 'Enemy is going to attack today. Please beware!'"
   ]
  },
  {
   "cell_type": "markdown",
   "metadata": {},
   "source": [
    "Encoding this string, we get -"
   ]
  },
  {
   "cell_type": "code",
   "execution_count": 66,
   "metadata": {},
   "outputs": [
    {
     "name": "stdout",
     "output_type": "stream",
     "text": [
      "ENEMYISGOINGTOATTACKTODAYPLEASEBEWARE\n"
     ]
    }
   ],
   "source": [
    "T = encode(P)\n",
    "print(T)"
   ]
  },
  {
   "cell_type": "markdown",
   "metadata": {},
   "source": [
    "Since we will be only having 26 characters, we declare Zp as closed ring of 26 integers."
   ]
  },
  {
   "cell_type": "code",
   "execution_count": 67,
   "metadata": {},
   "outputs": [
    {
     "name": "stdout",
     "output_type": "stream",
     "text": [
      "Ring of integers modulo 26\n"
     ]
    }
   ],
   "source": [
    "Zp = Integers(26)\n",
    "print(Zp)"
   ]
  },
  {
   "cell_type": "markdown",
   "metadata": {},
   "source": [
    "We now declare a key pair (k1, k2) that we would be using to encrypt the plain text."
   ]
  },
  {
   "cell_type": "code",
   "execution_count": 68,
   "metadata": {},
   "outputs": [
    {
     "name": "stdout",
     "output_type": "stream",
     "text": [
      "Key - (25, 24)\n"
     ]
    }
   ],
   "source": [
    "from random import choice\n",
    "k1_domain = [int(x) for x in range(26) if gcd(x, 26) == 1]\n",
    "k2_domain = [int(x) for x in range(26)]\n",
    "key = k1, k2 = (Zp(choice(k1_domain)), Zp(choice(k2_domain)))\n",
    "print('Key -', key)"
   ]
  },
  {
   "cell_type": "markdown",
   "metadata": {},
   "source": [
    "Using the definition of affine cypher, we can encrypt each character of text using -\n",
    "\n",
    "C = (P x k1 + k2) mod 26"
   ]
  },
  {
   "cell_type": "code",
   "execution_count": 69,
   "metadata": {},
   "outputs": [],
   "source": [
    "def affinecipher(text, cipher_key):\n",
    "    cipher = ''\n",
    "    k1, k2 = cipher_key\n",
    "    for letter in text:\n",
    "        text_value = (ord(letter) - ord('A')) % 26 # convert letter to its numerical value\n",
    "        \n",
    "        cipher_value = (text_value * k1 + k2) % 26 # convert to cipher value\n",
    "        \n",
    "        cipher += chr(cipher_value + ord('A')) # conver cipher value to character\n",
    "        \n",
    "    return cipher\n",
    "\n",
    "def inv(x, m):\n",
    "    x = x % m\n",
    "    for i in range(m):\n",
    "        if (x * i) % m == 1:\n",
    "            return i\n",
    "    return 1\n",
    "\n",
    "def affinedecipher(cipher_text, cipher_key):\n",
    "    text = ''\n",
    "    k1, k2 = cipher_key\n",
    "    for letter in cipher_text:\n",
    "        cipher_value = (ord(letter) - ord('A')) % 26 # convert letter to its numerical value\n",
    "        \n",
    "        text_value = ((cipher_value - k2) * inv(k1, 26)) % 26 # convert to cipher value\n",
    "        \n",
    "        text += chr(int(text_value) + ord('A')) # conver cipher value to character\n",
    "        \n",
    "    return text"
   ]
  },
  {
   "cell_type": "code",
   "execution_count": 70,
   "metadata": {},
   "outputs": [
    {
     "name": "stdout",
     "output_type": "stream",
     "text": [
      "Given text - \"Enemy is going to attack today. Please beware!\"\n",
      "Encoded - ENEMYISGOINGTOATTACKTODAYPLEASEBEWARE\n",
      "Key - (25, 24)\n",
      "Cipher text - \u0007\u0018\u0007\u0019\r",
      "\u0003\u0013\u0005\u0017\u0003\u0018\u0005\u0012\u0017\u000b",
      "\u0012\u0012\u000b",
      "\t\u0001\u0012\u0017\b\u000b",
      "\r",
      "\u0016\u0000\u0007\u000b",
      "\u0013\u0007\n",
      "\u0007\u000f\u000b",
      "\u0014\u0007\n",
      "Decipher text - ENEMYISGOINGTOATTACKTODAYPLEASEBEWARE\n"
     ]
    }
   ],
   "source": [
    "T = encode(P)\n",
    "C = affinecipher(T, key)\n",
    "D = affinedecipher(C, key)\n",
    "print(f'Given text - \"{P}\"')\n",
    "print(f'Encoded - {T}')\n",
    "print(f'Key - {key}')\n",
    "print(f'Cipher text - {C}')\n",
    "print(f'Decipher text - {D}')"
   ]
  },
  {
   "cell_type": "markdown",
   "metadata": {},
   "source": [
    "## Test Against Builtin Cipher"
   ]
  },
  {
   "cell_type": "markdown",
   "metadata": {},
   "source": [
    "Now, we can test the result against the built in Affine Cipher in sagemath."
   ]
  },
  {
   "cell_type": "code",
   "execution_count": 71,
   "metadata": {},
   "outputs": [
    {
     "name": "stdout",
     "output_type": "stream",
     "text": [
      "Text - Enemy is going to attack today. Please beware!\n",
      "Encoded - ENEMYISGOINGTOATTACKTODAYPLEASEBEWARE\n",
      "Key - (25, 24)\n",
      "Cipher text - ULUMAQGSKQLSFKYFFYWOFKVYAJNUYGUXUCYHU\n",
      "Decipher text - ENEMYISGOINGTOATTACKTODAYPLEASEBEWARE\n"
     ]
    }
   ],
   "source": [
    "A = AffineCryptosystem(AlphabeticStrings())\n",
    "E = A.encoding(P)\n",
    "print(f'Text - {P}')\n",
    "print(f'Encoded - {E}')\n",
    "print(f'Key - ({k1}, {k2})')\n",
    "C_test = A.enciphering(int(k1), int(k2), E)\n",
    "D_test = A.deciphering(int(k1), int(k2), C_test)\n",
    "\n",
    "# convert to python string\n",
    "#C_test = str(C_test)\n",
    "D_test = str(D_test)\n",
    "print(f'Cipher text - {C_test}')\n",
    "print(f'Decipher text - {D_test}')"
   ]
  },
  {
   "cell_type": "markdown",
   "metadata": {},
   "source": [
    "Comparing the built in cipher result with our implementation -"
   ]
  },
  {
   "cell_type": "code",
   "execution_count": 72,
   "metadata": {},
   "outputs": [
    {
     "name": "stdout",
     "output_type": "stream",
     "text": [
      "Results \t Implementation \t Built-in\n",
      "\n",
      "Cipher Text \t \u0007\u0018\u0007\u0019\r",
      "\u0003\u0013\u0005\u0017\u0003\u0018\u0005\u0012\u0017\u000b",
      "\u0012\u0012\u000b",
      "\t\u0001\u0012\u0017\b\u000b",
      "\r",
      "\u0016\u0000\u0007\u000b",
      "\u0013\u0007\n",
      "\u0007\u000f\u000b",
      "\u0014\u0007 \t ULUMAQGSKQLSFKYFFYWOFKVYAJNUYGUXUCYHU\n",
      "Decipher Text \t ENEMYISGOINGTOATTACKTODAYPLEASEBEWARE \t ENEMYISGOINGTOATTACKTODAYPLEASEBEWARE\n",
      "\n",
      "Implementatiokn is INCORRECT\n"
     ]
    }
   ],
   "source": [
    "print('Results \\t Implementation \\t Built-in\\n')\n",
    "print(f'Cipher Text \\t {C} \\t {C_test}')\n",
    "print(f'Decipher Text \\t {D} \\t {D_test}\\n')\n",
    "if C_test == C and D_test == D:\n",
    "    print('Implementation is CORRECT')\n",
    "else:\n",
    "    print('Implementatiokn is INCORRECT')"
   ]
  },
  {
   "cell_type": "markdown",
   "metadata": {},
   "source": [
    "## Cryptoanalysis"
   ]
  },
  {
   "cell_type": "markdown",
   "metadata": {},
   "source": [
    "Since we know the key domain for the given cipher algorithm, we can run a brute force attack on the cryptosystem using a list of keys possible within the domain."
   ]
  },
  {
   "cell_type": "code",
   "execution_count": 73,
   "metadata": {},
   "outputs": [
    {
     "name": "stdout",
     "output_type": "stream",
     "text": [
      "Total keys - 312\n"
     ]
    }
   ],
   "source": [
    "key_list = []\n",
    "for i in k1_domain:\n",
    "    for j in k2_domain:\n",
    "        t = (i, j)\n",
    "        key_list.append((i, j))\n",
    "print(f'Total keys - {len(key_list)}')"
   ]
  },
  {
   "cell_type": "markdown",
   "metadata": {},
   "source": [
    "We must now get a list of english words that can be used to detect existence of english words in our bruteforced decipher text.\n",
    "\n",
    "A good list of 3000 most used english words is here -\n",
    "https://github.com/aneeshsharma/EnglishWords/raw/main/common3000.txt\n",
    "\n",
    "We download the list of words and convert it to a list"
   ]
  },
  {
   "cell_type": "code",
   "execution_count": 74,
   "metadata": {},
   "outputs": [],
   "source": [
    "import requests\n",
    "url = 'https://github.com/aneeshsharma/EnglishWords/raw/main/common3000.txt'\n",
    "\n",
    "words_file = requests.get(url, allow_redirects=True)\n",
    "words_file_obj = open('words.txt', 'wb')\n",
    "words_file_obj.write(words_file.content)\n",
    "words_file_obj.close()"
   ]
  },
  {
   "cell_type": "code",
   "execution_count": 75,
   "metadata": {},
   "outputs": [],
   "source": [
    "words = open('words.txt').read().split()"
   ]
  },
  {
   "cell_type": "code",
   "execution_count": 76,
   "metadata": {},
   "outputs": [
    {
     "name": "stdout",
     "output_type": "stream",
     "text": [
      "Number of words in dictionary - 3000\n"
     ]
    }
   ],
   "source": [
    "words = [word.upper() for word in words]\n",
    "print(f'Number of words in dictionary - {len(words)}')"
   ]
  },
  {
   "cell_type": "code",
   "execution_count": 77,
   "metadata": {},
   "outputs": [],
   "source": [
    "# function to find english words in a string according to word list\n",
    "def find_words(string):\n",
    "    l = len(string)\n",
    "    found = []\n",
    "    for i in range(l):\n",
    "        for j in range(i, l):\n",
    "            word = string[i:j+1]\n",
    "            if len(word) <= 1:\n",
    "                continue\n",
    "            if word in words:\n",
    "                found.append(string[i:j+1])\n",
    "    return found"
   ]
  },
  {
   "cell_type": "markdown",
   "metadata": {},
   "source": [
    "Now, we must try to decipher the encrypted text using the list of keys we have and try to compare and count any english words found in the text. More the words detected, more likely is it that the key is correct."
   ]
  },
  {
   "cell_type": "code",
   "execution_count": 78,
   "metadata": {},
   "outputs": [
    {
     "name": "stdout",
     "output_type": "stream",
     "text": [
      "Key \t\t Likelihood\n",
      "(1, 2) \t\t 4\n",
      "(1, 6) \t\t 5\n",
      "(1, 20) \t\t 6\n",
      "(3, 5) \t\t 5\n",
      "(3, 8) \t\t 6\n",
      "(3, 10) \t\t 4\n",
      "(3, 15) \t\t 4\n",
      "(3, 24) \t\t 4\n",
      "(5, 6) \t\t 7\n",
      "(5, 18) \t\t 6\n",
      "(5, 20) \t\t 4\n",
      "(5, 22) \t\t 5\n",
      "(5, 24) \t\t 7\n",
      "(7, 0) \t\t 4\n",
      "(7, 1) \t\t 4\n",
      "(7, 4) \t\t 6\n",
      "(7, 10) \t\t 4\n",
      "(7, 11) \t\t 4\n",
      "(7, 14) \t\t 4\n",
      "(7, 20) \t\t 5\n",
      "(7, 22) \t\t 5\n",
      "(9, 0) \t\t 4\n",
      "(9, 13) \t\t 5\n",
      "(9, 15) \t\t 4\n",
      "(9, 20) \t\t 4\n",
      "(9, 22) \t\t 4\n",
      "(11, 0) \t\t 5\n",
      "(11, 8) \t\t 5\n",
      "(11, 10) \t\t 5\n",
      "(11, 11) \t\t 4\n",
      "(11, 13) \t\t 5\n",
      "(11, 22) \t\t 4\n",
      "(11, 24) \t\t 5\n",
      "(15, 7) \t\t 5\n",
      "(15, 8) \t\t 7\n",
      "(15, 10) \t\t 7\n",
      "(15, 14) \t\t 4\n",
      "(15, 21) \t\t 5\n",
      "(15, 24) \t\t 5\n",
      "(17, 6) \t\t 4\n",
      "(17, 7) \t\t 4\n",
      "(17, 25) \t\t 4\n",
      "(19, 2) \t\t 4\n",
      "(19, 7) \t\t 4\n",
      "(19, 18) \t\t 8\n",
      "(19, 20) \t\t 7\n",
      "(21, 10) \t\t 5\n",
      "(23, 0) \t\t 4\n",
      "(23, 4) \t\t 5\n",
      "(23, 8) \t\t 4\n",
      "(23, 10) \t\t 5\n",
      "(23, 11) \t\t 4\n",
      "(23, 14) \t\t 6\n",
      "(23, 16) \t\t 4\n",
      "(25, 2) \t\t 8\n",
      "(25, 12) \t\t 4\n",
      "(25, 22) \t\t 4\n",
      "(25, 24) \t\t 15\n",
      "(25, 25) \t\t 4\n"
     ]
    }
   ],
   "source": [
    "import re\n",
    "results = []\n",
    "\n",
    "keys = {}\n",
    "max_words = 0\n",
    "for candidate in key_list:\n",
    "    candidate_text = affinedecipher(C, candidate)\n",
    "    found = find_words(candidate_text)\n",
    "    if len(found) > 3:\n",
    "        if len(found) > max_words:\n",
    "            max_words = len(found)\n",
    "        keys[candidate] = len(found)\n",
    "\n",
    "print('Key \\t\\t Likelihood')\n",
    "for likely_key in keys:\n",
    "    print(f'{likely_key} \\t\\t {keys[likely_key]}')"
   ]
  },
  {
   "cell_type": "markdown",
   "metadata": {},
   "source": [
    "Now that we have a list of keys and their likelihood of being correct, we can display the keys and the possible plain text, in-order of likelihood."
   ]
  },
  {
   "cell_type": "code",
   "execution_count": 79,
   "metadata": {},
   "outputs": [
    {
     "name": "stdout",
     "output_type": "stream",
     "text": [
      "Key \t\t\t Likelihood\n",
      "ENEMYISGOINGTOATTACKTODAYPLEASEBEWARE \t\t\t 15\n",
      "WBWMKEYAQEBANQONNOSINQHOKFXWOYWDWGOJW \t\t\t 8\n",
      "IRIQCMWKSMRKXSEXXEGOXSHECTPIEWIFIAEVI \t\t\t 8\n",
      "IBIWECASGCBSFGOFFOYMFGDOELRIOAITIUOVI \t\t\t 7\n",
      "UNUIQOMESONERSARRAKYRSPAQXDUAMUFUGAHU \t\t\t 7\n",
      "GVGCWEMSOEVSFOIFFIUQFONIWHJGIMGBGKITG \t\t\t 7\n",
      "SHSOIQYEAQHERAURRUGCRAZUITVSUYSNSWUFS \t\t\t 7\n",
      "AFAQOICEUIFERUSRRSWMRULSOJBASCAHAKSNA \t\t\t 7\n",
      "ARASGWMYQWRYLQELLECULQBEGPTAEMADAIENA \t\t\t 6\n",
      "EBEKGUIMSUBMZSOZZOWCZSNOGJTEOIEFEYORE \t\t\t 6\n",
      "QJQEMKIAOKJANOWNNWGUNOLWMTZQWIQBQCWDQ \t\t\t 6\n",
      "GBGQSYECMYBCPMOPPOKUPMVOSXFGOEGZGWOTG \t\t\t 6\n",
      "YBYSWIUQKIBQDKODDOGADKPOWTJYOUYXYEOLY \t\t\t 6\n",
      "OFOGUKAMEKFMZESZZSQIZEPSUDHOSAOROWSBO \t\t\t 5\n",
      "FCFLHVJNTVCNATPAAPXDATOPHKUFPJFGFZPSF \t\t\t 5\n",
      "KDKYGECUIEDUHIQHHQAOHIFQGNTKQCKVKWQXK \t\t\t 5\n",
      "AVAKMSYWGSVWJGIJJIEOJGPIMRZAIYATAQINA \t\t\t 5\n",
      "WRWGIOUSCORSFCEFFEAKFCLEINVWEUWPWMEJW \t\t\t 5\n",
      "VUVXNJFPRJUPCRHCCHBDCRYHNOAVHFVEVTHIV \t\t\t 5\n",
      "QBQUASKEISBERIORROCGRIJOAPNQOKQVQMODQ \t\t\t 5\n",
      "UFUYEWOIMWFIVMSVVSGKVMNSETRUSOUZUQSHU \t\t\t 5\n",
      "ITIMSKCWAKTWJAGJJGUYJABGSHFIGCINIEGVI \t\t\t 5\n",
      "DODHNFXRVFOREVBEEBPTEVWBNCADBXDIDZBQD \t\t\t 5\n",
      "CNCGMEWQUENQDUADDAOSDUVAMBZCAWCHCYAPC \t\t\t 5\n",
      "NCNJDLTZVLCZMVPMMPBXMVUPDOQNPTNINRPAN \t\t\t 5\n",
      "TITPJRZFBRIFSBVSSVHDSBAVJUWTVZTOTXVGT \t\t\t 5\n",
      "YNYUOWEKGWNKXGAXXAMIXGFAOZBYAEYTYCALY \t\t\t 5\n",
      "YFYKCEGOAEFOBASBBSIUBADSCVPYSGYNYMSLY \t\t\t 5\n",
      "MPMGKWIEYWPERYCRRCUORYDCKHXMCIMLMSCZM \t\t\t 5\n",
      "OROIMYKGAYRGTAETTEWQTAFEMJZOEKONOUEBO \t\t\t 5\n",
      "SJSKYOEQIOJQDIWDDWUMDITWYHLSWESVSAWFS \t\t\t 4\n",
      "MJMSOCQUACJUHAWHHWEKHAVWORBMWQMNMGWZM \t\t\t 4\n",
      "TQTZVJXBHJQBOHDOODLROHCDVYITDXTUTNDGT \t\t\t 4\n",
      "QNQWSGUYEGNYLEALLAIOLEZASVFQAUQRQKADQ \t\t\t 4\n",
      "ATAOWUSKYUTKXYGXXGQEXYVGWDJAGSALAMGNA \t\t\t 4\n",
      "OJOYAGMKUGJKXUWXXWSCXUDWAFNOWMOHOEWBO \t\t\t 4\n",
      "ZUZJLRXVFRUVIFHIIHDNIFOHLQYZHXZSZPHMZ \t\t\t 4\n",
      "UPUEGMSQAMPQDACDDCYIDAJCGLTUCSUNUKCHU \t\t\t 4\n",
      "FAFPRXDBLXABOLNOONJTOLUNRWEFNDFYFVNSF \t\t\t 4\n",
      "MHMWYEKISEHIVSUVVUQAVSBUYDLMUKMFMCUZM \t\t\t 4\n",
      "IHIKAWSCEWHCPEUPPUOQPELUABNIUSIRIGUVI \t\t\t 4\n",
      "POPRHDZJLDOJWLBWWBVXWLSBHIUPBZPYPNBCP \t\t\t 4\n",
      "AZACSOKUWOZUHWMHHMGIHWDMSTFAMKAJAYMNA \t\t\t 4\n",
      "UTUWMIEOQITOBQGBBGACBQXGMNZUGEUDUSGHU \t\t\t 4\n",
      "PAPTZRJDHRADQHNQQNBFQHINZOMPNJPUPLNCP \t\t\t 4\n",
      "OZOSYQICGQZCPGMPPMAEPGHMYNLOMIOTOKMBO \t\t\t 4\n",
      "QFQMGOWCYOFCPYSPPSEAPYXSGRTQSWQLQUSDQ \t\t\t 4\n",
      "KLKISWAQOWLQDOYDDYECDOHYSRFKYAKBKMYXK \t\t\t 4\n",
      "NONLVZDTRZOTGRBGGBHFGRKBVUINBDNENPBAN \t\t\t 4\n",
      "PQPNXBFVTBQVITDIIDJHITMDXWKPDFPGPRDCP \t\t\t 4\n",
      "QVQGEYSUKYVUHKIHHIMCHKBIEZRQISQXQAIDQ \t\t\t 4\n",
      "NSNDBVPRHVSREHFEEFJZEHYFBWONFPNUNXFAN \t\t\t 4\n",
      "CFCWAMYUOMFUHOSHHSKEHOTSAXNCSYCBCISPC \t\t\t 4\n",
      "WZWQUGSOIGZOBIMBBMEYBINMURHWMSWVWCMJW \t\t\t 4\n",
      "XAXRVHTPJHAPCJNCCNFZCJONVSIXNTXWXDNKX \t\t\t 4\n",
      "QTQKOAMICATIVCGVVGYSVCHGOLBQGMQPQWGDQ \t\t\t 4\n",
      "SBSAMWGUCWBUHCOHHOQYHCROMDZSOGSPSKOFS \t\t\t 4\n",
      "CLCKWGQEMGLERMYRRYAIRMBYWNJCYQCZCUYPC \t\t\t 4\n",
      "FOFNZJTHPJOHUPBUUBDLUPEBZQMFBTFCFXBSF \t\t\t 4\n"
     ]
    }
   ],
   "source": [
    "text_list = [[] for _ in range(max_words + 1)]\n",
    "for likely_key in keys:\n",
    "    count = keys[likely_key]\n",
    "    text_list[count].append(affinedecipher(C, likely_key))\n",
    "\n",
    "print('Key \\t\\t\\t Likelihood')\n",
    "for i in range(max_words, 2, -1):\n",
    "    for text in text_list[i]:\n",
    "        print(f'{text} \\t\\t\\t {i}')"
   ]
  },
  {
   "cell_type": "code",
   "execution_count": null,
   "metadata": {},
   "outputs": [],
   "source": []
  }
 ],
 "metadata": {
  "kernelspec": {
   "display_name": "SageMath 9.1",
   "language": "sage",
   "name": "sagemath"
  },
  "language_info": {
   "codemirror_mode": {
    "name": "ipython",
    "version": 3
   },
   "file_extension": ".py",
   "mimetype": "text/x-python",
   "name": "python",
   "nbconvert_exporter": "python",
   "pygments_lexer": "ipython3",
   "version": "3.8.5"
  }
 },
 "nbformat": 4,
 "nbformat_minor": 4
}
