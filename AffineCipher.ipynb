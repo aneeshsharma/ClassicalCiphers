{
 "cells": [
  {
   "cell_type": "markdown",
   "metadata": {},
   "source": [
    "# Affine Cipher"
   ]
  },
  {
   "cell_type": "markdown",
   "metadata": {},
   "source": [
    "Affine cipher is a cipher technique to encrypt plain text using a 2 part key.\n",
    "Assume we have the key pair (k1, k2) we can encrypt a plain text say P, we calculate the cipher text C as -\n",
    "\n",
    "C = (P x k1 + k2) mod 26 (assuming we are limited to 26 character alphabet)"
   ]
  },
  {
   "cell_type": "markdown",
   "metadata": {},
   "source": [
    "## Implementation"
   ]
  },
  {
   "cell_type": "markdown",
   "metadata": {},
   "source": [
    "Firstly we define an encoding function that will be used to take plaintext and convert it to a 26 character encoding. (By converting all letters to upper case and discarding all remaining characters)"
   ]
  },
  {
   "cell_type": "code",
   "execution_count": 1,
   "metadata": {},
   "outputs": [],
   "source": [
    "def encode(string):\n",
    "    result = ''\n",
    "    for letter in string:\n",
    "        if letter.isalpha():\n",
    "            result += letter.upper()\n",
    "    return result"
   ]
  },
  {
   "cell_type": "markdown",
   "metadata": {},
   "source": [
    "Lets declare a plain text that we would need to encrypt."
   ]
  },
  {
   "cell_type": "code",
   "execution_count": 2,
   "metadata": {},
   "outputs": [],
   "source": [
    "P = 'This is a plain text.'"
   ]
  },
  {
   "cell_type": "markdown",
   "metadata": {},
   "source": [
    "Encoding this string, we get -"
   ]
  },
  {
   "cell_type": "code",
   "execution_count": 3,
   "metadata": {},
   "outputs": [
    {
     "name": "stdout",
     "output_type": "stream",
     "text": [
      "THISISAPLAINTEXT\n"
     ]
    }
   ],
   "source": [
    "T = encode(P)\n",
    "print(T)"
   ]
  },
  {
   "cell_type": "markdown",
   "metadata": {},
   "source": [
    "Since we will be only having 26 characters, we declare Zp as closed ring of 26 integers."
   ]
  },
  {
   "cell_type": "code",
   "execution_count": 4,
   "metadata": {},
   "outputs": [
    {
     "name": "stdout",
     "output_type": "stream",
     "text": [
      "Ring of integers modulo 26\n"
     ]
    }
   ],
   "source": [
    "Zp = Integers(26)\n",
    "print(Zp)"
   ]
  },
  {
   "cell_type": "markdown",
   "metadata": {},
   "source": [
    "We now declare a key pair (k1, k2) that we would be using to encrypt the plain text."
   ]
  },
  {
   "cell_type": "code",
   "execution_count": 5,
   "metadata": {},
   "outputs": [
    {
     "name": "stdout",
     "output_type": "stream",
     "text": [
      "Key - (17, 2)\n"
     ]
    }
   ],
   "source": [
    "from random import choice\n",
    "k1_domain = [int(x) for x in range(26) if gcd(x, 26) == 1]\n",
    "k2_domain = [int(x) for x in range(26)]\n",
    "key = k1, k2 = (Zp(choice(k1_domain)), Zp(choice(k2_domain)))\n",
    "print('Key -', key)"
   ]
  },
  {
   "cell_type": "markdown",
   "metadata": {},
   "source": [
    "Using the definition of affine cypher, we can encrypt each character of text using -\n",
    "\n",
    "C = (P x k1 + k2) mod 26"
   ]
  },
  {
   "cell_type": "code",
   "execution_count": 6,
   "metadata": {},
   "outputs": [],
   "source": [
    "def affinecipher(text, cipher_key):\n",
    "    cipher = ''\n",
    "    k1, k2 = cipher_key\n",
    "    for letter in text:\n",
    "        text_value = Zp(ord(letter) - ord('A')) # convert letter to its numerical value\n",
    "        \n",
    "        cipher_value = Zp(text_value * k1 + k2) # convert to cipher value\n",
    "        \n",
    "        cipher += chr(int(cipher_value) + ord('A')) # conver cipher value to character\n",
    "        \n",
    "    return cipher\n",
    "\n",
    "def affinedecipher(cipher_text, cipher_key):\n",
    "    text = ''\n",
    "    k1, k2 = cipher_key\n",
    "    for letter in cipher_text:\n",
    "        cipher_value = Zp(ord(letter) - ord('A')) # convert letter to its numerical value\n",
    "        \n",
    "        text_value = Zp((cipher_value - k2) * Zp(k1 ^ -1)) # convert to cipher value\n",
    "        \n",
    "        text += chr(int(text_value) + ord('A')) # conver cipher value to character\n",
    "        \n",
    "    return text"
   ]
  },
  {
   "cell_type": "code",
   "execution_count": 7,
   "metadata": {},
   "outputs": [
    {
     "name": "stdout",
     "output_type": "stream",
     "text": [
      "Given text - \"This is a plain text.\"\n",
      "Encoded - THISISAPLAINTEXT\n",
      "Key - (17, 2)\n",
      "Cipher text - NRIWIWCXHCIPNSDN\n",
      "Decipher text - THISISAPLAINTEXT\n"
     ]
    }
   ],
   "source": [
    "T = encode(P)\n",
    "C = affinecipher(T, key)\n",
    "D = affinedecipher(C, key)\n",
    "print(f'Given text - \"{P}\"')\n",
    "print(f'Encoded - {T}')\n",
    "print(f'Key - {key}')\n",
    "print(f'Cipher text - {C}')\n",
    "print(f'Decipher text - {D}')"
   ]
  },
  {
   "cell_type": "markdown",
   "metadata": {},
   "source": [
    "## Test Against Builtin Cipher"
   ]
  },
  {
   "cell_type": "markdown",
   "metadata": {},
   "source": [
    "Now, we can test the result against the built in Affine Cipher in sagemath."
   ]
  },
  {
   "cell_type": "code",
   "execution_count": 8,
   "metadata": {},
   "outputs": [
    {
     "name": "stdout",
     "output_type": "stream",
     "text": [
      "Text - This is a plain text.\n",
      "Encoded - THISISAPLAINTEXT\n",
      "Key - (17, 2)\n",
      "Cipher text - NRIWIWCXHCIPNSDN\n",
      "Decipher text - THISISAPLAINTEXT\n"
     ]
    }
   ],
   "source": [
    "A = AffineCryptosystem(AlphabeticStrings())\n",
    "E = A.encoding(P)\n",
    "print(f'Text - {P}')\n",
    "print(f'Encoded - {E}')\n",
    "print(f'Key - ({k1}, {k2})')\n",
    "C_test = A.enciphering(int(k1), int(k2), E)\n",
    "D_test = A.deciphering(int(k1), int(k2), C_test)\n",
    "\n",
    "# convert to python string\n",
    "#C_test = str(C_test)\n",
    "D_test = str(D_test)\n",
    "print(f'Cipher text - {C_test}')\n",
    "print(f'Decipher text - {D_test}')"
   ]
  },
  {
   "cell_type": "markdown",
   "metadata": {},
   "source": [
    "Comparing the built in cipher result with our implementation -"
   ]
  },
  {
   "cell_type": "code",
   "execution_count": 9,
   "metadata": {},
   "outputs": [
    {
     "name": "stdout",
     "output_type": "stream",
     "text": [
      "Results \t Implementation \t Built-in\n",
      "\n",
      "Cipher Text \t NRIWIWCXHCIPNSDN \t NRIWIWCXHCIPNSDN\n",
      "Decipher Text \t THISISAPLAINTEXT \t THISISAPLAINTEXT\n",
      "\n",
      "Implementatiokn is INCORRECT\n"
     ]
    }
   ],
   "source": [
    "print('Results \\t Implementation \\t Built-in\\n')\n",
    "print(f'Cipher Text \\t {C} \\t {C_test}')\n",
    "print(f'Decipher Text \\t {D} \\t {D_test}\\n')\n",
    "if C_test == C and D_test == D:\n",
    "    print('Implementation is CORRECT')\n",
    "else:\n",
    "    print('Implementatiokn is INCORRECT')"
   ]
  },
  {
   "cell_type": "markdown",
   "metadata": {},
   "source": [
    "## Cryptoanalysis"
   ]
  },
  {
   "cell_type": "markdown",
   "metadata": {},
   "source": [
    "Since we know the key domain for the given cipher algorithm, we can run a brute force attack on the cryptosystem using a list of keys possible within the domain."
   ]
  },
  {
   "cell_type": "code",
   "execution_count": 10,
   "metadata": {},
   "outputs": [
    {
     "name": "stdout",
     "output_type": "stream",
     "text": [
      "Total keys - 312\n",
      "[(1, 0), (1, 1), (1, 2), (1, 3), (1, 4), (1, 5), (1, 6), (1, 7), (1, 8), (1, 9), (1, 10), (1, 11), (1, 12), (1, 13), (1, 14), (1, 15), (1, 16), (1, 17), (1, 18), (1, 19), (1, 20), (1, 21), (1, 22), (1, 23), (1, 24), (1, 25), (3, 0), (3, 1), (3, 2), (3, 3), (3, 4), (3, 5), (3, 6), (3, 7), (3, 8), (3, 9), (3, 10), (3, 11), (3, 12), (3, 13), (3, 14), (3, 15), (3, 16), (3, 17), (3, 18), (3, 19), (3, 20), (3, 21), (3, 22), (3, 23), (3, 24), (3, 25), (5, 0), (5, 1), (5, 2), (5, 3), (5, 4), (5, 5), (5, 6), (5, 7), (5, 8), (5, 9), (5, 10), (5, 11), (5, 12), (5, 13), (5, 14), (5, 15), (5, 16), (5, 17), (5, 18), (5, 19), (5, 20), (5, 21), (5, 22), (5, 23), (5, 24), (5, 25), (7, 0), (7, 1), (7, 2), (7, 3), (7, 4), (7, 5), (7, 6), (7, 7), (7, 8), (7, 9), (7, 10), (7, 11), (7, 12), (7, 13), (7, 14), (7, 15), (7, 16), (7, 17), (7, 18), (7, 19), (7, 20), (7, 21), (7, 22), (7, 23), (7, 24), (7, 25), (9, 0), (9, 1), (9, 2), (9, 3), (9, 4), (9, 5), (9, 6), (9, 7), (9, 8), (9, 9), (9, 10), (9, 11), (9, 12), (9, 13), (9, 14), (9, 15), (9, 16), (9, 17), (9, 18), (9, 19), (9, 20), (9, 21), (9, 22), (9, 23), (9, 24), (9, 25), (11, 0), (11, 1), (11, 2), (11, 3), (11, 4), (11, 5), (11, 6), (11, 7), (11, 8), (11, 9), (11, 10), (11, 11), (11, 12), (11, 13), (11, 14), (11, 15), (11, 16), (11, 17), (11, 18), (11, 19), (11, 20), (11, 21), (11, 22), (11, 23), (11, 24), (11, 25), (15, 0), (15, 1), (15, 2), (15, 3), (15, 4), (15, 5), (15, 6), (15, 7), (15, 8), (15, 9), (15, 10), (15, 11), (15, 12), (15, 13), (15, 14), (15, 15), (15, 16), (15, 17), (15, 18), (15, 19), (15, 20), (15, 21), (15, 22), (15, 23), (15, 24), (15, 25), (17, 0), (17, 1), (17, 2), (17, 3), (17, 4), (17, 5), (17, 6), (17, 7), (17, 8), (17, 9), (17, 10), (17, 11), (17, 12), (17, 13), (17, 14), (17, 15), (17, 16), (17, 17), (17, 18), (17, 19), (17, 20), (17, 21), (17, 22), (17, 23), (17, 24), (17, 25), (19, 0), (19, 1), (19, 2), (19, 3), (19, 4), (19, 5), (19, 6), (19, 7), (19, 8), (19, 9), (19, 10), (19, 11), (19, 12), (19, 13), (19, 14), (19, 15), (19, 16), (19, 17), (19, 18), (19, 19), (19, 20), (19, 21), (19, 22), (19, 23), (19, 24), (19, 25), (21, 0), (21, 1), (21, 2), (21, 3), (21, 4), (21, 5), (21, 6), (21, 7), (21, 8), (21, 9), (21, 10), (21, 11), (21, 12), (21, 13), (21, 14), (21, 15), (21, 16), (21, 17), (21, 18), (21, 19), (21, 20), (21, 21), (21, 22), (21, 23), (21, 24), (21, 25), (23, 0), (23, 1), (23, 2), (23, 3), (23, 4), (23, 5), (23, 6), (23, 7), (23, 8), (23, 9), (23, 10), (23, 11), (23, 12), (23, 13), (23, 14), (23, 15), (23, 16), (23, 17), (23, 18), (23, 19), (23, 20), (23, 21), (23, 22), (23, 23), (23, 24), (23, 25), (25, 0), (25, 1), (25, 2), (25, 3), (25, 4), (25, 5), (25, 6), (25, 7), (25, 8), (25, 9), (25, 10), (25, 11), (25, 12), (25, 13), (25, 14), (25, 15), (25, 16), (25, 17), (25, 18), (25, 19), (25, 20), (25, 21), (25, 22), (25, 23), (25, 24), (25, 25)]\n"
     ]
    }
   ],
   "source": [
    "key_list = []\n",
    "for i in k1_domain:\n",
    "    for j in k2_domain:\n",
    "        t = (i, j)\n",
    "        key_list.append((i, j))\n",
    "print(f'Total keys - {len(key_list)}')\n",
    "print(key_list)"
   ]
  },
  {
   "cell_type": "markdown",
   "metadata": {},
   "source": [
    "We must now get a list of english words that can be used to detect existence of english words in our bruteforced decipher text.\n",
    "\n",
    "A good list of english words is here -\n",
    "https://github.com/dwyl/english-words/blob/master/words_alpha.txt\n",
    "\n",
    "We download the list of words and convert it to a list"
   ]
  },
  {
   "cell_type": "code",
   "execution_count": 27,
   "metadata": {},
   "outputs": [],
   "source": [
    "import requests\n",
    "url = 'https://github.com/aneeshsharma/EnglishWords/raw/main/common3000.txt'\n",
    "\n",
    "words_file = requests.get(url, allow_redirects=True)\n",
    "words_file_obj = open('words.txt', 'wb')\n",
    "words_file_obj.write(words_file.content)\n",
    "words_file_obj.close()"
   ]
  },
  {
   "cell_type": "code",
   "execution_count": 28,
   "metadata": {},
   "outputs": [],
   "source": [
    "words = open('words.txt').read().split()"
   ]
  },
  {
   "cell_type": "code",
   "execution_count": 29,
   "metadata": {},
   "outputs": [
    {
     "name": "stdout",
     "output_type": "stream",
     "text": [
      "Number of words in dictionary - 3000\n"
     ]
    }
   ],
   "source": [
    "words = [word.upper() for word in words]\n",
    "print(f'Number of words in dictionary - {len(words)}')"
   ]
  },
  {
   "cell_type": "code",
   "execution_count": 14,
   "metadata": {},
   "outputs": [],
   "source": [
    "def find_words(string):\n",
    "    l = len(string)\n",
    "    found = []\n",
    "    for i in range(l):\n",
    "        for j in range(i, l):\n",
    "            word = string[i:j+1]\n",
    "            if len(word) <= 1:\n",
    "                continue\n",
    "            if word in words:\n",
    "                found.append(string[i:j+1])\n",
    "    return found"
   ]
  },
  {
   "cell_type": "markdown",
   "metadata": {},
   "source": [
    "Now, we must try to decipher the encrypted text using the list of keys we have and try to compare and count any english words found in the text. More the words detected, more likely is it that the key is correct."
   ]
  },
  {
   "cell_type": "code",
   "execution_count": 26,
   "metadata": {},
   "outputs": [
    {
     "name": "stdout",
     "output_type": "stream",
     "text": [
      "Possible -  NRIWIWCXHCIPNSDN ['NR', 'IW', 'WI', 'IW', 'WC', 'NS', 'SD', 'DN']\n",
      "Possible -  MQHVHVBWGBHOMRCM ['QH', 'HV', 'HV', 'VB', 'WG', 'HO', 'HOM', 'OM', 'MR', 'RC', 'CM']\n",
      "Possible -  LPGUGUAVFAGNLQBL ['LP', 'PG', 'GU', 'GUGU', 'UG', 'GU', 'AV', 'FA', 'FAG', 'AG', 'GN', 'NL', 'BL']\n",
      "Possible -  KOFTFTZUEZFMKPAK ['KO', 'KOFT', 'OF', 'OFT', 'FT', 'FT', 'FM', 'MK', 'PA', 'AK']\n",
      "Possible -  JNESESYTDYELJOZJ ['NE', 'NESE', 'ES', 'ESE', 'ESES', 'SE', 'ES', 'YT', 'TD', 'DY', 'DYE', 'YE', 'EL', 'JO', 'OZ']\n",
      "Possible -  IMDRDRXSCXDKINYI ['IM', 'MD', 'DR', 'RD', 'DR', 'XS', 'SC', 'XD', 'DK', 'KI', 'KIN', 'IN', 'NY', 'YI']\n",
      "Possible -  HLCQCQWRBWCJHMXH ['HL', 'LC', 'CQ', 'CQ', 'WR', 'WC', 'HM']\n",
      "Possible -  GKBPBPVQAVBIGLWG ['KB', 'BP', 'BP', 'AV', 'VB', 'BI', 'BIG', 'GL', 'WG']\n",
      "Possible -  FJAOAOUPZUAHFKVF ['JA', 'AO', 'AO', 'UP', 'AH', 'HF', 'KV']\n",
      "Possible -  EIZNZNTOYTZGEJUE ['ZN', 'ZN', 'NT', 'TO', 'TOY', 'OY', 'YT', 'GE', 'JU']\n",
      "Possible -  DHYMYMSNXSYFDITD ['HY', 'YM', 'MY', 'MYM', 'YM', 'MS', 'SN', 'XS', 'DI', 'DIT', 'IT', 'ITD', 'TD']\n",
      "Possible -  CGXLXLRMWRXECHSC ['CG', 'LX', 'LR', 'RM', 'MW', 'WR', 'EC', 'CH', 'CHS', 'HS', 'SC']\n",
      "Possible -  BFWKWKQLVQWDBGRB ['BF', 'FW', 'WK', 'KW', 'WK', 'QL', 'LV', 'WD', 'DB', 'BG', 'GR']\n",
      "Possible -  AEVJVJPKUPVCAFQA ['AE', 'PK', 'UP', 'VC', 'CA', 'CAF', 'AF']\n",
      "Possible -  ZDUIUIOJTOUBZEPZ ['DU', 'DUI', 'UI', 'UI', 'IO', 'JT', 'TO', 'TOU', 'BZ', 'ZEP', 'EP']\n",
      "Possible -  YCTHTHNISNTAYDOY ['CT', 'TH', 'HT', 'TH', 'NI', 'NIS', 'IS', 'ISN', 'ISNT', 'SN', 'NT', 'TA', 'TAY', 'AY', 'YD', 'DO', 'OY']\n",
      "Possible -  XBSGSGMHRMSZXCNX ['BS', 'SG', 'GS', 'SG', 'GM', 'MH', 'HR', 'RM', 'RMS', 'MS', 'XC']\n",
      "Possible -  WARFRFLGQLRYWBMW ['WA', 'WAR', 'WARF', 'AR', 'ARF', 'RF', 'FR', 'RF', 'FL', 'LG', 'QL', 'LR', 'WB', 'BM', 'MW']\n",
      "Possible -  VZQEQEKFPKQXVALV ['QE', 'EQ', 'QE', 'FP', 'PK', 'VA', 'VAL', 'AL', 'LV']\n",
      "Possible -  UYPDPDJEOJPWUZKU ['PD', 'DP', 'PD', 'DJ', 'EO', 'WU']\n",
      "Possible -  TXOCOCIDNIOVTYJT ['TX', 'OC', 'CO', 'OC', 'CID', 'ID', 'DN', 'NI', 'IO', 'VT', 'JT']\n",
      "Possible -  SWNBNBHCMHNUSXIS ['SW', 'NB', 'BN', 'NB', 'CM', 'MH', 'NU', 'NUS', 'US', 'XI', 'XIS', 'IS']\n",
      "Possible -  RVMAMAGBLGMTRWHR ['MA', 'MAM', 'MAMA', 'AM', 'AMA', 'MA', 'MAG', 'AG', 'BL', 'LG', 'GM', 'MT', 'TR', 'WH', 'WHR', 'HR']\n",
      "Possible -  QULZLZFAKFLSQVGQ ['QU', 'FA', 'AK', 'FL', 'LS', 'SQ', 'QV', 'VG']\n",
      "Possible -  PTKYKYEZJEKRPUFP ['PT', 'TK', 'KY', 'KY', 'KYE', 'YE', 'YEZ', 'KR', 'PU', 'FP']\n",
      "Possible -  OSJXJXDYIDJQOTEO ['OS', 'XD', 'DY', 'YI', 'YID', 'ID', 'DJ', 'OT', 'TE', 'EO']\n",
      "(3, 0)\n",
      "Possible -  NXUQUQSZLSUFNGBN ['XU', 'QU', 'QS', 'LS', 'SU', 'SUF', 'FN', 'NG', 'BN']\n",
      "(3, 1)\n",
      "(3, 2)\n",
      "(3, 3)\n",
      "(3, 4)\n",
      "(3, 5)\n",
      "(3, 6)\n",
      "(3, 7)\n",
      "(3, 8)\n",
      "(3, 9)\n",
      "(3, 10)\n",
      "(3, 11)\n",
      "(3, 12)\n",
      "(3, 13)\n",
      "(3, 14)\n",
      "(3, 15)\n",
      "(3, 16)\n",
      "(3, 17)\n",
      "(3, 18)\n",
      "(3, 19)\n",
      "(3, 20)\n",
      "(3, 21)\n",
      "(3, 22)\n",
      "(3, 23)\n",
      "(3, 24)\n",
      "(3, 25)\n",
      "(5, 0)\n",
      "(5, 1)\n",
      "(5, 2)\n",
      "(5, 3)\n",
      "(5, 4)\n",
      "(5, 5)\n",
      "(5, 6)\n",
      "(5, 7)\n",
      "(5, 8)\n",
      "(5, 9)\n",
      "(5, 10)\n",
      "(5, 11)\n",
      "(5, 12)\n",
      "(5, 13)\n",
      "(5, 14)\n",
      "(5, 15)\n",
      "(5, 16)\n",
      "(5, 17)\n",
      "(5, 18)\n",
      "(5, 19)\n",
      "(5, 20)\n",
      "(5, 21)\n",
      "(5, 22)\n",
      "(5, 23)\n",
      "(5, 24)\n",
      "(5, 25)\n",
      "(7, 0)\n",
      "(7, 1)\n",
      "(7, 2)\n",
      "(7, 3)\n",
      "(7, 4)\n",
      "(7, 5)\n",
      "(7, 6)\n",
      "(7, 7)\n",
      "(7, 8)\n",
      "(7, 9)\n",
      "(7, 10)\n",
      "(7, 11)\n",
      "(7, 12)\n",
      "(7, 13)\n",
      "(7, 14)\n",
      "(7, 15)\n",
      "(7, 16)\n",
      "(7, 17)\n",
      "(7, 18)\n",
      "(7, 19)\n",
      "(7, 20)\n",
      "(7, 21)\n",
      "(7, 22)\n",
      "(7, 23)\n",
      "(7, 24)\n",
      "(7, 25)\n",
      "(9, 0)\n",
      "(9, 1)\n",
      "(9, 2)\n",
      "(9, 3)\n",
      "(9, 4)\n",
      "(9, 5)\n",
      "(9, 6)\n",
      "(9, 7)\n",
      "(9, 8)\n",
      "(9, 9)\n",
      "(9, 10)\n",
      "(9, 11)\n",
      "(9, 12)\n",
      "(9, 13)\n",
      "(9, 14)\n",
      "(9, 15)\n",
      "(9, 16)\n",
      "(9, 17)\n",
      "(9, 18)\n",
      "(9, 19)\n",
      "(9, 20)\n",
      "(9, 21)\n",
      "(9, 22)\n",
      "(9, 23)\n",
      "(9, 24)\n",
      "(9, 25)\n",
      "(11, 0)\n",
      "(11, 1)\n",
      "(11, 2)\n",
      "(11, 3)\n",
      "(11, 4)\n",
      "(11, 5)\n",
      "(11, 6)\n",
      "(11, 7)\n",
      "(11, 8)\n",
      "(11, 9)\n",
      "(11, 10)\n",
      "(11, 11)\n",
      "(11, 12)\n",
      "(11, 13)\n",
      "(11, 14)\n",
      "(11, 15)\n",
      "(11, 16)\n",
      "(11, 17)\n",
      "(11, 18)\n",
      "(11, 19)\n",
      "(11, 20)\n",
      "(11, 21)\n",
      "(11, 22)\n",
      "(11, 23)\n",
      "(11, 24)\n",
      "(11, 25)\n",
      "(15, 0)\n",
      "(15, 1)\n",
      "(15, 2)\n",
      "(15, 3)\n",
      "(15, 4)\n",
      "(15, 5)\n",
      "(15, 6)\n",
      "(15, 7)\n",
      "(15, 8)\n",
      "(15, 9)\n",
      "(15, 10)\n",
      "(15, 11)\n",
      "(15, 12)\n",
      "(15, 13)\n",
      "(15, 14)\n",
      "(15, 15)\n",
      "(15, 16)\n",
      "(15, 17)\n",
      "(15, 18)\n",
      "(15, 19)\n",
      "(15, 20)\n",
      "(15, 21)\n",
      "(15, 22)\n",
      "(15, 23)\n",
      "(15, 24)\n",
      "(15, 25)\n",
      "(17, 0)\n",
      "(17, 1)\n",
      "(17, 2)\n",
      "(17, 3)\n",
      "(17, 4)\n",
      "(17, 5)\n",
      "(17, 6)\n",
      "(17, 7)\n",
      "(17, 8)\n",
      "(17, 9)\n",
      "(17, 10)\n",
      "(17, 11)\n",
      "(17, 12)\n",
      "(17, 13)\n",
      "(17, 14)\n",
      "(17, 15)\n",
      "(17, 16)\n",
      "(17, 17)\n",
      "(17, 18)\n",
      "(17, 19)\n",
      "(17, 20)\n",
      "(17, 21)\n",
      "(17, 22)\n",
      "(17, 23)\n",
      "(17, 24)\n",
      "(17, 25)\n",
      "(19, 0)\n",
      "(19, 1)\n",
      "(19, 2)\n",
      "(19, 3)\n",
      "(19, 4)\n",
      "(19, 5)\n",
      "(19, 6)\n",
      "(19, 7)\n",
      "(19, 8)\n",
      "(19, 9)\n",
      "(19, 10)\n",
      "(19, 11)\n",
      "(19, 12)\n",
      "(19, 13)\n",
      "(19, 14)\n",
      "(19, 15)\n",
      "(19, 16)\n",
      "(19, 17)\n",
      "(19, 18)\n",
      "(19, 19)\n",
      "(19, 20)\n",
      "(19, 21)\n",
      "(19, 22)\n",
      "(19, 23)\n",
      "(19, 24)\n",
      "(19, 25)\n",
      "(21, 0)\n",
      "(21, 1)\n",
      "(21, 2)\n",
      "(21, 3)\n",
      "(21, 4)\n",
      "(21, 5)\n",
      "(21, 6)\n",
      "(21, 7)\n",
      "(21, 8)\n",
      "(21, 9)\n",
      "(21, 10)\n",
      "(21, 11)\n",
      "(21, 12)\n",
      "(21, 13)\n",
      "(21, 14)\n",
      "(21, 15)\n",
      "(21, 16)\n",
      "(21, 17)\n",
      "(21, 18)\n",
      "(21, 19)\n",
      "(21, 20)\n",
      "(21, 21)\n",
      "(21, 22)\n",
      "(21, 23)\n",
      "(21, 24)\n",
      "(21, 25)\n",
      "(23, 0)\n",
      "(23, 1)\n",
      "(23, 2)\n",
      "(23, 3)\n",
      "(23, 4)\n",
      "(23, 5)\n",
      "(23, 6)\n",
      "(23, 7)\n",
      "(23, 8)\n",
      "(23, 9)\n",
      "(23, 10)\n",
      "(23, 11)\n",
      "(23, 12)\n",
      "(23, 13)\n",
      "(23, 14)\n",
      "(23, 15)\n",
      "(23, 16)\n",
      "(23, 17)\n",
      "(23, 18)\n",
      "(23, 19)\n",
      "(23, 20)\n",
      "(23, 21)\n",
      "(23, 22)\n",
      "(23, 23)\n",
      "(23, 24)\n",
      "(23, 25)\n",
      "(25, 0)\n",
      "(25, 1)\n",
      "(25, 2)\n",
      "(25, 3)\n",
      "(25, 4)\n",
      "(25, 5)\n",
      "(25, 6)\n",
      "(25, 7)\n",
      "(25, 8)\n",
      "(25, 9)\n",
      "(25, 10)\n",
      "(25, 11)\n",
      "(25, 12)\n",
      "(25, 13)\n",
      "(25, 14)\n",
      "(25, 15)\n",
      "(25, 16)\n",
      "(25, 17)\n",
      "(25, 18)\n",
      "(25, 19)\n",
      "(25, 20)\n",
      "(25, 21)\n",
      "(25, 22)\n",
      "(25, 23)\n",
      "(25, 24)\n",
      "(25, 25)\n"
     ]
    }
   ],
   "source": [
    "import re\n",
    "results = []\n",
    "\n",
    "for candidate in key_list:\n",
    "    try:\n",
    "        candidate_text = affinedecipher(C, candidate)\n",
    "    except Exception as e:\n",
    "        print(candidate)\n",
    "        if (3, 0) == candidate:\n",
    "            candidate_text = affinedecipher(C, (3, 0))\n",
    "        else:\n",
    "            continue\n",
    "    found = find_words(candidate_text)\n",
    "    if len(found) > 1:\n",
    "        print('Possible - ', candidate_text, found)\n",
    "        results.append(candidate_text)\n",
    "    "
   ]
  },
  {
   "cell_type": "code",
   "execution_count": null,
   "metadata": {},
   "outputs": [],
   "source": []
  }
 ],
 "metadata": {
  "kernelspec": {
   "display_name": "SageMath 9.1",
   "language": "sage",
   "name": "sagemath"
  },
  "language_info": {
   "codemirror_mode": {
    "name": "ipython",
    "version": 3
   },
   "file_extension": ".py",
   "mimetype": "text/x-python",
   "name": "python",
   "nbconvert_exporter": "python",
   "pygments_lexer": "ipython3",
   "version": "3.8.5"
  }
 },
 "nbformat": 4,
 "nbformat_minor": 4
}
