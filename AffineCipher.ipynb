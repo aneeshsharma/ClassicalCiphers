{
 "cells": [
  {
   "cell_type": "markdown",
   "metadata": {},
   "source": [
    "# Affine Cipher"
   ]
  },
  {
   "cell_type": "markdown",
   "metadata": {},
   "source": [
    "Affine cipher is a cipher technique to encrypt plain text using a 2 part key.\n",
    "Assume we have the key pair (k1, k2) we can encrypt a plain text say P, we calculate the cipher text C as -\n",
    "\n",
    "C = (P x k1 + k2) mod 26 (assuming we are limited to 26 character alphabet)"
   ]
  },
  {
   "cell_type": "markdown",
   "metadata": {},
   "source": [
    "## Implementation"
   ]
  },
  {
   "cell_type": "markdown",
   "metadata": {},
   "source": [
    "Firstly we define an encoding function that will be used to take plaintext and convert it to a 26 character encoding. (By converting all letters to upper case and discarding all remaining characters)"
   ]
  },
  {
   "cell_type": "code",
   "execution_count": 89,
   "metadata": {},
   "outputs": [],
   "source": [
    "def encode(string):\n",
    "    result = ''\n",
    "    for letter in string:\n",
    "        if letter.isalpha():\n",
    "            result += letter.upper()\n",
    "    return result"
   ]
  },
  {
   "cell_type": "markdown",
   "metadata": {},
   "source": [
    "Lets declare a plain text that we would need to encrypt."
   ]
  },
  {
   "cell_type": "code",
   "execution_count": 90,
   "metadata": {},
   "outputs": [],
   "source": [
    "P = 'Enemy is going to attack today. Please beware!'"
   ]
  },
  {
   "cell_type": "markdown",
   "metadata": {},
   "source": [
    "Encoding this string, we get -"
   ]
  },
  {
   "cell_type": "code",
   "execution_count": 91,
   "metadata": {},
   "outputs": [
    {
     "name": "stdout",
     "output_type": "stream",
     "text": [
      "ENEMYISGOINGTOATTACKTODAYPLEASEBEWARE\n"
     ]
    }
   ],
   "source": [
    "T = encode(P)\n",
    "print(T)"
   ]
  },
  {
   "cell_type": "markdown",
   "metadata": {},
   "source": [
    "Since we will be only having 26 characters, we declare Zp as closed ring of 26 integers."
   ]
  },
  {
   "cell_type": "code",
   "execution_count": 92,
   "metadata": {},
   "outputs": [
    {
     "name": "stdout",
     "output_type": "stream",
     "text": [
      "Ring of integers modulo 26\n"
     ]
    }
   ],
   "source": [
    "Zp = Integers(26)\n",
    "print(Zp)"
   ]
  },
  {
   "cell_type": "markdown",
   "metadata": {},
   "source": [
    "We now declare a key pair (k1, k2) that we would be using to encrypt the plain text."
   ]
  },
  {
   "cell_type": "code",
   "execution_count": 93,
   "metadata": {},
   "outputs": [
    {
     "name": "stdout",
     "output_type": "stream",
     "text": [
      "Key - (1, 2)\n"
     ]
    }
   ],
   "source": [
    "from random import choice\n",
    "k1_domain = [int(x) for x in range(26) if gcd(x, 26) == 1]\n",
    "k2_domain = [int(x) for x in range(26)]\n",
    "key = k1, k2 = (Zp(choice(k1_domain)), Zp(choice(k2_domain)))\n",
    "print('Key -', key)"
   ]
  },
  {
   "cell_type": "markdown",
   "metadata": {},
   "source": [
    "Using the definition of affine cypher, we can encrypt each character of text using -\n",
    "\n",
    "C = (P x k1 + k2) mod 26"
   ]
  },
  {
   "cell_type": "code",
   "execution_count": 94,
   "metadata": {},
   "outputs": [],
   "source": [
    "def affinecipher(text, cipher_key):\n",
    "    cipher = ''\n",
    "    k1, k2 = cipher_key\n",
    "    for letter in text:\n",
    "        text_value = (ord(letter) - ord('A')) % 26 # convert letter to its numerical value\n",
    "        \n",
    "        cipher_value = (text_value * k1 + k2) % 26 # convert to cipher value\n",
    "        \n",
    "        cipher += chr(int(cipher_value) + ord('A')) # conver cipher value to character\n",
    "        \n",
    "    return cipher\n",
    "\n",
    "def inv(x, m):\n",
    "    x = x % m\n",
    "    for i in range(m):\n",
    "        if (x * i) % m == 1:\n",
    "            return i\n",
    "    return 1\n",
    "\n",
    "def affinedecipher(cipher_text, cipher_key):\n",
    "    text = ''\n",
    "    k1, k2 = cipher_key\n",
    "    for letter in cipher_text:\n",
    "        cipher_value = (ord(letter) - ord('A')) % 26 # convert letter to its numerical value\n",
    "        \n",
    "        text_value = ((cipher_value - k2) * inv(k1, 26)) % 26 # convert to cipher value\n",
    "        \n",
    "        text += chr(int(text_value) + ord('A')) # conver cipher value to character\n",
    "        \n",
    "    return text"
   ]
  },
  {
   "cell_type": "code",
   "execution_count": 95,
   "metadata": {},
   "outputs": [
    {
     "name": "stdout",
     "output_type": "stream",
     "text": [
      "Given text - \"Enemy is going to attack today. Please beware!\"\n",
      "Encoded - ENEMYISGOINGTOATTACKTODAYPLEASEBEWARE\n",
      "Key - (1, 2)\n",
      "Cipher text - GPGOAKUIQKPIVQCVVCEMVQFCARNGCUGDGYCTG\n",
      "Decipher text - ENEMYISGOINGTOATTACKTODAYPLEASEBEWARE\n"
     ]
    }
   ],
   "source": [
    "T = encode(P)\n",
    "C = affinecipher(T, key)\n",
    "D = affinedecipher(C, key)\n",
    "print(f'Given text - \"{P}\"')\n",
    "print(f'Encoded - {T}')\n",
    "print(f'Key - {key}')\n",
    "print(f'Cipher text - {C}')\n",
    "print(f'Decipher text - {D}')"
   ]
  },
  {
   "cell_type": "markdown",
   "metadata": {},
   "source": [
    "## Test Against Builtin Cipher"
   ]
  },
  {
   "cell_type": "markdown",
   "metadata": {},
   "source": [
    "Now, we can test the result against the built in Affine Cipher in sagemath."
   ]
  },
  {
   "cell_type": "code",
   "execution_count": 96,
   "metadata": {},
   "outputs": [
    {
     "name": "stdout",
     "output_type": "stream",
     "text": [
      "Text - Enemy is going to attack today. Please beware!\n",
      "Encoded - ENEMYISGOINGTOATTACKTODAYPLEASEBEWARE\n",
      "Key - (1, 2)\n",
      "Cipher text - GPGOAKUIQKPIVQCVVCEMVQFCARNGCUGDGYCTG\n",
      "Decipher text - ENEMYISGOINGTOATTACKTODAYPLEASEBEWARE\n"
     ]
    }
   ],
   "source": [
    "A = AffineCryptosystem(AlphabeticStrings())\n",
    "E = A.encoding(P)\n",
    "print(f'Text - {P}')\n",
    "print(f'Encoded - {E}')\n",
    "print(f'Key - ({k1}, {k2})')\n",
    "C_test = A.enciphering(int(k1), int(k2), E)\n",
    "D_test = A.deciphering(int(k1), int(k2), C_test)\n",
    "\n",
    "# convert to python string\n",
    "C_test = str(C_test)\n",
    "D_test = str(D_test)\n",
    "print(f'Cipher text - {C_test}')\n",
    "print(f'Decipher text - {D_test}')"
   ]
  },
  {
   "cell_type": "markdown",
   "metadata": {},
   "source": [
    "Comparing the built in cipher result with our implementation -"
   ]
  },
  {
   "cell_type": "code",
   "execution_count": 97,
   "metadata": {},
   "outputs": [
    {
     "name": "stdout",
     "output_type": "stream",
     "text": [
      "Results \t Implementation \t Built-in\n",
      "\n",
      "Cipher Text \t GPGOAKUIQKPIVQCVVCEMVQFCARNGCUGDGYCTG \t GPGOAKUIQKPIVQCVVCEMVQFCARNGCUGDGYCTG\n",
      "Decipher Text \t ENEMYISGOINGTOATTACKTODAYPLEASEBEWARE \t ENEMYISGOINGTOATTACKTODAYPLEASEBEWARE\n",
      "\n",
      "Implementation is CORRECT\n"
     ]
    }
   ],
   "source": [
    "print('Results \\t Implementation \\t Built-in\\n')\n",
    "print(f'Cipher Text \\t {C} \\t {C_test}')\n",
    "print(f'Decipher Text \\t {D} \\t {D_test}\\n')\n",
    "if C_test == C and D_test == D:\n",
    "    print('Implementation is CORRECT')\n",
    "else:\n",
    "    print('Implementatiokn is INCORRECT')"
   ]
  },
  {
   "cell_type": "markdown",
   "metadata": {},
   "source": [
    "## Cryptoanalysis"
   ]
  },
  {
   "cell_type": "markdown",
   "metadata": {},
   "source": [
    "### Brute Force Attack"
   ]
  },
  {
   "cell_type": "markdown",
   "metadata": {},
   "source": [
    "Since we know the key domain for the given cipher algorithm, we can run a brute force attack on the cryptosystem using a list of keys possible within the domain."
   ]
  },
  {
   "cell_type": "code",
   "execution_count": 98,
   "metadata": {},
   "outputs": [
    {
     "name": "stdout",
     "output_type": "stream",
     "text": [
      "Total keys - 312\n"
     ]
    }
   ],
   "source": [
    "key_list = []\n",
    "for i in k1_domain:\n",
    "    for j in k2_domain:\n",
    "        t = (i, j)\n",
    "        key_list.append((i, j))\n",
    "print(f'Total keys - {len(key_list)}')"
   ]
  },
  {
   "cell_type": "markdown",
   "metadata": {},
   "source": [
    "We must now get a list of english words that can be used to detect existence of english words in our bruteforced decipher text.\n",
    "\n",
    "A good list of 3000 most used english words is here -\n",
    "https://github.com/aneeshsharma/EnglishWords/raw/main/common3000.txt\n",
    "\n",
    "We download the list of words and convert it to a list"
   ]
  },
  {
   "cell_type": "code",
   "execution_count": 99,
   "metadata": {},
   "outputs": [],
   "source": [
    "import requests\n",
    "url = 'https://github.com/aneeshsharma/EnglishWords/raw/main/common3000.txt'\n",
    "\n",
    "words_file = requests.get(url, allow_redirects=True)\n",
    "words_file_obj = open('words.txt', 'wb')\n",
    "words_file_obj.write(words_file.content)\n",
    "words_file_obj.close()"
   ]
  },
  {
   "cell_type": "code",
   "execution_count": 100,
   "metadata": {},
   "outputs": [],
   "source": [
    "words = open('words.txt').read().split()"
   ]
  },
  {
   "cell_type": "code",
   "execution_count": 101,
   "metadata": {},
   "outputs": [
    {
     "name": "stdout",
     "output_type": "stream",
     "text": [
      "Number of words in dictionary - 3000\n"
     ]
    }
   ],
   "source": [
    "words = [word.upper() for word in words]\n",
    "print(f'Number of words in dictionary - {len(words)}')"
   ]
  },
  {
   "cell_type": "code",
   "execution_count": 102,
   "metadata": {},
   "outputs": [],
   "source": [
    "# function to find english words in a string according to word list\n",
    "def find_words(string):\n",
    "    l = len(string)\n",
    "    found = []\n",
    "    for i in range(l):\n",
    "        for j in range(i, l):\n",
    "            word = string[i:j+1]\n",
    "            if len(word) <= 1:\n",
    "                continue\n",
    "            if word in words:\n",
    "                found.append(string[i:j+1])\n",
    "    return found"
   ]
  },
  {
   "cell_type": "markdown",
   "metadata": {},
   "source": [
    "Now, we must try to decipher the encrypted text using the list of keys we have and try to compare and count any english words found in the text. More the words detected, more likely is it that the key is correct."
   ]
  },
  {
   "cell_type": "code",
   "execution_count": 103,
   "metadata": {},
   "outputs": [
    {
     "name": "stdout",
     "output_type": "stream",
     "text": [
      "Key \t\t Likelihood\n",
      "(1, 1) \t\t 4\n",
      "(1, 2) \t\t 15\n",
      "(1, 4) \t\t 4\n",
      "(1, 14) \t\t 4\n",
      "(1, 24) \t\t 8\n",
      "(3, 0) \t\t 4\n",
      "(3, 10) \t\t 4\n",
      "(3, 12) \t\t 6\n",
      "(3, 15) \t\t 4\n",
      "(3, 16) \t\t 5\n",
      "(3, 18) \t\t 4\n",
      "(3, 22) \t\t 5\n",
      "(5, 16) \t\t 5\n",
      "(7, 6) \t\t 7\n",
      "(7, 8) \t\t 8\n",
      "(7, 19) \t\t 4\n",
      "(7, 24) \t\t 4\n",
      "(9, 1) \t\t 4\n",
      "(9, 19) \t\t 4\n",
      "(9, 20) \t\t 4\n",
      "(11, 2) \t\t 5\n",
      "(11, 5) \t\t 5\n",
      "(11, 12) \t\t 4\n",
      "(11, 16) \t\t 7\n",
      "(11, 18) \t\t 7\n",
      "(11, 19) \t\t 5\n",
      "(15, 0) \t\t 5\n",
      "(15, 2) \t\t 5\n",
      "(15, 4) \t\t 4\n",
      "(15, 13) \t\t 5\n",
      "(15, 15) \t\t 4\n",
      "(15, 16) \t\t 5\n",
      "(15, 18) \t\t 5\n",
      "(17, 0) \t\t 4\n",
      "(17, 4) \t\t 4\n",
      "(17, 6) \t\t 4\n",
      "(17, 11) \t\t 4\n",
      "(17, 13) \t\t 5\n",
      "(19, 0) \t\t 4\n",
      "(19, 4) \t\t 5\n",
      "(19, 6) \t\t 5\n",
      "(19, 12) \t\t 4\n",
      "(19, 15) \t\t 4\n",
      "(19, 16) \t\t 4\n",
      "(19, 22) \t\t 6\n",
      "(19, 25) \t\t 4\n",
      "(21, 2) \t\t 7\n",
      "(21, 4) \t\t 5\n",
      "(21, 6) \t\t 4\n",
      "(21, 8) \t\t 6\n",
      "(21, 20) \t\t 7\n",
      "(23, 2) \t\t 4\n",
      "(23, 11) \t\t 4\n",
      "(23, 16) \t\t 4\n",
      "(23, 18) \t\t 6\n",
      "(23, 21) \t\t 5\n",
      "(25, 6) \t\t 6\n",
      "(25, 20) \t\t 5\n",
      "(25, 24) \t\t 4\n"
     ]
    }
   ],
   "source": [
    "import re\n",
    "results = []\n",
    "\n",
    "keys = {}\n",
    "max_words = 0\n",
    "for candidate in key_list:\n",
    "    candidate_text = affinedecipher(C, candidate)\n",
    "    found = find_words(candidate_text)\n",
    "    if len(found) > 3:\n",
    "        if len(found) > max_words:\n",
    "            max_words = len(found)\n",
    "        keys[candidate] = len(found)\n",
    "\n",
    "print('Key \\t\\t Likelihood')\n",
    "for likely_key in keys:\n",
    "    print(f'{likely_key} \\t\\t {keys[likely_key]}')"
   ]
  },
  {
   "cell_type": "markdown",
   "metadata": {},
   "source": [
    "Now that we have a list of keys and their likelihood of being correct, we can display the keys and the possible plain text, in-order of likelihood."
   ]
  },
  {
   "cell_type": "code",
   "execution_count": 104,
   "metadata": {},
   "outputs": [
    {
     "name": "stdout",
     "output_type": "stream",
     "text": [
      "Key \t\t\t Likelihood\n",
      "ENEMYISGOINGTOATTACKTODAYPLEASEBEWARE \t\t\t 15\n",
      "IRIQCMWKSMRKXSEXXEGOXSHECTPIEWIFIAEVI \t\t\t 8\n",
      "WBWMKEYAQEBANQONNOSINQHOKFXWOYWDWGOJW \t\t\t 8\n",
      "AFAQOICEUIFERUSRRSWMRULSOJBASCAHAKSNA \t\t\t 7\n",
      "SHSOIQYEAQHERAURRUGCRAZUITVSUYSNSWUFS \t\t\t 7\n",
      "GVGCWEMSOEVSFOIFFIUQFONIWHJGIMGBGKITG \t\t\t 7\n",
      "UNUIQOMESONERSARRAKYRSPAQXDUAMUFUGAHU \t\t\t 7\n",
      "IBIWECASGCBSFGOFFOYMFGDOELRIOAITIUOVI \t\t\t 7\n",
      "YBYSWIUQKIBQDKODDOGADKPOWTJYOUYXYEOLY \t\t\t 6\n",
      "GBGQSYECMYBCPMOPPOKUPMVOSXFGOEGZGWOTG \t\t\t 6\n",
      "QJQEMKIAOKJANOWNNWGUNOLWMTZQWIQBQCWDQ \t\t\t 6\n",
      "EBEKGUIMSUBMZSOZZOWCZSNOGJTEOIEFEYORE \t\t\t 6\n",
      "ARASGWMYQWRYLQELLECULQBEGPTAEMADAIENA \t\t\t 6\n",
      "OROIMYKGAYRGTAETTEWQTAFEMJZOEKONOUEBO \t\t\t 5\n",
      "MPMGKWIEYWPERYCRRCUORYDCKHXMCIMLMSCZM \t\t\t 5\n",
      "YFYKCEGOAEFOBASBBSIUBADSCVPYSGYNYMSLY \t\t\t 5\n",
      "YNYUOWEKGWNKXGAXXAMIXGFAOZBYAEYTYCALY \t\t\t 5\n",
      "TITPJRZFBRIFSBVSSVHDSBAVJUWTVZTOTXVGT \t\t\t 5\n",
      "NCNJDLTZVLCZMVPMMPBXMVUPDOQNPTNINRPAN \t\t\t 5\n",
      "QBQUASKEISBERIORROCGRIJOAPNQOKQVQMODQ \t\t\t 5\n",
      "CNCGMEWQUENQDUADDAOSDUVAMBZCAWCHCYAPC \t\t\t 5\n",
      "DODHNFXRVFOREVBEEBPTEVWBNCADBXDIDZBQD \t\t\t 5\n",
      "ITIMSKCWAKTWJAGJJGUYJABGSHFIGCINIEGVI \t\t\t 5\n",
      "UFUYEWOIMWFIVMSVVSGKVMNSETRUSOUZUQSHU \t\t\t 5\n",
      "VUVXNJFPRJUPCRHCCHBDCRYHNOAVHFVEVTHIV \t\t\t 5\n",
      "WRWGIOUSCORSFCEFFEAKFCLEINVWEUWPWMEJW \t\t\t 5\n",
      "AVAKMSYWGSVWJGIJJIEOJGPIMRZAIYATAQINA \t\t\t 5\n",
      "KDKYGECUIEDUHIQHHQAOHIFQGNTKQCKVKWQXK \t\t\t 5\n",
      "FCFLHVJNTVCNATPAAPXDATOPHKUFPJFGFZPSF \t\t\t 5\n",
      "OFOGUKAMEKFMZESZZSQIZEPSUDHOSAOROWSBO \t\t\t 5\n",
      "FOFNZJTHPJOHUPBUUBDLUPEBZQMFBTFCFXBSF \t\t\t 4\n",
      "CLCKWGQEMGLERMYRRYAIRMBYWNJCYQCZCUYPC \t\t\t 4\n",
      "SBSAMWGUCWBUHCOHHOQYHCROMDZSOGSPSKOFS \t\t\t 4\n",
      "CFCWAMYUOMFUHOSHHSKEHOTSAXNCSYCBCISPC \t\t\t 4\n",
      "QTQKOAMICATIVCGVVGYSVCHGOLBQGMQPQWGDQ \t\t\t 4\n",
      "XAXRVHTPJHAPCJNCCNFZCJONVSIXNTXWXDNKX \t\t\t 4\n",
      "WZWQUGSOIGZOBIMBBMEYBINMURHWMSWVWCMJW \t\t\t 4\n",
      "NSNDBVPRHVSREHFEEFJZEHYFBWONFPNUNXFAN \t\t\t 4\n",
      "QVQGEYSUKYVUHKIHHIMCHKBIEZRQISQXQAIDQ \t\t\t 4\n",
      "PQPNXBFVTBQVITDIIDJHITMDXWKPDFPGPRDCP \t\t\t 4\n",
      "NONLVZDTRZOTGRBGGBHFGRKBVUINBDNENPBAN \t\t\t 4\n",
      "KLKISWAQOWLQDOYDDYECDOHYSRFKYAKBKMYXK \t\t\t 4\n",
      "QFQMGOWCYOFCPYSPPSEAPYXSGRTQSWQLQUSDQ \t\t\t 4\n",
      "OZOSYQICGQZCPGMPPMAEPGHMYNLOMIOTOKMBO \t\t\t 4\n",
      "PAPTZRJDHRADQHNQQNBFQHINZOMPNJPUPLNCP \t\t\t 4\n",
      "IHIKAWSCEWHCPEUPPUOQPELUABNIUSIRIGUVI \t\t\t 4\n",
      "UTUWMIEOQITOBQGBBGACBQXGMNZUGEUDUSGHU \t\t\t 4\n",
      "AZACSOKUWOZUHWMHHMGIHWDMSTFAMKAJAYMNA \t\t\t 4\n",
      "POPRHDZJLDOJWLBWWBVXWLSBHIUPBZPYPNBCP \t\t\t 4\n",
      "OJOYAGMKUGJKXUWXXWSCXUDWAFNOWMOHOEWBO \t\t\t 4\n",
      "MHMWYEKISEHIVSUVVUQAVSBUYDLMUKMFMCUZM \t\t\t 4\n",
      "FAFPRXDBLXABOLNOONJTOLUNRWEFNDFYFVNSF \t\t\t 4\n",
      "UPUEGMSQAMPQDACDDCYIDAJCGLTUCSUNUKCHU \t\t\t 4\n",
      "ZUZJLRXVFRUVIFHIIHDNIFOHLQYZHXZSZPHMZ \t\t\t 4\n",
      "ATAOWUSKYUTKXYGXXGQEXYVGWDJAGSALAMGNA \t\t\t 4\n",
      "QNQWSGUYEGNYLEALLAIOLEZASVFQAUQRQKADQ \t\t\t 4\n",
      "TQTZVJXBHJQBOHDOODLROHCDVYITDXTUTNDGT \t\t\t 4\n",
      "MJMSOCQUACJUHAWHHWEKHAVWORBMWQMNMGWZM \t\t\t 4\n",
      "SJSKYOEQIOJQDIWDDWUMDITWYHLSWESVSAWFS \t\t\t 4\n"
     ]
    }
   ],
   "source": [
    "text_list = [[] for _ in range(max_words + 1)]\n",
    "for likely_key in keys:\n",
    "    count = keys[likely_key]\n",
    "    text_list[count].append(affinedecipher(C, likely_key))\n",
    "\n",
    "print('Most likely ')\n",
    "for i in range(max_words, 2, -1):\n",
    "    for text in text_list[i]:\n",
    "        print(f'{text} \\t\\t\\t {i}')"
   ]
  },
  {
   "cell_type": "code",
   "execution_count": null,
   "metadata": {},
   "outputs": [],
   "source": []
  }
 ],
 "metadata": {
  "kernelspec": {
   "display_name": "SageMath 9.1",
   "language": "sage",
   "name": "sagemath"
  },
  "language_info": {
   "codemirror_mode": {
    "name": "ipython",
    "version": 3
   },
   "file_extension": ".py",
   "mimetype": "text/x-python",
   "name": "python",
   "nbconvert_exporter": "python",
   "pygments_lexer": "ipython3",
   "version": "3.8.5"
  }
 },
 "nbformat": 4,
 "nbformat_minor": 4
}
