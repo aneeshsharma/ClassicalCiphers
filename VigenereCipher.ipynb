{
 "cells": [
  {
   "cell_type": "markdown",
   "metadata": {},
   "source": [
    "# Vigenere Cipher"
   ]
  },
  {
   "cell_type": "markdown",
   "metadata": {},
   "source": [
    "Vigenere cipher is an encryption technique, which can be considered an extension of shift cipher, where we have a stream of keys that are used to shift the plain text characters to produce the cipher text. This makes it more secure than shift cipher as not all characters are shifted by the same amount, making it harder to run statistical analysis and key domain is much larger making it hard to brute force.\n",
    "\n",
    "For example, if we decide the key stream to be -\n",
    "\n",
    "(2, 5, 3, 9)\n",
    "\n",
    "Then the 1st character is shifted by 2, 2nd by 5 and so on. This is repeated over after 4 characters i.e. 5th character is shifted by 2, 6th by 5 and so on."
   ]
  },
  {
   "cell_type": "markdown",
   "metadata": {},
   "source": [
    "## Implementation"
   ]
  },
  {
   "cell_type": "markdown",
   "metadata": {},
   "source": [
    "Firstly we define an encoding function that will be used to take plaintext and convert it to a 26 character encoding. (By converting all letters to upper case and discarding all remaining characters)."
   ]
  },
  {
   "cell_type": "code",
   "execution_count": 163,
   "metadata": {},
   "outputs": [],
   "source": [
    "def encode(string):\n",
    "    result = ''\n",
    "    for letter in string:\n",
    "        if letter.isalpha():\n",
    "            result += letter.upper()\n",
    "    return result"
   ]
  },
  {
   "cell_type": "markdown",
   "metadata": {},
   "source": [
    "Lets declare a plain text that we would need to encrypt."
   ]
  },
  {
   "cell_type": "code",
   "execution_count": 164,
   "metadata": {},
   "outputs": [],
   "source": [
    "P = 'Julius Caesar used a cryptosystem in his wars, which is now referred to as Caesar cipher. It is an additive cipher with the key set to three. Each character in the plaintext is shifted three characters to create ciphertext'"
   ]
  },
  {
   "cell_type": "markdown",
   "metadata": {},
   "source": [
    "Encoding this string, we get -"
   ]
  },
  {
   "cell_type": "code",
   "execution_count": 165,
   "metadata": {},
   "outputs": [
    {
     "name": "stdout",
     "output_type": "stream",
     "text": [
      "JULIUSCAESARUSEDACRYPTOSYSTEMINHISWARSWHICHISNOWREFERREDTOASCAESARCIPHERITISANADDITIVECIPHERWITHTHEKEYSETTOTHREEEACHCHARACTERINTHEPLAINTEXTISSHIFTEDTHREECHARACTERSTOCREATECIPHERTEXT\n"
     ]
    }
   ],
   "source": [
    "T = encode(P)\n",
    "print(T)"
   ]
  },
  {
   "cell_type": "markdown",
   "metadata": {},
   "source": [
    "Since we will be only having 26 characters, we declare Zp as closed ring of 26 integers."
   ]
  },
  {
   "cell_type": "code",
   "execution_count": 166,
   "metadata": {},
   "outputs": [
    {
     "name": "stdout",
     "output_type": "stream",
     "text": [
      "Ring of integers modulo 26\n"
     ]
    }
   ],
   "source": [
    "Zp = Integers(26)\n",
    "print(Zp)"
   ]
  },
  {
   "cell_type": "markdown",
   "metadata": {},
   "source": [
    "We also declare the key length, for this example, we take the key length as M = 4. Having a larger key would increase the scurity of the cipher."
   ]
  },
  {
   "cell_type": "code",
   "execution_count": 167,
   "metadata": {},
   "outputs": [],
   "source": [
    "M = 4"
   ]
  },
  {
   "cell_type": "markdown",
   "metadata": {},
   "source": [
    "We now declare a key which is a sequence of M random characters."
   ]
  },
  {
   "cell_type": "code",
   "execution_count": 168,
   "metadata": {},
   "outputs": [],
   "source": [
    "characters = [chr(i + ord('A')) for i in range(26)]\n",
    "key = ''\n",
    "for _ in range(M):\n",
    "    key += choice(characters)"
   ]
  },
  {
   "cell_type": "code",
   "execution_count": 169,
   "metadata": {},
   "outputs": [
    {
     "name": "stdout",
     "output_type": "stream",
     "text": [
      "Key - IPTB\n"
     ]
    }
   ],
   "source": [
    "print('Key -', key)"
   ]
  },
  {
   "cell_type": "code",
   "execution_count": 170,
   "metadata": {},
   "outputs": [],
   "source": [
    "def vigenerecipher(text, cipher_key):\n",
    "    cipher = ''\n",
    "    # i iterates over the key characters\n",
    "    i = 0\n",
    "    \n",
    "    for e in text:\n",
    "        text_value = ord(e) - ord('A')\n",
    "        k = ord(cipher_key[i]) - ord('A')\n",
    "        \n",
    "        i += 1\n",
    "        # if key length is reached, go back to 0th character of key\n",
    "        if i >= M:\n",
    "            i = 0\n",
    "        \n",
    "        cipher_value = (text_value + k) % 26\n",
    "        cipher += chr(int(cipher_value) + ord('A'))\n",
    "    return cipher\n",
    "    \n",
    "\n",
    "def vigeneredecipher(cipher_text, cipher_key):\n",
    "    text = ''\n",
    "    # i iterates over the key characters\n",
    "    i = 0\n",
    "    \n",
    "    for e in cipher_text:\n",
    "        cipher_value = ord(e) - ord('A')\n",
    "        k = ord(cipher_key[i]) - ord('A')\n",
    "        \n",
    "        i += 1\n",
    "        # if key length is reached, go back to 0th character of key\n",
    "        if i >= M:\n",
    "            i = 0\n",
    "        \n",
    "        text_value = (cipher_value - k) % 26\n",
    "        text += chr(int(text_value) + ord('A'))\n",
    "    return text\n",
    "    "
   ]
  },
  {
   "cell_type": "markdown",
   "metadata": {},
   "source": [
    "Now we test the cipher and decipher algorithms by encrypting and decrypting the text P"
   ]
  },
  {
   "cell_type": "code",
   "execution_count": 171,
   "metadata": {},
   "outputs": [
    {
     "name": "stdout",
     "output_type": "stream",
     "text": [
      "Given text - \"Julius Caesar used a cryptosystem in his wars, which is now referred to as Caesar cipher. It is an additive cipher with the key set to three. Each character in the plaintext is shifted three characters to create ciphertext\"\n",
      "Encoded - JULIUSCAESARUSEDACRYPTOSYSTEMINHISWARSWHICHISNOWREFERREDTOASCAESARCIPHERITISANADDITIVECIPHERWITHTHEKEYSETTOTHREEEACHCHARACTERINTHEPLAINTEXTISSHIFTEDTHREECHARACTERSTOCREATECIPHERTEXT\n",
      "Key - IPTB\n",
      "Cipher text - RJEJCHVBMHTSCHXEIRKZXIHTGHMFUXGIQHPBZHPIQRAJACHXZTYFZGXEBDTTKPXTIGVJXWXSQIBTICTELXMJDTVJXWXSEXMIBWXLMNLFBIHUPGXFMPVIKWTSIRMFZXGUPTIMIXGUMMMJAHAJNIXEBWKFMRABZPVUMGLUWRKFIIXDQEAFZIXYB\n",
      "Decipher text - JULIUSCAESARUSEDACRYPTOSYSTEMINHISWARSWHICHISNOWREFERREDTOASCAESARCIPHERITISANADDITIVECIPHERWITHTHEKEYSETTOTHREEEACHCHARACTERINTHEPLAINTEXTISSHIFTEDTHREECHARACTERSTOCREATECIPHERTEXT\n"
     ]
    }
   ],
   "source": [
    "T = encode(P)\n",
    "C = vigenerecipher(T, key)\n",
    "D = vigeneredecipher(C, key)\n",
    "print(f'Given text - \"{P}\"')\n",
    "print(f'Encoded - {T}')\n",
    "print(f'Key - {key}')\n",
    "print(f'Cipher text - {C}')\n",
    "print(f'Decipher text - {D}')"
   ]
  },
  {
   "cell_type": "markdown",
   "metadata": {},
   "source": [
    "## Test Against Builtin Cipher"
   ]
  },
  {
   "cell_type": "markdown",
   "metadata": {},
   "source": [
    "Now, we can test the result against the built in Hill Cipher in sagemath."
   ]
  },
  {
   "cell_type": "code",
   "execution_count": 172,
   "metadata": {},
   "outputs": [
    {
     "name": "stdout",
     "output_type": "stream",
     "text": [
      "Text - Julius Caesar used a cryptosystem in his wars, which is now referred to as Caesar cipher. It is an additive cipher with the key set to three. Each character in the plaintext is shifted three characters to create ciphertext\n",
      "Encoded - JULIUSCAESARUSEDACRYPTOSYSTEMINHISWARSWHICHISNOWREFERREDTOASCAESARCIPHERITISANADDITIVECIPHERWITHTHEKEYSETTOTHREEEACHCHARACTERINTHEPLAINTEXTISSHIFTEDTHREECHARACTERSTOCREATECIPHERTEXT\n",
      "Key -\bIPTB\n",
      "Cipher text - RJEJCHVBMHTSCHXEIRKZXIHTGHMFUXGIQHPBZHPIQRAJACHXZTYFZGXEBDTTKPXTIGVJXWXSQIBTICTELXMJDTVJXWXSEXMIBWXLMNLFBIHUPGXFMPVIKWTSIRMFZXGUPTIMIXGUMMMJAHAJNIXEBWKFMRABZPVUMGLUWRKFIIXDQEAFZIXYB\n",
      "Decipher text - JULIUSCAESARUSEDACRYPTOSYSTEMINHISWARSWHICHISNOWREFERREDTOASCAESARCIPHERITISANADDITIVECIPHERWITHTHEKEYSETTOTHREEEACHCHARACTERINTHEPLAINTEXTISSHIFTEDTHREECHARACTERSTOCREATECIPHERTEXT\n"
     ]
    }
   ],
   "source": [
    "A = VigenereCryptosystem(AlphabeticStrings(), M)\n",
    "E = A.encoding(P)\n",
    "K = A.encoding(key)\n",
    "print(f'Text - {P}')\n",
    "print(f'Encoded - {E}')\n",
    "print(f'Key -\\b{key}')\n",
    "C_test = A.enciphering(K, E)\n",
    "D_test = A.deciphering(K, C_test)\n",
    "\n",
    "# convert to python string\n",
    "C_test = str(C_test)\n",
    "D_test = str(D_test)\n",
    "\n",
    "print(f'Cipher text - {C_test}')\n",
    "print(f'Decipher text - {D_test}')"
   ]
  },
  {
   "cell_type": "markdown",
   "metadata": {},
   "source": [
    "Comparing the built in cipher result with our implementation -"
   ]
  },
  {
   "cell_type": "code",
   "execution_count": 173,
   "metadata": {},
   "outputs": [
    {
     "name": "stdout",
     "output_type": "stream",
     "text": [
      "Results \t Implementation \t Built-in\n",
      "--------------------------------------------------------------------------------\n",
      "Cipher Text \t RJEJCHVBMHTSCHXEIRKZXIHTGHMFUXGIQHPBZHPIQRAJACHXZTYFZGXEBDTTKPXTIGVJXWXSQIBTICTELXMJDTVJXWXSEXMIBWXLMNLFBIHUPGXFMPVIKWTSIRMFZXGUPTIMIXGUMMMJAHAJNIXEBWKFMRABZPVUMGLUWRKFIIXDQEAFZIXYB \t RJEJCHVBMHTSCHXEIRKZXIHTGHMFUXGIQHPBZHPIQRAJACHXZTYFZGXEBDTTKPXTIGVJXWXSQIBTICTELXMJDTVJXWXSEXMIBWXLMNLFBIHUPGXFMPVIKWTSIRMFZXGUPTIMIXGUMMMJAHAJNIXEBWKFMRABZPVUMGLUWRKFIIXDQEAFZIXYB\n",
      "Decipher Text \t JULIUSCAESARUSEDACRYPTOSYSTEMINHISWARSWHICHISNOWREFERREDTOASCAESARCIPHERITISANADDITIVECIPHERWITHTHEKEYSETTOTHREEEACHCHARACTERINTHEPLAINTEXTISSHIFTEDTHREECHARACTERSTOCREATECIPHERTEXT \t JULIUSCAESARUSEDACRYPTOSYSTEMINHISWARSWHICHISNOWREFERREDTOASCAESARCIPHERITISANADDITIVECIPHERWITHTHEKEYSETTOTHREEEACHCHARACTERINTHEPLAINTEXTISSHIFTEDTHREECHARACTERSTOCREATECIPHERTEXT\n",
      "\n",
      "Implementation is CORRECT\n"
     ]
    }
   ],
   "source": [
    "print('Results \\t Implementation \\t Built-in')\n",
    "print('-' * 80)\n",
    "print(f'Cipher Text \\t {C} \\t {C_test}')\n",
    "print(f'Decipher Text \\t {D} \\t {D_test}\\n')\n",
    "if C_test == C and D_test == D:\n",
    "    print('Implementation is CORRECT')\n",
    "else:\n",
    "    print('Implementatiokn is INCORRECT')"
   ]
  },
  {
   "cell_type": "markdown",
   "metadata": {},
   "source": [
    "## Cryptoanalysis"
   ]
  },
  {
   "cell_type": "markdown",
   "metadata": {},
   "source": [
    "### Brute Force Attack"
   ]
  },
  {
   "cell_type": "markdown",
   "metadata": {},
   "source": [
    "For a small key length, a brute force attack can be used against Vigenere Cipher by trying all possible combination of keys which are 26^M.\n",
    "\n",
    "> Note this can only be carried out if key length is known\n",
    "\n",
    "We define all possible keys as -"
   ]
  },
  {
   "cell_type": "code",
   "execution_count": 174,
   "metadata": {},
   "outputs": [
    {
     "name": "stdout",
     "output_type": "stream",
     "text": [
      "Total keys - 456976\n"
     ]
    }
   ],
   "source": [
    "k = 0\n",
    "values = [0] * M\n",
    "key_list = []\n",
    "\n",
    "def values_to_string(array):\n",
    "    string = ''\n",
    "    for v in array:\n",
    "        string += chr(int(v) + ord('A'))\n",
    "    return string\n",
    "\n",
    "def check_values(array):\n",
    "    for v in array:\n",
    "        if v < 26:\n",
    "            return True\n",
    "    return False\n",
    "\n",
    "while values[M-1] < 26:\n",
    "    key_list.append(values_to_string(values))\n",
    "    values[0] += 1\n",
    "    for j in range(M - 1):\n",
    "        if values[j] >= 26:\n",
    "            values[j] = 0\n",
    "            values[j+1] += 1\n",
    "    \n",
    "print('Total keys -', len(key_list))"
   ]
  },
  {
   "cell_type": "markdown",
   "metadata": {},
   "source": [
    "We must now get a list of english words that can be used to detect existence of english words in our bruteforced decipher text.\n",
    "\n",
    "A good list of 3000 most used english words is here -\n",
    "https://github.com/aneeshsharma/EnglishWords/raw/main/common3000.txt\n",
    "\n",
    "We download the list of words and convert it to a list and then convert all words into upper case."
   ]
  },
  {
   "cell_type": "code",
   "execution_count": 175,
   "metadata": {},
   "outputs": [],
   "source": [
    "import requests\n",
    "url = 'https://github.com/aneeshsharma/EnglishWords/raw/main/common3000.txt'\n",
    "\n",
    "words_file = requests.get(url, allow_redirects=True)\n",
    "words_file_obj = open('words.txt', 'wb')\n",
    "words_file_obj.write(words_file.content)\n",
    "words_file_obj.close()"
   ]
  },
  {
   "cell_type": "code",
   "execution_count": 176,
   "metadata": {},
   "outputs": [],
   "source": [
    "words = open('words.txt').read().split()\n",
    "words = [word.upper() for word in words]"
   ]
  },
  {
   "cell_type": "code",
   "execution_count": 177,
   "metadata": {},
   "outputs": [
    {
     "name": "stdout",
     "output_type": "stream",
     "text": [
      "Number of words in dictionary - 3000\n"
     ]
    }
   ],
   "source": [
    "print(f'Number of words in dictionary - {len(words)}')"
   ]
  },
  {
   "cell_type": "code",
   "execution_count": 178,
   "metadata": {},
   "outputs": [],
   "source": [
    "# function to find english words in a string according to word list\n",
    "def find_words(string):\n",
    "    l = len(string)\n",
    "    found = []\n",
    "    for i in range(l):\n",
    "        for j in range(i, l):\n",
    "            word = string[i:j+1]\n",
    "            if len(word) <= 1:\n",
    "                continue\n",
    "            if word in words:\n",
    "                found.append(string[i:j+1])\n",
    "    return found"
   ]
  },
  {
   "cell_type": "code",
   "execution_count": null,
   "metadata": {},
   "outputs": [],
   "source": [
    "keys = {}\n",
    "max_words = 0\n",
    "for i in range(len(key_list)):\n",
    "    candidate = key_list[i]\n",
    "    print(f'Currently at - {i}\\r')\n",
    "    candidate_text = vigeneredecipher(C, candidate)\n",
    "    found = find_words(candidate_text)\n",
    "    if len(found) > 3:\n",
    "        if len(found) > max_words:\n",
    "            max_words = len(found)\n",
    "        keys[candidate] = len(found)\n",
    "\n",
    "print('Key \\t\\t Likelihood')\n",
    "for likely_key in keys:\n",
    "    print(f'{likely_key} \\t\\t {keys[likely_key]}')"
   ]
  },
  {
   "cell_type": "markdown",
   "metadata": {},
   "source": [
    "Now that we have a list of keys and their likelihood of being correct, we can display the keys and the possible plain text that are the most likely to be correct."
   ]
  },
  {
   "cell_type": "code",
   "execution_count": null,
   "metadata": {},
   "outputs": [],
   "source": [
    "text_list = [[] for _ in range(max_words + 1)]\n",
    "for likely_key in keys:\n",
    "    count = keys[likely_key]\n",
    "    text_list[count].append(shiftdecipher(C, likely_key))\n",
    "\n",
    "print('Most likely strings -')\n",
    "for text in text_list[max_words]:\n",
    "    print(f'{text}')"
   ]
  },
  {
   "cell_type": "markdown",
   "metadata": {},
   "source": [
    "### Kasiski's Analysis"
   ]
  },
  {
   "cell_type": "markdown",
   "metadata": {},
   "source": [
    "In Kaisiski's analysis, we must search for repeated characters (in segments) and find the difference between the repeated parts. The key should be a multiple of the GCD of the differences we obtain.\n",
    "\n",
    "> Note that this method is only effictive when the plain text (and thus the cipher text) is very large, as for small text, it is unlikely to encounter repeating segments\n",
    "\n",
    "We start be finding repeating patterns of 3 characters in the cipher text."
   ]
  },
  {
   "cell_type": "code",
   "execution_count": null,
   "metadata": {},
   "outputs": [],
   "source": [
    "N = 3 # segment size\n",
    "\n",
    "segments = {}\n",
    "for i in range(len(C) - N):\n",
    "    segment = C[i:i + N]\n",
    "    seg = ''.join(segment)\n",
    "    for j in range(i + N, len(C) - N):\n",
    "        if segment == C[j:j+N]:\n",
    "            segments[seg] = j - i\n",
    "            break\n",
    "\n",
    "print(segments)"
   ]
  },
  {
   "cell_type": "markdown",
   "metadata": {},
   "source": [
    "Now, we find the GCD of the differences that we found."
   ]
  },
  {
   "cell_type": "code",
   "execution_count": null,
   "metadata": {},
   "outputs": [],
   "source": [
    "num_list = [segments[k] for k in segments]\n",
    "factor = gcd(num_list)\n",
    "print('GCD = ', factor)"
   ]
  },
  {
   "cell_type": "markdown",
   "metadata": {},
   "source": [
    "We can say that the key length must be a factor of `factor` (GCD). We need to explore all keys of lengths as multiple of `factor` and then, run statistical analysis with each multiple to find the key.\n",
    "\n",
    "First we divide the cipher text into `factor` parts C1, C2, C3 ... where C1 is shifted by k1, C2 by k2 and so on."
   ]
  },
  {
   "cell_type": "code",
   "execution_count": null,
   "metadata": {},
   "outputs": [],
   "source": [
    "C_parts = []\n",
    "for i in range(factor):\n",
    "    part = ''\n",
    "    for j in range(i, len(C), factor):\n",
    "        part += C[j]\n",
    "    C_parts.append(part)\n",
    "\n",
    "print('Parts -')\n",
    "for i in range(factor):\n",
    "    print(f'C{i+1} - {C_parts[i]}')"
   ]
  },
  {
   "cell_type": "markdown",
   "metadata": {},
   "source": [
    "We get the frequency of all alphabets in English language. The file at - https://github.com/aneeshsharma/EnglishWords/blob/main/character_frequency.json is a json file with frequency of all letters in English language."
   ]
  },
  {
   "cell_type": "code",
   "execution_count": null,
   "metadata": {},
   "outputs": [],
   "source": [
    "import requests\n",
    "url = 'https://github.com/aneeshsharma/EnglishWords/raw/main/character_frequency.json'\n",
    "\n",
    "characters_list = requests.get(url, allow_redirects=True)\n",
    "characters_file_obj = open('characters.json', 'wb')\n",
    "characters_file_obj.write(characters_list.content)\n",
    "characters_file_obj.close()"
   ]
  },
  {
   "cell_type": "code",
   "execution_count": null,
   "metadata": {},
   "outputs": [],
   "source": [
    "def dict_to_sorted_tuple(d):\n",
    "    d = [(key, d[key]) for key in d]\n",
    "    return sorted(d, key=lambda item: -item[1])"
   ]
  },
  {
   "cell_type": "code",
   "execution_count": null,
   "metadata": {},
   "outputs": [],
   "source": [
    "import json\n",
    "frequencies_file = json.loads(open('characters.json', 'r').read())\n",
    "frequencies = dict_to_sorted_tuple(frequencies_file)"
   ]
  },
  {
   "cell_type": "code",
   "execution_count": null,
   "metadata": {},
   "outputs": [],
   "source": [
    "frequencies"
   ]
  },
  {
   "cell_type": "markdown",
   "metadata": {},
   "source": [
    "Now, we try to map the most frequent character in each cipher text to the most frequenct character in English language and check, then move onto next most frequent english character and so on."
   ]
  },
  {
   "cell_type": "code",
   "execution_count": null,
   "metadata": {},
   "outputs": [],
   "source": [
    "def frequency(string):\n",
    "    f = {}\n",
    "    for x in string:\n",
    "        if x in f:\n",
    "            f[x] += 1\n",
    "        else:\n",
    "            f[x] = 1\n",
    "    return f"
   ]
  },
  {
   "cell_type": "code",
   "execution_count": null,
   "metadata": {},
   "outputs": [],
   "source": [
    "C_freq = []\n",
    "for i in range(factor):\n",
    "    C_freq.append(dict_to_sorted_tuple(frequency(C_parts[i])))\n",
    "print(C_freq)"
   ]
  },
  {
   "cell_type": "markdown",
   "metadata": {},
   "source": [
    "Now, we must try to decipher the encrypted text using the list of keys we have and try to compare and count any english words found in the text. More the words detected, more likely is it that the key is correct."
   ]
  },
  {
   "cell_type": "code",
   "execution_count": null,
   "metadata": {},
   "outputs": [],
   "source": [
    "index = [0] * factor\n",
    "candidate_values = [0] * factor\n",
    "\n",
    "# check if reached end of alphabet for each part\n",
    "def check_index(ind):\n",
    "    for i in ind:\n",
    "        if i < 25:\n",
    "            return True\n",
    "    return False\n",
    "\n",
    "statistic_keys = {}\n",
    "max_words = 0\n",
    "while index[factor - 1] < 26:\n",
    "    for i in range(factor):\n",
    "        check_char = frequencies[index[i]][0]\n",
    "        freq_char = C_freq[i][0][0]\n",
    "        candidate_values[i] = (ord(freq_char) - ord(check_char)) % 26\n",
    "    candidate = values_to_string(candidate_values)\n",
    "    candidate_text = vigeneredecipher(C, candidate)\n",
    "    found = find_words(candidate_text)\n",
    "    if len(found) > 3:\n",
    "        if len(found) > max_words:\n",
    "            print('new max!\\n', candidate_text)\n",
    "            max_words = len(found)\n",
    "        statistic_keys[candidate] = len(found)\n",
    "    \n",
    "    # increment index\n",
    "    index[0] += 1\n",
    "    for j in range(M - 1):\n",
    "        if index[j] >= 26:\n",
    "            index[j] = 0\n",
    "            index[j+1] += 1\n",
    "    "
   ]
  },
  {
   "cell_type": "code",
   "execution_count": null,
   "metadata": {},
   "outputs": [],
   "source": [
    "print('Key \\t\\t Likelihood')\n",
    "for likely_key in statistic_keys:\n",
    "    print(f'{likely_key} \\t\\t {statistic_keys[likely_key]}')"
   ]
  },
  {
   "cell_type": "code",
   "execution_count": null,
   "metadata": {},
   "outputs": [],
   "source": [
    "text_list = [[] for _ in range(max_words + 1)]\n",
    "for likely_key in statistic_keys:\n",
    "    count = statistic_keys[likely_key]\n",
    "    text_list[count].append(vigeneredecipher(C, likely_key))\n",
    "\n",
    "print('Most likely strings -')\n",
    "for text in text_list[max_words]:\n",
    "    print(f'{text}')"
   ]
  }
 ],
 "metadata": {
  "kernelspec": {
   "display_name": "SageMath 9.1",
   "language": "sage",
   "name": "sagemath"
  },
  "language_info": {
   "codemirror_mode": {
    "name": "ipython",
    "version": 3
   },
   "file_extension": ".py",
   "mimetype": "text/x-python",
   "name": "python",
   "nbconvert_exporter": "python",
   "pygments_lexer": "ipython3",
   "version": "3.8.5"
  }
 },
 "nbformat": 4,
 "nbformat_minor": 4
}
