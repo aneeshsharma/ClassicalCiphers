{
 "cells": [
  {
   "cell_type": "markdown",
   "metadata": {},
   "source": [
    "# Vigenere Cipher"
   ]
  },
  {
   "cell_type": "markdown",
   "metadata": {},
   "source": [
    "Vigenere cipher is an encryption technique, which can be considered an extension of shift cipher, where we have a stream of keys that are used to shift the plain text characters to produce the cipher text. This makes it more secure than shift cipher as not all characters are shifted by the same amount, making it harder to run statistical analysis and key domain is much larger making it hard to brute force.\n",
    "\n",
    "For example, if we decide the key stream to be -\n",
    "\n",
    "(2, 5, 3, 9)\n",
    "\n",
    "Then the 1st character is shifted by 2, 2nd by 5 and so on. This is repeated over after 4 characters i.e. 5th character is shifted by 2, 6th by 5 and so on."
   ]
  },
  {
   "cell_type": "markdown",
   "metadata": {},
   "source": [
    "## Implementation"
   ]
  },
  {
   "cell_type": "markdown",
   "metadata": {},
   "source": [
    "Firstly we define an encoding function that will be used to take plaintext and convert it to a 26 character encoding. (By converting all letters to upper case and discarding all remaining characters)."
   ]
  },
  {
   "cell_type": "code",
   "execution_count": 3,
   "metadata": {},
   "outputs": [],
   "source": [
    "def encode(string):\n",
    "    result = ''\n",
    "    for letter in string:\n",
    "        if letter.isalpha():\n",
    "            result += letter.upper()\n",
    "    return result"
   ]
  },
  {
   "cell_type": "markdown",
   "metadata": {},
   "source": [
    "Lets declare a plain text that we would need to encrypt."
   ]
  },
  {
   "cell_type": "code",
   "execution_count": 4,
   "metadata": {},
   "outputs": [],
   "source": [
    "P = 'Enemy can attack tonight. Stay alert!'"
   ]
  },
  {
   "cell_type": "markdown",
   "metadata": {},
   "source": [
    "Encoding this string, we get -"
   ]
  },
  {
   "cell_type": "code",
   "execution_count": 5,
   "metadata": {},
   "outputs": [
    {
     "name": "stdout",
     "output_type": "stream",
     "text": [
      "ENEMYCANATTACKTONIGHTSTAYALERT\n"
     ]
    }
   ],
   "source": [
    "T = encode(P)\n",
    "print(T)"
   ]
  },
  {
   "cell_type": "markdown",
   "metadata": {},
   "source": [
    "Since we will be only having 26 characters, we declare Zp as closed ring of 26 integers."
   ]
  },
  {
   "cell_type": "code",
   "execution_count": 6,
   "metadata": {},
   "outputs": [
    {
     "name": "stdout",
     "output_type": "stream",
     "text": [
      "Ring of integers modulo 26\n"
     ]
    }
   ],
   "source": [
    "Zp = Integers(26)\n",
    "print(Zp)"
   ]
  },
  {
   "cell_type": "markdown",
   "metadata": {},
   "source": [
    "We also declare the key length, for this example, we take the key length as M = 5. Having a larger key would increase the scurity of the cipher."
   ]
  },
  {
   "cell_type": "code",
   "execution_count": 14,
   "metadata": {},
   "outputs": [],
   "source": [
    "M = 5"
   ]
  },
  {
   "cell_type": "markdown",
   "metadata": {},
   "source": [
    "We now declare a key which is a sequence of M random characters."
   ]
  },
  {
   "cell_type": "code",
   "execution_count": 15,
   "metadata": {},
   "outputs": [],
   "source": [
    "characters = [chr(i + ord('A')) for i in range(26)]\n",
    "key = ''\n",
    "for _ in range(M):\n",
    "    key += choice(characters)"
   ]
  },
  {
   "cell_type": "code",
   "execution_count": 16,
   "metadata": {},
   "outputs": [
    {
     "name": "stdout",
     "output_type": "stream",
     "text": [
      "Key - WQRJZ\n"
     ]
    }
   ],
   "source": [
    "print('Key -', key)"
   ]
  },
  {
   "cell_type": "code",
   "execution_count": 21,
   "metadata": {},
   "outputs": [],
   "source": [
    "def vigenerecipher(text, cipher_key):\n",
    "    cipher = ''\n",
    "    # i iterates over the key characters\n",
    "    i = 0\n",
    "    \n",
    "    for e in text:\n",
    "        text_value = ord(e) - ord('A')\n",
    "        k = ord(cipher_key[i]) - ord('A')\n",
    "        \n",
    "        i += 1\n",
    "        # if key length is reached, go back to 0th character of key\n",
    "        if i >= M:\n",
    "            i = 0\n",
    "        \n",
    "        cipher_value = (text_value + k) % 26\n",
    "        cipher += chr(int(cipher_value) + ord('A'))\n",
    "    return cipher\n",
    "    \n",
    "\n",
    "def vigeneredecipher(cipher_text, cipher_key):\n",
    "    text = ''\n",
    "    # i iterates over the key characters\n",
    "    i = 0\n",
    "    \n",
    "    for e in cipher_text:\n",
    "        cipher_value = ord(e) - ord('A')\n",
    "        k = ord(cipher_key[i]) - ord('A')\n",
    "        \n",
    "        i += 1\n",
    "        # if key length is reached, go back to 0th character of key\n",
    "        if i >= M:\n",
    "            i = 0\n",
    "        \n",
    "        text_value = (cipher_value - k) % 26\n",
    "        text += chr(int(text_value) + ord('A'))\n",
    "    return text\n",
    "    "
   ]
  },
  {
   "cell_type": "markdown",
   "metadata": {},
   "source": [
    "Now we test the cipher and decipher algorithms by encrypting and decrypting the text P"
   ]
  },
  {
   "cell_type": "code",
   "execution_count": 22,
   "metadata": {},
   "outputs": [
    {
     "name": "stdout",
     "output_type": "stream",
     "text": [
      "Given text - \"Enemy can attack tonight. Stay alert!\"\n",
      "Encoded - ENEMYCANATTACKTONIGHTSTAYALERT\n",
      "Key - WQRJZ\n",
      "Cipher text - ADVVXYQEJSPQTTSKDZPGPIKJXWBVAS\n",
      "Decipher text - ENEMYCANATTACKTONIGHTSTAYALERT\n"
     ]
    }
   ],
   "source": [
    "T = encode(P)\n",
    "C = vigenerecipher(T, key)\n",
    "D = vigeneredecipher(C, key)\n",
    "print(f'Given text - \"{P}\"')\n",
    "print(f'Encoded - {T}')\n",
    "print(f'Key - {key}')\n",
    "print(f'Cipher text - {C}')\n",
    "print(f'Decipher text - {D}')"
   ]
  },
  {
   "cell_type": "markdown",
   "metadata": {},
   "source": [
    "## Test Against Builtin Cipher"
   ]
  },
  {
   "cell_type": "markdown",
   "metadata": {},
   "source": [
    "Now, we can test the result against the built in Hill Cipher in sagemath."
   ]
  },
  {
   "cell_type": "code",
   "execution_count": 23,
   "metadata": {},
   "outputs": [
    {
     "name": "stdout",
     "output_type": "stream",
     "text": [
      "Text - Enemy can attack tonight. Stay alert!\n",
      "Encoded - ENEMYCANATTACKTONIGHTSTAYALERT\n",
      "Key -\bWQRJZ\n",
      "Cipher text - ADVVXYQEJSPQTTSKDZPGPIKJXWBVAS\n",
      "Decipher text - ENEMYCANATTACKTONIGHTSTAYALERT\n"
     ]
    }
   ],
   "source": [
    "A = VigenereCryptosystem(AlphabeticStrings(), M)\n",
    "E = A.encoding(P)\n",
    "K = A.encoding(key)\n",
    "print(f'Text - {P}')\n",
    "print(f'Encoded - {E}')\n",
    "print(f'Key -\\b{key}')\n",
    "C_test = A.enciphering(K, E)\n",
    "D_test = A.deciphering(K, C_test)\n",
    "\n",
    "# convert to python string\n",
    "C_test = str(C_test)\n",
    "D_test = str(D_test)\n",
    "\n",
    "print(f'Cipher text - {C_test}')\n",
    "print(f'Decipher text - {D_test}')"
   ]
  },
  {
   "cell_type": "markdown",
   "metadata": {},
   "source": [
    "Comparing the built in cipher result with our implementation -"
   ]
  },
  {
   "cell_type": "code",
   "execution_count": 26,
   "metadata": {},
   "outputs": [
    {
     "name": "stdout",
     "output_type": "stream",
     "text": [
      "Results \t Implementation \t Built-in\n",
      "--------------------------------------------------------------------------------\n",
      "Cipher Text \t ADVVXYQEJSPQTTSKDZPGPIKJXWBVAS \t ADVVXYQEJSPQTTSKDZPGPIKJXWBVAS\n",
      "Decipher Text \t ENEMYCANATTACKTONIGHTSTAYALERT \t ENEMYCANATTACKTONIGHTSTAYALERT\n",
      "\n",
      "Implementation is CORRECT\n"
     ]
    }
   ],
   "source": [
    "print('Results \\t Implementation \\t Built-in')\n",
    "print('-' * 80)\n",
    "print(f'Cipher Text \\t {C} \\t {C_test}')\n",
    "print(f'Decipher Text \\t {D} \\t {D_test}\\n')\n",
    "if C_test == C and D_test == D:\n",
    "    print('Implementation is CORRECT')\n",
    "else:\n",
    "    print('Implementatiokn is INCORRECT')"
   ]
  },
  {
   "cell_type": "markdown",
   "metadata": {},
   "source": [
    "## Cryptoanalysis"
   ]
  }
 ],
 "metadata": {
  "kernelspec": {
   "display_name": "SageMath 9.1",
   "language": "sage",
   "name": "sagemath"
  },
  "language_info": {
   "codemirror_mode": {
    "name": "ipython",
    "version": 3
   },
   "file_extension": ".py",
   "mimetype": "text/x-python",
   "name": "python",
   "nbconvert_exporter": "python",
   "pygments_lexer": "ipython3",
   "version": "3.8.5"
  }
 },
 "nbformat": 4,
 "nbformat_minor": 4
}
